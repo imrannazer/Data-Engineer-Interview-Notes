{
 "cells": [
  {
   "cell_type": "markdown",
   "id": "f9918c89-4bc8-4147-9502-7efec76c6526",
   "metadata": {},
   "source": [
    "**Q. What is the difference between union and union all**\n",
    "***\n",
    "**A.**\n",
    "- ` UNION ` only returns unique\n",
    "- ` UNION ALL ` returns all records, including duplicates."
   ]
  },
  {
   "cell_type": "markdown",
   "id": "ee02c8af-f5b0-42e2-968e-361a98161b98",
   "metadata": {},
   "source": [
    "**Q. Find 5th highest salary? with & without rank functions?**\n",
    "***\n",
    "**A.**\n",
    "- With rank function                 \n",
    "<code> select *,                    \n",
    " row_number() over(order by salary) AS list_sal                      \n",
    " from second_table            \n",
    " where list_sal = 4;           \n",
    "</code>\n",
    "- Without rank function\n",
    "  - select four height salary rows                 \n",
    "<code>Select * \n",
    "from \n",
    "(select * from second_table order by salary desc limit 4) as T \n",
    "order by T.salary limit 1;\n",
    "</code>\n",
    "  - select with limit and offset                          \n",
    "<code>select *\n",
    "from second_table\n",
    "order by salary\n",
    "limit 1 offset 4;\n",
    "</code>"
   ]
  },
  {
   "cell_type": "markdown",
   "id": "78589167-500e-4248-9342-7eb84e616830",
   "metadata": {},
   "source": [
    "**Q. I have 2 tables and I need both the table data?**\n",
    "***\n",
    "**A.** Use union"
   ]
  },
  {
   "cell_type": "markdown",
   "id": "14f44658-db7c-479b-927f-143dc4db3247",
   "metadata": {},
   "source": [
    "**Q. We need all the employees who are getting more salary than the manager**\n",
    "***\n",
    "**A.**\n",
    "\n",
    "<code>select * \n",
    "from second_table  \n",
    "where salary > (select salary  \n",
    "from second_table  \n",
    "where department = 'HR');   \n",
    "</code>"
   ]
  },
  {
   "cell_type": "markdown",
   "id": "5db97151-b242-4664-bb8d-69db66c00d82",
   "metadata": {},
   "source": [
    "**Q. We have a table with duplicates. Generally, we use distinct for that. without using distinct how to do it.**\n",
    "***\n",
    "**A.**\n",
    "- select distinct row by using row_number                      \n",
    "  <code>select id, first_name, last_name, email,\n",
    "  row_number() over (partition by first_name, last_name, email)\n",
    "  from contacts;\n",
    "  </code>\n",
    "\n",
    "- select duplicate row by using aggrigetion                          \n",
    "  <code>select first_name, last_name, email, count(1) \n",
    "from employee \n",
    "group by first_name, last_name, email having count(1) > 1;</code>"
   ]
  },
  {
   "cell_type": "markdown",
   "id": "c2a0dc62-d0f8-4146-8a38-b789648343ad",
   "metadata": {},
   "source": [
    "**Q. What is the CTE(common table expression) and how is it used in my MySQL table**\n",
    "***\n",
    "**A.**\n",
    "\n",
    "- A common table expression, or CTE, is a temporary named result set created from a simple SELECT statement that can be used in a subsequent SELECT statement.\n",
    "- We can define CTEs by adding a WITH clause directly before ` SELECT `, ` INSERT `, ` UPDATE `, ` DELETE `, or ` MERGE ` statement\n",
    "- The WITH clause can include one or more CTEs separated by commas\n",
    "\n",
    "<code>\n",
    "with my_cte AS (select num, count(num)\n",
    "                from mynumbers\n",
    "                group by num\n",
    "                having count(num) < 2)\n",
    "select max(num) AS num from my_cte;\n",
    "</code>\n"
   ]
  },
  {
   "cell_type": "markdown",
   "id": "fc3a7643-532a-42d3-a21d-1bf7a03f1e7c",
   "metadata": {},
   "source": [
    "| Pattern    | What the Pattern Matches                                              |\r\n",
    "|------------|------------------------------------------------------------------------|\r\n",
    "| *          | Zero or more instances of the string preceding it                    |\r\n",
    "| +          | One or more instances of the strings preceding it                     |\r\n",
    "| .          | Any single character                                                 |\r\n",
    "| ?          | Match zero or one instances of the strings preceding it               |\r\n",
    "| ^          | Caret (^) matches the beginning of the string                        |\r\n",
    "| $          | End of string                                                         |\r\n",
    "| [abc]      | Any character listed between the square brackets                      |\r\n",
    "| [^abc]     | Any character not listed between the square brackets                  |\r\n",
    "| [A-Z]      | Match any uppercase letter                                            |\r\n",
    "| [a-z]      | Match any lowercase letter                                            |\r\n",
    "| [0-9]      | Match any digit from 0 through 9                                      |\r\n",
    "| [[:<:]]    | Matches the beginning of words                                        |\r\n",
    "| [[:>:]]    | Matches the end of words                                              |\r\n",
    "| [:class:]  | Matches a character class, e.g., [:alpha:] to match letters, [:space:] to match white space, [:punct:] to match punctuations, and [:upper:] for uppercase letters |\r\n",
    "| p1\\|p2\\|p3 | Alternation; matches any of the patterns p1, p2, or p3                |\r\n",
    "| {n}        | n instances of the preceding element                                  |\r\n",
    "| {m,n}      | m through n instances of the preceding element                        |\r\n",
    "^[ns]';`  |\r\n"
   ]
  },
  {
   "cell_type": "markdown",
   "id": "71e2d6e2-16ea-469e-b0f2-ce356e8c1384",
   "metadata": {},
   "source": []
  },
  {
   "cell_type": "markdown",
   "id": "c1face2c-3b73-4087-893f-9005b24cd5b4",
   "metadata": {},
   "source": []
  },
  {
   "cell_type": "markdown",
   "id": "114f3ec0-4fc5-45bd-ba0d-078ac3ded924",
   "metadata": {},
   "source": [
    "**Q. What is the RegEx in MySQL and how use it**\n",
    "***\n",
    "**A.**\n",
    "\n",
    "#### **SELECT * FROM `learnerdetails` WHERE `course_name` REGEXP patern;**\n",
    "\n"
   ]
  },
  {
   "cell_type": "markdown",
   "id": "2cf39b44-d531-46e9-836e-f9099a30724a",
   "metadata": {},
   "source": [
    "<table>\r\n",
    "<thead>\r\n",
    "<tr>\r\n",
    "<th>Pattern</th>\r\n",
    "<th>What the Pattern matches</th>\r\n",
    "</tr>\r\n",
    "</thead>\r\n",
    "<tbody>\r\n",
    "<tr>\r\n",
    "<td>*</td>\r\n",
    "<td>Zero or more instances of string preceding it</td>\r\n",
    "</tr>\r\n",
    "<tr>\r\n",
    "<td>+</td>\r\n",
    "<td>One or more instances of strings preceding it</td>\r\n",
    "</tr>\r\n",
    "<tr>\r\n",
    "<td>.</td>\r\n",
    "<td>Any single character</td>\r\n",
    "</tr>\r\n",
    "<tr>\r\n",
    "<td>?</td>\r\n",
    "<td>Match zero or one instances of the strings preceding it.</td>\r\n",
    "</tr>\r\n",
    "<tr>\r\n",
    "<td>^</td>\r\n",
    "<td>caret(^) matches Beginning of string</td>\r\n",
    "</tr>\r\n",
    "<tr>\r\n",
    "<td>$</td>\r\n",
    "<td>End of string</td>\r\n",
    "</tr>\r\n",
    "<tr>\r\n",
    "<td>[abc]</td>\r\n",
    "<td>Any character listed between the square brackets</td>\r\n",
    "</tr>\r\n",
    "<tr>\r\n",
    "<td>[^abc]</td>\r\n",
    "<td>Any character not listed between the square brackets</td>\r\n",
    "</tr>\r\n",
    "<tr>\r\n",
    "<td>[A-Z]</td>\r\n",
    "<td>match any upper case letter.</td>\r\n",
    "</tr>\r\n",
    "<tr>\r\n",
    "<td>[a-z]</td>\r\n",
    "<td>match any lower case letter</td>\r\n",
    "</tr>\r\n",
    "<tr>\r\n",
    "<td>[0-9]</td>\r\n",
    "<td>match any digit from 0 through to 9.</td>\r\n",
    "</tr>\r\n",
    "<tr>\r\n",
    "<td>[[:&lt;:]]</td>\r\n",
    "<td>matches the beginning of words.</td>\r\n",
    "</tr>\r\n",
    "<tr>\r\n",
    "<td>[[:&gt;:]]</td>\r\n",
    "<td>matches the end of words.</td>\r\n",
    "</tr>\r\n",
    "<tr>\r\n",
    "<td>[:class:]</td>\r\n",
    "<td>matches a character class i.e<br>. [:alpha:] to match letters, [:space:] to match white space, [:punct:] is match punctuations and [:upper:] for upper class letters.</td>\r\n",
    "</tr>\r\n",
    "<tr>\r\n",
    "<td>p1|p2|p3</td>\r\n",
    "<td>Alternation; matches any of the patterns p1, p2, or p3</td>\r\n",
    "</tr>\r\n",
    "<tr>\r\n",
    "<td>{n}</td>\r\n",
    "<td>n instances of preceding element</td>\r\n",
    "</tr>\r\n",
    "<tr>\r\n",
    "<td>{m,n}</td>\r\n",
    "<td>m through n instances of preceding element</td>\r\n",
    "</tr>\r\n",
    "</tbody>\r\n",
    "</table>"
   ]
  },
  {
   "cell_type": "markdown",
   "id": "e33276cc-9cf5-44fc-960a-746bb8a7500f",
   "metadata": {},
   "source": [
    "**Q. **\n",
    "***\n",
    "**A.**"
   ]
  },
  {
   "cell_type": "markdown",
   "id": "1bd93786-6a8e-4cfa-a8b7-6a65ae5ecbff",
   "metadata": {},
   "source": [
    "**Q. **\n",
    "***\n",
    "**A.**"
   ]
  },
  {
   "cell_type": "markdown",
   "id": "8c14aac6-81d9-4d40-bfdc-09d8028548f2",
   "metadata": {},
   "source": [
    "**Q. **\n",
    "***\n",
    "**A.**"
   ]
  },
  {
   "cell_type": "markdown",
   "id": "e374e71d-aeab-4905-b88c-c8b183b90ef5",
   "metadata": {},
   "source": [
    "**Q. **\n",
    "***\n",
    "**A.**"
   ]
  },
  {
   "cell_type": "markdown",
   "id": "716c3738-8a94-4907-86a0-aa432f4c38db",
   "metadata": {},
   "source": [
    "**Q. **\n",
    "***\n",
    "**A.**"
   ]
  },
  {
   "cell_type": "markdown",
   "id": "5622f954-4ed6-4a16-bb26-57b87b6c69eb",
   "metadata": {},
   "source": [
    "**Q. **\n",
    "***\n",
    "**A.**"
   ]
  },
  {
   "cell_type": "markdown",
   "id": "ecd12fc5-f6b5-40ce-9ad9-114c0fac4072",
   "metadata": {},
   "source": [
    "**Q. **\n",
    "***\n",
    "**A.**"
   ]
  },
  {
   "cell_type": "markdown",
   "id": "d8ee1468-331d-4a2b-9772-fa46a9a2d902",
   "metadata": {},
   "source": [
    "**Q. **\n",
    "***\n",
    "**A.**"
   ]
  },
  {
   "cell_type": "markdown",
   "id": "e53e0074-1718-40c1-a69f-88de28e6412c",
   "metadata": {},
   "source": [
    "**Q. **\n",
    "***\n",
    "**A.**"
   ]
  },
  {
   "cell_type": "markdown",
   "id": "89e0346d-84d1-40ea-acb0-ccb6aa64ca06",
   "metadata": {},
   "source": [
    "**Q. **\n",
    "***\n",
    "**A.**"
   ]
  },
  {
   "cell_type": "markdown",
   "id": "11f8e985-a22b-418b-a7ff-01f46788a69d",
   "metadata": {},
   "source": [
    "**Q. **\n",
    "***\n",
    "**A.**"
   ]
  },
  {
   "cell_type": "markdown",
   "id": "f425c622-2bb1-4074-8198-80301f05b4dd",
   "metadata": {},
   "source": [
    "**Q. **\n",
    "***\n",
    "**A.**"
   ]
  },
  {
   "cell_type": "markdown",
   "id": "5fc1d9ee-39dd-4015-81ce-ecdc8de9b38f",
   "metadata": {},
   "source": []
  },
  {
   "cell_type": "markdown",
   "id": "185e93c9-53c9-4514-8f50-c547c362cc5b",
   "metadata": {},
   "source": []
  },
  {
   "cell_type": "markdown",
   "id": "bf3ecf39-e820-4181-85fe-0a81ffe9ec5f",
   "metadata": {},
   "source": []
  },
  {
   "cell_type": "markdown",
   "id": "d6b1d31e-9462-4e16-8157-63d3f1a5611b",
   "metadata": {},
   "source": []
  },
  {
   "cell_type": "markdown",
   "id": "9c070746-343f-4732-914a-227a87253c4c",
   "metadata": {},
   "source": []
  },
  {
   "cell_type": "markdown",
   "id": "6e2ea654-1779-4cac-a875-dfb51cc0b8ad",
   "metadata": {},
   "source": []
  },
  {
   "cell_type": "markdown",
   "id": "4d2102ef-1fa1-4fc4-929d-6781612cb1f9",
   "metadata": {},
   "source": []
  },
  {
   "cell_type": "markdown",
   "id": "68ca7e84-f1d3-4deb-b2a3-c9bdd854893c",
   "metadata": {},
   "source": []
  },
  {
   "cell_type": "markdown",
   "id": "02e54471-cb9d-4324-8cf2-094689f759e0",
   "metadata": {},
   "source": []
  },
  {
   "cell_type": "markdown",
   "id": "81cc7b44-c5ea-4b9e-8949-f157e20b67e1",
   "metadata": {},
   "source": []
  },
  {
   "cell_type": "markdown",
   "id": "e10854ec-7175-47ec-9a4f-7e5d700e690c",
   "metadata": {},
   "source": []
  },
  {
   "cell_type": "markdown",
   "id": "33d952d7-897f-4c3e-b96c-4c6fa950e7f7",
   "metadata": {},
   "source": []
  },
  {
   "cell_type": "markdown",
   "id": "4dd5b822-63ef-41da-ae25-dbd51af41979",
   "metadata": {},
   "source": []
  },
  {
   "cell_type": "markdown",
   "id": "387176a7-8ab5-4e05-97e6-5d8bac38aefc",
   "metadata": {},
   "source": []
  },
  {
   "cell_type": "markdown",
   "id": "4e1e18fd-e82b-4101-809a-e111ffdd54e7",
   "metadata": {},
   "source": []
  },
  {
   "cell_type": "markdown",
   "id": "87633588-3295-484e-a1c7-866110ba33c7",
   "metadata": {},
   "source": []
  },
  {
   "cell_type": "markdown",
   "id": "8f1ecb69-3296-4bdf-8473-cce30790fb94",
   "metadata": {},
   "source": []
  },
  {
   "cell_type": "markdown",
   "id": "37338737-048a-40bd-8f64-dd98a5901fcd",
   "metadata": {},
   "source": []
  },
  {
   "cell_type": "markdown",
   "id": "b19bc57c-8788-41f8-a992-0caadc53b7ed",
   "metadata": {},
   "source": []
  },
  {
   "cell_type": "markdown",
   "id": "f21ef9a1-3756-46b4-bd06-825cc3837ccb",
   "metadata": {},
   "source": []
  },
  {
   "cell_type": "markdown",
   "id": "6bd4a6c3-90f5-4bc7-8976-ffc8e86ed89c",
   "metadata": {},
   "source": []
  },
  {
   "cell_type": "markdown",
   "id": "d708cd87-113a-4e46-808d-c432c7cf4cc0",
   "metadata": {},
   "source": []
  },
  {
   "cell_type": "markdown",
   "id": "309b13be-3174-47a3-a47a-56ddffcd5278",
   "metadata": {},
   "source": []
  },
  {
   "cell_type": "markdown",
   "id": "bb2f3f1c-0e68-4b76-8694-ec6f25dfbdb2",
   "metadata": {},
   "source": []
  },
  {
   "cell_type": "markdown",
   "id": "7685b285-adc3-431f-982d-f4abcc1114a6",
   "metadata": {},
   "source": []
  },
  {
   "cell_type": "markdown",
   "id": "e35fdb7f-013f-4063-b74e-61bbfc955b95",
   "metadata": {},
   "source": []
  },
  {
   "cell_type": "markdown",
   "id": "4d7440ba-4719-4987-bf74-210ff155d812",
   "metadata": {},
   "source": []
  },
  {
   "cell_type": "markdown",
   "id": "77e449dd-b872-4f1d-9b9a-fc0863afb741",
   "metadata": {},
   "source": []
  },
  {
   "cell_type": "markdown",
   "id": "7e2fac9d-16d6-4e5c-84e0-f140bacaedb4",
   "metadata": {},
   "source": []
  },
  {
   "cell_type": "markdown",
   "id": "b2022b08-f913-4924-ade2-9b65a90cd666",
   "metadata": {},
   "source": []
  },
  {
   "cell_type": "markdown",
   "id": "bb00f3e7-adfd-45e8-a03b-3e629f8dd6c9",
   "metadata": {},
   "source": []
  },
  {
   "cell_type": "markdown",
   "id": "1ed65b7a-2219-4b35-a376-9ef85d36f53a",
   "metadata": {},
   "source": []
  },
  {
   "cell_type": "markdown",
   "id": "b1177954-7eac-4c30-9021-adfe958fd034",
   "metadata": {},
   "source": []
  },
  {
   "cell_type": "markdown",
   "id": "499fc02a-1c49-4c91-aac7-1b6307a751e7",
   "metadata": {},
   "source": []
  },
  {
   "cell_type": "markdown",
   "id": "2afd146e-506c-4204-a325-7f414d4f4dcc",
   "metadata": {},
   "source": []
  },
  {
   "cell_type": "markdown",
   "id": "09f97a87-3c72-4cf9-8def-20ee8b3339cc",
   "metadata": {},
   "source": []
  },
  {
   "cell_type": "markdown",
   "id": "a3a4226a-b1ad-46c2-9528-9e566a7a5dc4",
   "metadata": {},
   "source": []
  },
  {
   "cell_type": "markdown",
   "id": "dd99f07c-16cf-44c9-a597-07165179aef8",
   "metadata": {},
   "source": []
  },
  {
   "cell_type": "markdown",
   "id": "698745ef-d5d9-4f52-a95b-2dc7eca85c57",
   "metadata": {},
   "source": []
  },
  {
   "cell_type": "markdown",
   "id": "c865bfbd-0b52-402e-9414-526deac910ff",
   "metadata": {},
   "source": []
  },
  {
   "cell_type": "markdown",
   "id": "ef5e63f9-e947-401e-ab9e-60f04b92c2bb",
   "metadata": {},
   "source": []
  },
  {
   "cell_type": "markdown",
   "id": "5393ae33-b85d-4d3b-9c19-91326b662325",
   "metadata": {},
   "source": []
  },
  {
   "cell_type": "markdown",
   "id": "2225c9ec-396c-4dab-8b38-176717447d16",
   "metadata": {},
   "source": []
  },
  {
   "cell_type": "markdown",
   "id": "d9bbe2c5-4e5d-47bf-a48c-5e11550cf28c",
   "metadata": {},
   "source": []
  },
  {
   "cell_type": "markdown",
   "id": "0a682775-af44-44a4-bbf2-682f0e483d16",
   "metadata": {},
   "source": []
  },
  {
   "cell_type": "markdown",
   "id": "9db56c47-e5d4-4aa3-ab0e-d41f26661891",
   "metadata": {},
   "source": []
  },
  {
   "cell_type": "markdown",
   "id": "3fcf454e-a6ab-4a30-8339-03cf2fc4fd28",
   "metadata": {},
   "source": []
  },
  {
   "cell_type": "markdown",
   "id": "2cf8d920-ddd0-446f-b982-cc02cd417c86",
   "metadata": {},
   "source": []
  },
  {
   "cell_type": "markdown",
   "id": "02a89d89-919d-48dd-8205-0b8783ca9ee2",
   "metadata": {},
   "source": []
  },
  {
   "cell_type": "markdown",
   "id": "5052a8b7-29f4-4347-a39b-7bae0dd31dd0",
   "metadata": {},
   "source": []
  },
  {
   "cell_type": "markdown",
   "id": "ef475929-8afc-4c89-9ee1-11bf7787ee54",
   "metadata": {},
   "source": []
  },
  {
   "cell_type": "markdown",
   "id": "0514b59c-35eb-4384-a9e7-e430a5d02f28",
   "metadata": {},
   "source": []
  },
  {
   "cell_type": "markdown",
   "id": "f25f42a0-1f5e-4e32-a057-99212b3f0d4a",
   "metadata": {},
   "source": []
  },
  {
   "cell_type": "markdown",
   "id": "b4ef2820-eacb-4e36-8949-2c3e18afadc8",
   "metadata": {},
   "source": []
  },
  {
   "cell_type": "markdown",
   "id": "c8aebc0d-3412-493b-b1c7-68d246d1b7c2",
   "metadata": {},
   "source": []
  },
  {
   "cell_type": "markdown",
   "id": "de33e898-3d5b-40ae-ad52-bd195446b295",
   "metadata": {},
   "source": []
  }
 ],
 "metadata": {
  "kernelspec": {
   "display_name": "Python 3 (ipykernel)",
   "language": "python",
   "name": "python3"
  },
  "language_info": {
   "codemirror_mode": {
    "name": "ipython",
    "version": 3
   },
   "file_extension": ".py",
   "mimetype": "text/x-python",
   "name": "python",
   "nbconvert_exporter": "python",
   "pygments_lexer": "ipython3",
   "version": "3.10.5"
  }
 },
 "nbformat": 4,
 "nbformat_minor": 5
}
