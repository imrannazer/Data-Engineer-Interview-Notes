{
 "cells": [
  {
   "cell_type": "markdown",
   "metadata": {},
   "source": [
    "1. Two Sum"
   ]
  },
  {
   "cell_type": "code",
   "execution_count": 24,
   "metadata": {},
   "outputs": [
    {
     "name": "stdout",
     "output_type": "stream",
     "text": [
      "[1, 4]\n",
      "13\n"
     ]
    }
   ],
   "source": [
    "t = 13\n",
    "l = [4,5,6,7,8]\n",
    "res = []\n",
    "result = []\n",
    "for i in range(len(l)):\n",
    "    a = t - l[i]\n",
    "    a1 = i\n",
    "    b = l[i]\n",
    "    for j in range(i+1,len(l)):\n",
    "        if a==l[j]:\n",
    "            res.append(i)\n",
    "            result.append(l[i])\n",
    "            res.append(j)\n",
    "            result.append(l[j])\n",
    "            break\n",
    "        else:\n",
    "            continue\n",
    "    if sum(result)==t:\n",
    "        break\n",
    "print(res)\n",
    "print(sum(result))"
   ]
  },
  {
   "cell_type": "markdown",
   "metadata": {},
   "source": []
  },
  {
   "cell_type": "markdown",
   "metadata": {},
   "source": [
    "26. Remove Duplicates from Sorted Array"
   ]
  },
  {
   "cell_type": "code",
   "execution_count": 40,
   "metadata": {},
   "outputs": [
    {
     "name": "stdout",
     "output_type": "stream",
     "text": [
      "[1, 2, 3, 4]\n"
     ]
    }
   ],
   "source": [
    "nums = [0,0,1,1,1,2,2,3,3,4]\n",
    "l = []\n",
    "for i in range(1, len(nums)):\n",
    "    if nums[i] != nums[i-1]:\n",
    "        l.append(nums[i])\n",
    "print(l)\n",
    "\n"
   ]
  }
 ],
 "metadata": {
  "kernelspec": {
   "display_name": "Python 3",
   "language": "python",
   "name": "python3"
  },
  "language_info": {
   "codemirror_mode": {
    "name": "ipython",
    "version": 3
   },
   "file_extension": ".py",
   "mimetype": "text/x-python",
   "name": "python",
   "nbconvert_exporter": "python",
   "pygments_lexer": "ipython3",
   "version": "3.10.5"
  }
 },
 "nbformat": 4,
 "nbformat_minor": 2
}
