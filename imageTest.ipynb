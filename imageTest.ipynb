{
 "cells": [
  {
   "cell_type": "markdown",
   "id": "f6d7826b-21cf-46a0-8490-d4a39a97ddfc",
   "metadata": {},
   "source": [
    "## img from dir"
   ]
  },
  {
   "cell_type": "markdown",
   "id": "6b390366-db72-4639-9877-a6ff771991d7",
   "metadata": {},
   "source": [
    "<img src=\"images\\002.png\" alt=\"\">"
   ]
  },
  {
   "cell_type": "markdown",
   "id": "c0cd9a83-6c78-48ec-a949-098153976316",
   "metadata": {},
   "source": [
    "## img from url"
   ]
  },
  {
   "cell_type": "markdown",
   "id": "6c23e963-f6e6-47d3-b90e-eafcf38a0f19",
   "metadata": {},
   "source": [
    "<img src=\"https://cdn.pixabay.com/photo/2023/09/23/11/26/bird-8270722_1280.jpg\" alt=\"Girl in a jacket\" width=\"500\" height=\"600\">"
   ]
  },
  {
   "cell_type": "markdown",
   "id": "6699b213-23a6-464b-987c-e24b1c8f0d42",
   "metadata": {},
   "source": [
    "## markdown dir image"
   ]
  },
  {
   "cell_type": "markdown",
   "id": "c910d8b9-df4c-43ae-bfda-1d74bb562ad2",
   "metadata": {},
   "source": [
    "![image](images\\002.png)"
   ]
  },
  {
   "cell_type": "markdown",
   "id": "e54a56f8-8cfb-43f0-8633-74e4d57ac33e",
   "metadata": {},
   "source": [
    "## markdown URL image"
   ]
  },
  {
   "cell_type": "markdown",
   "id": "e3dbd104-d1f2-4918-ad29-450b17907175",
   "metadata": {},
   "source": [
    "![image](https://cdn.pixabay.com/photo/2023/09/23/11/26/bird-8270722_1280.jpg)"
   ]
  },
  {
   "cell_type": "markdown",
   "id": "1d9700be-88d0-4b42-a714-a713a91888c4",
   "metadata": {},
   "source": []
  },
  {
   "cell_type": "markdown",
   "id": "3ee7552b-20ae-4b9d-8fa3-820560ebdd58",
   "metadata": {},
   "source": []
  },
  {
   "cell_type": "markdown",
   "id": "d4587fa2-083e-404b-8789-5597d4a0f75e",
   "metadata": {},
   "source": [
    "### test this file"
   ]
  },
  {
   "cell_type": "markdown",
   "id": "bfd701e6-eb4c-4775-9550-cd2c945939e1",
   "metadata": {},
   "source": []
  },
  {
   "cell_type": "markdown",
   "id": "8f9e8973-35b2-4404-8bfb-2e9594690108",
   "metadata": {},
   "source": []
  },
  {
   "cell_type": "markdown",
   "id": "c2ae64fc-f2ff-49e1-8a38-ad9e246a1d83",
   "metadata": {},
   "source": []
  },
  {
   "cell_type": "markdown",
   "id": "c9b4b940-72c3-4a91-9a9a-990620834aa6",
   "metadata": {},
   "source": []
  },
  {
   "cell_type": "markdown",
   "id": "340868c6-4dd5-49ae-801c-18e465351e34",
   "metadata": {},
   "source": []
  }
 ],
 "metadata": {
  "kernelspec": {
   "display_name": "Python 3 (ipykernel)",
   "language": "python",
   "name": "python3"
  },
  "language_info": {
   "codemirror_mode": {
    "name": "ipython",
    "version": 3
   },
   "file_extension": ".py",
   "mimetype": "text/x-python",
   "name": "python",
   "nbconvert_exporter": "python",
   "pygments_lexer": "ipython3",
   "version": "3.10.5"
  }
 },
 "nbformat": 4,
 "nbformat_minor": 5
}
