{
 "cells": [
  {
   "cell_type": "code",
   "execution_count": 66,
   "id": "1773503b-a3c2-4cd3-a973-b9800aedc614",
   "metadata": {},
   "outputs": [],
   "source": [
    "import time "
   ]
  },
  {
   "cell_type": "code",
   "execution_count": null,
   "id": "fb4b3384-843c-4207-8d3b-34b4374db2a0",
   "metadata": {},
   "outputs": [],
   "source": [
    "##################################################################################"
   ]
  },
  {
   "cell_type": "code",
   "execution_count": null,
   "id": "76ad20ee-8b37-4d94-9693-21b1955554a8",
   "metadata": {},
   "outputs": [],
   "source": [
    "##################################################################################"
   ]
  },
  {
   "cell_type": "code",
   "execution_count": null,
   "id": "30fec2ca-5f27-4d4f-b857-7f99b8bdb022",
   "metadata": {},
   "outputs": [],
   "source": [
    "##################################################################################"
   ]
  },
  {
   "cell_type": "code",
   "execution_count": null,
   "id": "38ea41a0-fae4-4b39-b713-354058db4609",
   "metadata": {},
   "outputs": [],
   "source": [
    "##################################################################################"
   ]
  },
  {
   "cell_type": "code",
   "execution_count": null,
   "id": "85e58cd7-02bb-414d-b1c7-dd33b48ebae8",
   "metadata": {},
   "outputs": [],
   "source": [
    "##################################################################################"
   ]
  },
  {
   "cell_type": "code",
   "execution_count": null,
   "id": "3647ad65-19d7-4844-b979-a7389de678a4",
   "metadata": {},
   "outputs": [],
   "source": [
    "##################################################################################"
   ]
  },
  {
   "cell_type": "code",
   "execution_count": null,
   "id": "e613158c-8f41-4fae-9abf-ea07b94408ae",
   "metadata": {},
   "outputs": [],
   "source": [
    "##################################################################################"
   ]
  },
  {
   "cell_type": "code",
   "execution_count": null,
   "id": "a14da4e9-d9bc-43ad-8934-43a0e55361fa",
   "metadata": {},
   "outputs": [],
   "source": [
    "##################################################################################"
   ]
  },
  {
   "cell_type": "code",
   "execution_count": null,
   "id": "798dcd6f-7027-4c15-a34c-12ff564beff6",
   "metadata": {},
   "outputs": [],
   "source": [
    "##################################################################################"
   ]
  },
  {
   "cell_type": "code",
   "execution_count": null,
   "id": "414d1e31-cc26-44b8-b75c-7ee3362914ce",
   "metadata": {},
   "outputs": [],
   "source": [
    "##################################################################################"
   ]
  },
  {
   "cell_type": "code",
   "execution_count": null,
   "id": "7fcada8e-bd91-4fc9-b19c-cd7e785736f3",
   "metadata": {},
   "outputs": [],
   "source": [
    "##################################################################################"
   ]
  },
  {
   "cell_type": "code",
   "execution_count": null,
   "id": "f06e9a4c-d804-47f5-a0a3-9565b54e5f4f",
   "metadata": {},
   "outputs": [],
   "source": [
    "##################################################################################"
   ]
  },
  {
   "cell_type": "code",
   "execution_count": null,
   "id": "42bc092e-19aa-475c-96fe-ed312e9de94b",
   "metadata": {},
   "outputs": [],
   "source": [
    "##################################################################################"
   ]
  },
  {
   "cell_type": "code",
   "execution_count": null,
   "id": "e31b0d3c-776f-49d1-980f-8eeaeeb02bb1",
   "metadata": {},
   "outputs": [],
   "source": [
    "##################################################################################"
   ]
  },
  {
   "cell_type": "code",
   "execution_count": null,
   "id": "73d21b38-49b1-416f-afc7-fbc30416c2a0",
   "metadata": {},
   "outputs": [],
   "source": [
    "##################################################################################"
   ]
  },
  {
   "cell_type": "code",
   "execution_count": null,
   "id": "1347b6ef-e2bc-46be-bae4-1d460170f090",
   "metadata": {},
   "outputs": [],
   "source": [
    "##################################################################################"
   ]
  },
  {
   "cell_type": "code",
   "execution_count": null,
   "id": "8e4dc3a9-29bb-4090-bda6-b89f287f58f8",
   "metadata": {},
   "outputs": [],
   "source": [
    "##################################################################################"
   ]
  },
  {
   "cell_type": "code",
   "execution_count": null,
   "id": "0dcd5c85-ef66-42ba-84fc-003b49f38c93",
   "metadata": {},
   "outputs": [],
   "source": [
    "##################################################################################"
   ]
  },
  {
   "cell_type": "code",
   "execution_count": null,
   "id": "22771624-9e3f-45bd-a7d9-09afc534395e",
   "metadata": {},
   "outputs": [],
   "source": [
    "##################################################################################"
   ]
  },
  {
   "cell_type": "code",
   "execution_count": null,
   "id": "f47e7f2b-646c-4955-825c-cd3acbeba68e",
   "metadata": {},
   "outputs": [],
   "source": [
    "##################################################################################"
   ]
  },
  {
   "cell_type": "code",
   "execution_count": null,
   "id": "172270cc-5e2c-4b01-830d-429d72546be2",
   "metadata": {},
   "outputs": [],
   "source": [
    "##################################################################################"
   ]
  },
  {
   "cell_type": "code",
   "execution_count": null,
   "id": "8da52ca5-0cd6-4b53-a934-7090c7f35522",
   "metadata": {},
   "outputs": [],
   "source": [
    "##################################################################################"
   ]
  },
  {
   "cell_type": "code",
   "execution_count": null,
   "id": "38ff1715-5f41-40af-b5f1-eaa9f885e5b4",
   "metadata": {},
   "outputs": [],
   "source": [
    "##################################################################################"
   ]
  },
  {
   "cell_type": "code",
   "execution_count": null,
   "id": "e5ba4480-e1d4-4f9d-ae25-2fcfa0a39522",
   "metadata": {},
   "outputs": [],
   "source": [
    "##################################################################################"
   ]
  },
  {
   "cell_type": "code",
   "execution_count": null,
   "id": "395f90e9-4639-4a66-9397-8c5117e9dc30",
   "metadata": {},
   "outputs": [],
   "source": [
    "##################################################################################"
   ]
  },
  {
   "cell_type": "code",
   "execution_count": null,
   "id": "b27c9e9f-68ca-4fb5-8ed9-8f98ddfcf764",
   "metadata": {},
   "outputs": [],
   "source": [
    "##################################################################################"
   ]
  },
  {
   "cell_type": "code",
   "execution_count": null,
   "id": "cd29834b-e83f-4c23-9ddb-3f309b8c23a8",
   "metadata": {},
   "outputs": [],
   "source": [
    "##################################################################################"
   ]
  },
  {
   "cell_type": "code",
   "execution_count": null,
   "id": "60e7e316-eb61-40db-a4a9-89dfaeeb7d6e",
   "metadata": {},
   "outputs": [],
   "source": [
    "##################################################################################"
   ]
  },
  {
   "cell_type": "code",
   "execution_count": null,
   "id": "73275b65-2d31-4929-9d32-412befffe1a0",
   "metadata": {},
   "outputs": [],
   "source": [
    "##################################################################################"
   ]
  },
  {
   "cell_type": "code",
   "execution_count": null,
   "id": "8cd05b71-2107-48f4-8bf7-056923c22ab5",
   "metadata": {},
   "outputs": [],
   "source": [
    "##################################################################################"
   ]
  },
  {
   "cell_type": "code",
   "execution_count": null,
   "id": "84b8525f-4e39-40ac-82ec-e72e00ca36ed",
   "metadata": {},
   "outputs": [],
   "source": [
    "##################################################################################"
   ]
  },
  {
   "cell_type": "code",
   "execution_count": null,
   "id": "3ea71d4e-457a-4abc-af36-eeaf3766b6ae",
   "metadata": {},
   "outputs": [],
   "source": [
    "##################################################################################"
   ]
  },
  {
   "cell_type": "code",
   "execution_count": null,
   "id": "179a12f1-4f90-45f3-83f5-0ace106383a3",
   "metadata": {},
   "outputs": [],
   "source": [
    "##################################################################################"
   ]
  },
  {
   "cell_type": "code",
   "execution_count": 29,
   "id": "845ed00c-2b9f-4626-8cb7-45d783f64981",
   "metadata": {},
   "outputs": [
    {
     "ename": "TypeError",
     "evalue": "unsupported operand type(s) for ^: 'list' and 'list'",
     "output_type": "error",
     "traceback": [
      "\u001b[1;31m---------------------------------------------------------------------------\u001b[0m",
      "\u001b[1;31mTypeError\u001b[0m                                 Traceback (most recent call last)",
      "Cell \u001b[1;32mIn[29], line 1\u001b[0m\n\u001b[1;32m----> 1\u001b[0m \u001b[43m[\u001b[49m\u001b[38;5;241;43m1\u001b[39;49m\u001b[43m,\u001b[49m\u001b[38;5;241;43m2\u001b[39;49m\u001b[43m,\u001b[49m\u001b[38;5;241;43m3\u001b[39;49m\u001b[43m,\u001b[49m\u001b[38;5;241;43m4\u001b[39;49m\u001b[43m,\u001b[49m\u001b[38;5;241;43m5\u001b[39;49m\u001b[43m]\u001b[49m\u001b[38;5;241;43m^\u001b[39;49m\u001b[43m[\u001b[49m\u001b[38;5;241;43m1\u001b[39;49m\u001b[43m,\u001b[49m\u001b[38;5;241;43m2\u001b[39;49m\u001b[43m,\u001b[49m\u001b[38;5;241;43m3\u001b[39;49m\u001b[43m,\u001b[49m\u001b[38;5;241;43m0\u001b[39;49m\u001b[43m,\u001b[49m\u001b[38;5;241;43m5\u001b[39;49m\u001b[43m]\u001b[49m\n",
      "\u001b[1;31mTypeError\u001b[0m: unsupported operand type(s) for ^: 'list' and 'list'"
     ]
    }
   ],
   "source": []
  },
  {
   "cell_type": "code",
   "execution_count": null,
   "id": "0ee782b7-45dd-4478-9905-ab57744a9493",
   "metadata": {},
   "outputs": [],
   "source": []
  },
  {
   "cell_type": "code",
   "execution_count": 21,
   "id": "fa59f9ca-0ffd-4b0e-8c4b-be18da4be0a9",
   "metadata": {},
   "outputs": [
    {
     "name": "stdout",
     "output_type": "stream",
     "text": [
      "4\n"
     ]
    }
   ],
   "source": [
    "n = 4                              \n",
    "a = [1, 3, 2]\n",
    "for i in range(1,n+1):\n",
    "    if i in a:\n",
    "        continue\n",
    "    else:\n",
    "        print(i)"
   ]
  },
  {
   "cell_type": "code",
   "execution_count": 28,
   "id": "56526f87-e0be-4f1e-8b0e-22de09c5f7ac",
   "metadata": {},
   "outputs": [
    {
     "data": {
      "text/plain": [
       "4"
      ]
     },
     "execution_count": 28,
     "metadata": {},
     "output_type": "execute_result"
    }
   ],
   "source": [
    "r = [i for i in range(1, n+1) if i not in a][0]\n",
    "r"
   ]
  },
  {
   "cell_type": "code",
   "execution_count": null,
   "id": "30c7e8c3-b0f1-4f18-996f-1d84374c53b7",
   "metadata": {},
   "outputs": [],
   "source": []
  },
  {
   "cell_type": "code",
   "execution_count": null,
   "id": "c55a1c48-ae07-453c-94db-af5b567815a0",
   "metadata": {},
   "outputs": [],
   "source": [
    "https://www.geeksforgeeks.org/problems/missing-number4257/1?page=1&category=Arrays&company=Amazon&difficulty=Basic&status=unsolved&sortBy=difficulty"
   ]
  },
  {
   "cell_type": "code",
   "execution_count": null,
   "id": "b261fb3a-dee1-4dbd-88d8-74f02a0727fe",
   "metadata": {},
   "outputs": [],
   "source": [
    "##################################################################################"
   ]
  },
  {
   "cell_type": "code",
   "execution_count": 18,
   "id": "33c57dbb-6c77-4741-8c3e-5526405044a0",
   "metadata": {},
   "outputs": [
    {
     "name": "stdout",
     "output_type": "stream",
     "text": [
      "[1, 2, 3, 4, 5]\n"
     ]
    },
    {
     "data": {
      "text/plain": [
       "3"
      ]
     },
     "execution_count": 18,
     "metadata": {},
     "output_type": "execute_result"
    }
   ],
   "source": [
    "a = [2,4,1,3,5]\n",
    "s = sorted(a)\n",
    "print(s)\n",
    "s[-3]"
   ]
  },
  {
   "cell_type": "code",
   "execution_count": null,
   "id": "77104809-321f-4669-858d-f6c8b435a09a",
   "metadata": {},
   "outputs": [],
   "source": []
  },
  {
   "cell_type": "code",
   "execution_count": null,
   "id": "65493533-da39-4eee-bf52-323db7ccc54d",
   "metadata": {},
   "outputs": [],
   "source": []
  },
  {
   "cell_type": "code",
   "execution_count": null,
   "id": "efecdda3-1067-440f-a32d-ec0009471874",
   "metadata": {},
   "outputs": [],
   "source": [
    "https://www.geeksforgeeks.org/problems/third-largest-element/1?page=1&category=Arrays&company=Amazon&difficulty=Basic&status=unsolved&sortBy=difficulty"
   ]
  },
  {
   "cell_type": "code",
   "execution_count": null,
   "id": "d72d89cd-8eae-4157-b6a0-fc6a0a0a5f1a",
   "metadata": {},
   "outputs": [],
   "source": [
    "##################################################################################"
   ]
  },
  {
   "cell_type": "code",
   "execution_count": 10,
   "id": "797248b6-c06c-49fd-8d1d-14c3e1396184",
   "metadata": {},
   "outputs": [
    {
     "name": "stdout",
     "output_type": "stream",
     "text": [
      "1144\n"
     ]
    }
   ],
   "source": [
    "n = 1144\n",
    "s = str(n)\n",
    "r = int(s.replace('0', '5'))\n",
    "\n",
    "print(r)"
   ]
  },
  {
   "cell_type": "code",
   "execution_count": null,
   "id": "7bf2d6fc-b2ec-4f79-a63e-f8d895e6923d",
   "metadata": {},
   "outputs": [],
   "source": []
  },
  {
   "cell_type": "code",
   "execution_count": null,
   "id": "b274d18a-1f9f-4f2e-bd21-69955d8ddf12",
   "metadata": {},
   "outputs": [],
   "source": []
  },
  {
   "cell_type": "code",
   "execution_count": null,
   "id": "686f2579-38cd-4463-8419-fe558b0594b9",
   "metadata": {},
   "outputs": [],
   "source": [
    "https://www.geeksforgeeks.org/problems/replace-all-0s-with-5/1?page=1&category=Arrays&company=Amazon&difficulty=Basic&status=unsolved&sortBy=difficulty"
   ]
  },
  {
   "cell_type": "code",
   "execution_count": null,
   "id": "d7ee3dee-1803-44e2-a2e7-4c345cf262da",
   "metadata": {},
   "outputs": [],
   "source": [
    "##################################################################################"
   ]
  },
  {
   "cell_type": "code",
   "execution_count": 1,
   "id": "d8f52194-b1eb-48b7-bcde-f05352e29038",
   "metadata": {},
   "outputs": [
    {
     "name": "stdout",
     "output_type": "stream",
     "text": [
      "GOOD\n"
     ]
    }
   ],
   "source": [
    "def alphabet_check(alphabet):\n",
    "    return 'a' <= alphabet <= 'z'\n",
    "\n",
    "def vowel_check(vowel):\n",
    "    return vowel in {'a', 'e', 'i', 'o', 'u'}\n",
    "\n",
    "# the two sequences\n",
    "# X = \"waytocrack\"  # ----  GOOD\n",
    "# X = \"waaaaaaytocrack\"  # --BAD\n",
    "X = \"wayt?arack\"  # mixed\n",
    "\n",
    "# length of the sequences\n",
    "X_len = len(X)\n",
    "Arr = [[0] * 20 for _ in range(2)]\n",
    "max_0 = 0\n",
    "max_1 = 0\n",
    "index = 0\n",
    "mixed_value = False\n",
    "\n",
    "for i in range(X_len):\n",
    "    # alphabet check\n",
    "    if alphabet_check(X[i]):\n",
    "        # vowel check function\n",
    "        if vowel_check(X[i]) == 0:\n",
    "            Arr[0][i + 1] = Arr[0][i] + 1\n",
    "            if Arr[0][i + 1] > max_0:\n",
    "                max_0 = Arr[0][i + 1]  # check for max 0\n",
    "            if mixed_value and max_0 >= 5 and Arr[0][i + 1] >= 5:\n",
    "                if i - index >= 5 or (Arr[1][index] + Arr[0][index + 5] == 7):\n",
    "                    mixed_value = False\n",
    "        else:\n",
    "            Arr[1][i + 1] = Arr[1][i] + 1\n",
    "            if Arr[1][i + 1] > max_1:\n",
    "                max_1 = Arr[1][i + 1]  # check for max 1\n",
    "            if mixed_value and max_1 >= 3 and Arr[1][i + 1] >= 3:\n",
    "                if i - index >= 3 or (Arr[0][index] + Arr[1][index + 3] == 7):\n",
    "                    mixed_value = False\n",
    "\n",
    "        if not mixed_value and (max_0 >= 5 or max_1 >= 3):\n",
    "            print(\"BAD\")\n",
    "            exit(0)\n",
    "    elif X[i] == '?':\n",
    "        Arr[0][i + 1] = Arr[0][i] + 1\n",
    "        if Arr[0][i + 1] > max_0:\n",
    "            max_0 = Arr[0][i + 1]  # check for max 1\n",
    "        Arr[1][i + 1] = Arr[1][i] + 1\n",
    "        if Arr[1][i + 1] > max_1:\n",
    "            max_1 = Arr[1][i + 1]  # check for max 1\n",
    "        index = i\n",
    "        mixed_value = True\n",
    "\n",
    "if mixed_value and (max_0 >= 5 or max_1 >= 3):\n",
    "    print(\"MIXED\")\n",
    "else:\n",
    "    print(\"GOOD\")\n"
   ]
  },
  {
   "cell_type": "code",
   "execution_count": null,
   "id": "40cb87f4-f153-47b4-9f8e-4f6485c897e1",
   "metadata": {},
   "outputs": [],
   "source": []
  },
  {
   "cell_type": "code",
   "execution_count": null,
   "id": "cb342764-87e9-40e3-b581-f7c8b88346c2",
   "metadata": {},
   "outputs": [],
   "source": []
  },
  {
   "cell_type": "code",
   "execution_count": null,
   "id": "f9e40b99-ad38-4298-bd1e-f45ffceccab9",
   "metadata": {},
   "outputs": [],
   "source": [
    "https://www.geeksforgeeks.org/problems/good-or-bad-string1417/1?page=1&category=Strings&company=Amazon&difficulty=Basic&status=unsolved&sortBy=difficulty"
   ]
  },
  {
   "cell_type": "code",
   "execution_count": null,
   "id": "42ac11ea-7195-4c37-9172-dd7bb6d70a5c",
   "metadata": {},
   "outputs": [],
   "source": [
    "##################################################################################"
   ]
  },
  {
   "cell_type": "code",
   "execution_count": null,
   "id": "4ac9c76b-0cf7-4d49-bf5b-3eac9dfc3da0",
   "metadata": {},
   "outputs": [],
   "source": [
    "s='?nrvcxsg?gvbhbninxqxp?fz?jwdrywn?nlmrh?k?sb?sxqxjnuvvlhfib?x?x??ga'\n",
    "for i in s:\n",
    "    if i == '?' and :\n",
    "        i\n",
    "    "
   ]
  },
  {
   "cell_type": "code",
   "execution_count": 38,
   "id": "2f89ec41-ce7b-4ef9-95a3-4e3d4377a341",
   "metadata": {},
   "outputs": [
    {
     "name": "stdout",
     "output_type": "stream",
     "text": [
      "True\n"
     ]
    }
   ],
   "source": [
    "s = 'aeiouphd'\n",
    "vowels = 'aeiou'\n",
    "check\n",
    "if s.isalpha():\n",
    "    \n",
    "else:\n",
    "    print(False)"
   ]
  },
  {
   "cell_type": "code",
   "execution_count": null,
   "id": "58423a71-0ea6-40b5-a840-4017029ff572",
   "metadata": {},
   "outputs": [],
   "source": []
  },
  {
   "cell_type": "code",
   "execution_count": null,
   "id": "cdd59b11-ac83-47af-aab2-5bc4d77902f0",
   "metadata": {},
   "outputs": [],
   "source": []
  },
  {
   "cell_type": "code",
   "execution_count": null,
   "id": "964f3db6-cd62-431a-9eb5-cc3e1b94d6ed",
   "metadata": {},
   "outputs": [],
   "source": []
  },
  {
   "cell_type": "code",
   "execution_count": null,
   "id": "44a70ad8-93e6-4b77-a1ec-888a22cd5f8a",
   "metadata": {},
   "outputs": [],
   "source": [
    "https://www.geeksforgeeks.org/explore?page=1&category=Strings&company=Amazon&difficulty=Basic&status=unsolved&sortBy=difficulty&itm_source=geeksforgeeks&itm_medium=main_header&itm_campaign=practice_header"
   ]
  },
  {
   "cell_type": "code",
   "execution_count": null,
   "id": "670b2244-7d9d-4a94-8de3-4e30d34fcdc5",
   "metadata": {},
   "outputs": [],
   "source": [
    "##################################################################################"
   ]
  },
  {
   "cell_type": "code",
   "execution_count": null,
   "id": "4d3e3942-0856-4ff7-a4b2-b670076fa6c4",
   "metadata": {},
   "outputs": [],
   "source": [
    "s = \"aaabbbccddddd\"\n",
    "compressed_string = \"\"\n",
    "i = 0\n",
    "while i < len(s):\n",
    "    char = s[i]\n",
    "    count = 1\n",
    "    i += 1\n",
    "    while i < len(s) and s[i] == char:\n",
    "        count += 1\n",
    "        i += 1\n",
    "    compressed_string += char + str(count)\n",
    "\n",
    "encrypted_string = compressed_string[::-1]\n"
   ]
  },
  {
   "cell_type": "code",
   "execution_count": 35,
   "id": "5dfef1cd-a156-4569-b57c-53e52562b02a",
   "metadata": {},
   "outputs": [
    {
     "name": "stdout",
     "output_type": "stream",
     "text": [
      "5d2c3b3a\n"
     ]
    }
   ],
   "source": [
    "def encrypt_string(input_string):\n",
    "    compressed_string = \"\"\n",
    "    \n",
    "    # Step 1: Compressing\n",
    "    i = 0\n",
    "    while i < len(input_string):\n",
    "        char = input_string[i]\n",
    "        count = 1\n",
    "        i += 1\n",
    "        while i < len(input_string) and input_string[i] == char:\n",
    "            count += 1\n",
    "            i += 1\n",
    "        compressed_string += char + str(count)\n",
    "    \n",
    "    # Step 2: Encrypting\n",
    "    encrypted_string = compressed_string[::-1]\n",
    "    \n",
    "    return encrypted_string\n",
    "\n",
    "# Example usage:\n",
    "original_string = \"aaabbbccddddd\"\n",
    "encrypted_result = encrypt_string(original_string)\n",
    "print(encrypted_result)\n"
   ]
  },
  {
   "cell_type": "code",
   "execution_count": null,
   "id": "c8a1b8ea-b1f5-4ccb-bf15-5ba36c4d1b73",
   "metadata": {},
   "outputs": [],
   "source": []
  },
  {
   "cell_type": "code",
   "execution_count": null,
   "id": "31b461bb-6412-40fa-968b-503f31074f94",
   "metadata": {},
   "outputs": [],
   "source": [
    "https://www.geeksforgeeks.org/problems/encrypt-the-string-10337/1?page=1&category=Strings&company=Amazon&difficulty=Basic&status=unsolved&sortBy=difficulty"
   ]
  },
  {
   "cell_type": "code",
   "execution_count": null,
   "id": "74c4eef5-8e52-48c3-91cd-721ee33be6bb",
   "metadata": {},
   "outputs": [],
   "source": [
    "##################################################################################"
   ]
  },
  {
   "cell_type": "code",
   "execution_count": 34,
   "id": "fe64714d-9ff2-4db1-a249-a9927ea2d870",
   "metadata": {},
   "outputs": [
    {
     "name": "stdout",
     "output_type": "stream",
     "text": [
      "-1\n"
     ]
    }
   ],
   "source": [
    "import re\n",
    "s = \"geeksforgks\"\n",
    "numeric_values = re.findall(r'\\d+', s)\n",
    "max_numeric_value = max(map(int, numeric_values), default=-1)\n",
    "print(max_numeric_value)\n"
   ]
  },
  {
   "cell_type": "code",
   "execution_count": null,
   "id": "deb3da34-c626-4060-b38b-89f68b61e268",
   "metadata": {},
   "outputs": [],
   "source": []
  },
  {
   "cell_type": "code",
   "execution_count": 30,
   "id": "36f72c37-7866-446c-b382-92a1a76b3741",
   "metadata": {
    "scrolled": true
   },
   "outputs": [
    {
     "name": "stdout",
     "output_type": "stream",
     "text": [
      "[]\n"
     ]
    },
    {
     "ename": "ValueError",
     "evalue": "max() arg is an empty sequence",
     "output_type": "error",
     "traceback": [
      "\u001b[1;31m---------------------------------------------------------------------------\u001b[0m",
      "\u001b[1;31mValueError\u001b[0m                                Traceback (most recent call last)",
      "Cell \u001b[1;32mIn[30], line 9\u001b[0m\n\u001b[0;32m      7\u001b[0m         num_int\u001b[38;5;241m.\u001b[39mappend(\u001b[38;5;28mint\u001b[39m(i))\n\u001b[0;32m      8\u001b[0m     \u001b[38;5;28mprint\u001b[39m(num_int)\n\u001b[1;32m----> 9\u001b[0m     \u001b[38;5;28mprint\u001b[39m(\u001b[38;5;28;43mmax\u001b[39;49m\u001b[43m(\u001b[49m\u001b[43mnum_int\u001b[49m\u001b[43m)\u001b[49m)\n\u001b[0;32m     10\u001b[0m \u001b[38;5;28;01melse\u001b[39;00m:\n\u001b[0;32m     11\u001b[0m     \u001b[38;5;28mprint\u001b[39m(\u001b[38;5;28;01mFalse\u001b[39;00m)\n",
      "\u001b[1;31mValueError\u001b[0m: max() arg is an empty sequence"
     ]
    }
   ],
   "source": [
    "import re\n",
    "s = \"klhabcb\"\n",
    "numbers = re.findall(r'\\d+', s)\n",
    "num_int = []\n",
    "if s.isalnum:\n",
    "    for i in numbers:\n",
    "        num_int.append(int(i))\n",
    "    print(num_int)\n",
    "    print(max(num_int))\n",
    "else:\n",
    "    print(False)\n"
   ]
  },
  {
   "cell_type": "code",
   "execution_count": null,
   "id": "93742ab9-2e26-4ad5-92ae-32cfac7bc92c",
   "metadata": {},
   "outputs": [],
   "source": []
  },
  {
   "cell_type": "code",
   "execution_count": null,
   "id": "6126db9e-e006-43d8-a38d-cf2788d413f9",
   "metadata": {},
   "outputs": [],
   "source": []
  },
  {
   "cell_type": "code",
   "execution_count": null,
   "id": "102fbb3f-c082-4e24-b6c3-58b7a6ab9efd",
   "metadata": {},
   "outputs": [],
   "source": []
  },
  {
   "cell_type": "code",
   "execution_count": null,
   "id": "68c4ed8d-a2ec-4032-a9f2-ab765fdcf3d8",
   "metadata": {},
   "outputs": [],
   "source": [
    "##################################################################################"
   ]
  },
  {
   "cell_type": "code",
   "execution_count": 18,
   "id": "20a0352c-f338-4b94-b8f4-5ada9fe57edf",
   "metadata": {},
   "outputs": [
    {
     "name": "stdout",
     "output_type": "stream",
     "text": [
      "yes\n"
     ]
    }
   ],
   "source": []
  },
  {
   "cell_type": "code",
   "execution_count": 35,
   "id": "340904f0-530c-41af-a286-c102094d5313",
   "metadata": {},
   "outputs": [
    {
     "name": "stdout",
     "output_type": "stream",
     "text": [
      "N\n"
     ]
    }
   ],
   "source": [
    "A = \"AXY\"\n",
    "B = \"ADXCPY\"\n",
    "min_ = min(len(A), len(B))\n",
    "max_ = min(len(A), len(B))\n",
    "res = ''\n",
    "for i in range(C):\n",
    "    for j in range(i, max_):\n",
    "        if A[i] == B[j]:\n",
    "            res = 'Y'\n",
    "            continue\n",
    "        else:\n",
    "            res = 'N'\n",
    "print(res)"
   ]
  },
  {
   "cell_type": "code",
   "execution_count": null,
   "id": "a57596f2-91df-431a-8893-3435f0123d6e",
   "metadata": {},
   "outputs": [],
   "source": []
  },
  {
   "cell_type": "code",
   "execution_count": null,
   "id": "b2b4e1d2-b46d-435d-ab2c-0eb8e5ebcf50",
   "metadata": {},
   "outputs": [],
   "source": [
    "https://www.geeksforgeeks.org/problems/check-for-subsequence4930/1?page=1&category=Strings&company=Amazon&difficulty=Basic&status=unsolved&sortBy=difficulty"
   ]
  },
  {
   "cell_type": "code",
   "execution_count": null,
   "id": "02981bf2-a017-49ca-9c88-b2451c0bfa44",
   "metadata": {},
   "outputs": [],
   "source": [
    "##################################################################################"
   ]
  },
  {
   "cell_type": "code",
   "execution_count": 7,
   "id": "5108dc48-2afb-46a3-b487-b6137b976f9a",
   "metadata": {},
   "outputs": [
    {
     "name": "stdout",
     "output_type": "stream",
     "text": [
      "6\n"
     ]
    }
   ],
   "source": [
    "def count_pairs(s):\n",
    "    n = len(s)\n",
    "    count_ones = 0\n",
    "    total_pairs = 0\n",
    "\n",
    "    for i in range(n):\n",
    "        if s[i] == '1':\n",
    "            count_ones += 1\n",
    "            total_pairs += count_ones - 1\n",
    "\n",
    "    return total_pairs\n",
    "\n",
    "# Example usage:\n",
    "s = \"100111\"\n",
    "result = count_pairs(s)\n",
    "print(result)\n"
   ]
  },
  {
   "cell_type": "code",
   "execution_count": 4,
   "id": "c2f6191c-d3ba-41d3-94d5-38b424860777",
   "metadata": {},
   "outputs": [
    {
     "name": "stdout",
     "output_type": "stream",
     "text": [
      "3\n"
     ]
    }
   ],
   "source": [
    "n = 5\n",
    "s = \"01101\"\n",
    "res = 0\n",
    "for i in range(0,n):\n",
    "    if s[i]=='1':\n",
    "        for j in range(i+1, n):\n",
    "            if s[j] == '1':\n",
    "                res += 1\n",
    "print(res)                "
   ]
  },
  {
   "cell_type": "code",
   "execution_count": 6,
   "id": "48975b41-dea2-4b2c-8ff9-b33989fa630f",
   "metadata": {},
   "outputs": [
    {
     "name": "stdout",
     "output_type": "stream",
     "text": [
      "[1, 1]\n",
      "[1]\n",
      "[]\n",
      "0\n"
     ]
    }
   ],
   "source": [
    "n = 5\n",
    "s = \"01101\"\n",
    "res = 0\n",
    "for i in range(0,n):\n",
    "    if s[i]=='1':\n",
    "        req = [1 for j in range(i+1, n) if s[j]=='1']\n",
    "        print(req)\n",
    "        \n",
    "# for j in range(i+1, n):\n",
    "        #     if s[j] == '1':\n",
    "        #         res += 1\n",
    "print(res)               "
   ]
  },
  {
   "cell_type": "code",
   "execution_count": null,
   "id": "673dbf33-5c2e-487f-b74a-4f8fd2ef7b01",
   "metadata": {},
   "outputs": [],
   "source": [
    "https://www.geeksforgeeks.org/problems/binary-string-1587115620/1?page=1&category=Strings&company=Amazon&difficulty=Basic&status=unsolved&sortBy=difficulty"
   ]
  },
  {
   "cell_type": "code",
   "execution_count": null,
   "id": "2d7ccafe-34a8-4f90-bf37-30d9e9afa9fe",
   "metadata": {},
   "outputs": [],
   "source": [
    "##################################################################################"
   ]
  },
  {
   "cell_type": "code",
   "execution_count": null,
   "id": "c8ca2f36-f789-4b74-a4bf-2485db5848c7",
   "metadata": {},
   "outputs": [],
   "source": [
    "S1 = cddgk\n",
    "S2 = gcd"
   ]
  },
  {
   "cell_type": "code",
   "execution_count": null,
   "id": "6eed08f0-c65f-4d18-9aa4-9a61ea9cda9e",
   "metadata": {},
   "outputs": [],
   "source": []
  },
  {
   "cell_type": "code",
   "execution_count": null,
   "id": "c730124f-2e82-4692-8019-0fcf5673b2f6",
   "metadata": {},
   "outputs": [],
   "source": []
  },
  {
   "cell_type": "code",
   "execution_count": null,
   "id": "8829a9eb-50d3-49ed-87f8-3b42bb2e20b6",
   "metadata": {},
   "outputs": [],
   "source": [
    "https://www.geeksforgeeks.org/problems/anagram-of-string/1?page=1&category=Strings&company=Amazon&difficulty=Basic&status=unsolved&sortBy=difficulty"
   ]
  },
  {
   "cell_type": "code",
   "execution_count": null,
   "id": "5333bd6c-979f-4a7d-b506-d99942a6c28f",
   "metadata": {},
   "outputs": [],
   "source": [
    "##################################################################################"
   ]
  },
  {
   "cell_type": "code",
   "execution_count": 102,
   "id": "54f30670-a4bc-4ec6-8980-6488fd429a5d",
   "metadata": {},
   "outputs": [
    {
     "name": "stdout",
     "output_type": "stream",
     "text": [
      "16\n",
      "15\n",
      "2\n"
     ]
    }
   ],
   "source": [
    "S1 = \"basgadhbfgvhads\"\n",
    "S2 = \"sjdhgvbjdsbhvbvd\"\n",
    "print(len(S2))\n",
    "print(len(S1))\n",
    "# output : 11\n",
    "S3 = ''\n",
    "if len(S2)>len(S1):\n",
    "    for i in S2:\n",
    "        if i in S1:\n",
    "            S1.replace(i, '')\n",
    "        else:\n",
    "            S3 += i\n",
    "else:\n",
    "    for i in S1:\n",
    "        if i in S2:\n",
    "            S2.replace(i, '')\n",
    "        else:\n",
    "            S3 += i\n",
    "print(len(S3))\n"
   ]
  },
  {
   "cell_type": "code",
   "execution_count": null,
   "id": "68f660cd-ccad-4308-8f9e-32240a4faaa5",
   "metadata": {},
   "outputs": [],
   "source": []
  },
  {
   "cell_type": "code",
   "execution_count": null,
   "id": "9a030503-788c-4a78-95d0-f6cd4e10efca",
   "metadata": {},
   "outputs": [],
   "source": []
  },
  {
   "cell_type": "code",
   "execution_count": null,
   "id": "61342c5b-8f0e-43f0-82dc-8b380279b7f6",
   "metadata": {},
   "outputs": [],
   "source": [
    "https://www.geeksforgeeks.org/problems/anagram-of-string/1?page=1&category=Strings&company=Amazon&difficulty=Basic&status=unsolved&sortBy=difficulty"
   ]
  },
  {
   "cell_type": "code",
   "execution_count": null,
   "id": "d4a88b60-1a52-41de-8fb9-0c52e34e5b9f",
   "metadata": {},
   "outputs": [],
   "source": [
    "##################################################################################"
   ]
  },
  {
   "cell_type": "code",
   "execution_count": null,
   "id": "2dbb2864-e0a2-4465-b80e-eb58149e2719",
   "metadata": {},
   "outputs": [],
   "source": []
  },
  {
   "cell_type": "code",
   "execution_count": null,
   "id": "e890e987-43c1-4826-9c72-ee87e0650906",
   "metadata": {},
   "outputs": [],
   "source": []
  },
  {
   "cell_type": "code",
   "execution_count": null,
   "id": "f246fd2f-6736-41b1-ab0c-b5836f27e423",
   "metadata": {},
   "outputs": [],
   "source": [
    "# Most efficient Python program to count all \n",
    "# substrings with same first and last characters.\n",
    "\n",
    "MAX_CHAR = 26; # assuming lower case only\n",
    "\n",
    "def countSubstringWithEqualEnds(s):\n",
    "\tresult = 0;\n",
    "\tn = len(s);\n",
    "\n",
    "\t# Calculating frequency of each character\n",
    "\t# in the string.\n",
    "\tcount = [0]*MAX_CHAR;\n",
    "\tfor i in range(n):\n",
    "\t\tcount[ord(s[i])-ord('a')]+=1;\n",
    "\n",
    "\t# Computing result using counts\n",
    "\tfor i in range(MAX_CHAR):\n",
    "\t\tresult += (count[i]*(count[i]+1)/2);\n",
    "\n",
    "\treturn result;\n",
    "\n",
    "# Driver code\n",
    "s = \"abcab\";\n",
    "print(countSubstringWithEqualEnds(s));\n",
    "\n",
    "\n",
    "# This code is contributed by 29AjayKumar\n"
   ]
  },
  {
   "cell_type": "code",
   "execution_count": null,
   "id": "28051764-b684-4ece-b850-72e0ca66505c",
   "metadata": {},
   "outputs": [],
   "source": [
    "https://www.geeksforgeeks.org/problems/substrings-with-similar-first-and-last-characters3644/1?page=1&category=Strings&company=Amazon&difficulty=Basic&status=unsolved&sortBy=difficulty"
   ]
  },
  {
   "cell_type": "code",
   "execution_count": null,
   "id": "fae55cc3-ee95-4113-874b-1d439e734999",
   "metadata": {},
   "outputs": [],
   "source": [
    "##################################################################################"
   ]
  },
  {
   "cell_type": "code",
   "execution_count": 72,
   "id": "d3fd2b21-739d-4e80-b2c3-8c3d1710b996",
   "metadata": {},
   "outputs": [
    {
     "name": "stdout",
     "output_type": "stream",
     "text": [
      "4\n"
     ]
    }
   ],
   "source": [
    "S = \"geeksforgeeks\"\n",
    "N = 2\n",
    "new = [S[i] for i in range(1, len(S)) if S[i] != S[i - 1]]\n",
    "news = S[0]+''.join(new)\n",
    "se = set(news)\n",
    "res = [i for i in se if news.count(i) == N]\n",
    "print(len(res))"
   ]
  },
  {
   "cell_type": "code",
   "execution_count": 71,
   "id": "b4d58c7f-8102-4c54-8680-9a2125eecf6e",
   "metadata": {},
   "outputs": [
    {
     "name": "stdout",
     "output_type": "stream",
     "text": [
      "3\n"
     ]
    }
   ],
   "source": [
    "S = \"abc\"\n",
    "N = 1\n",
    "news = S[0]+''\n",
    "for i in range(1, len(S)):\n",
    "    if S[i] == S[i - 1]:\n",
    "        S.replace(S[i],'')\n",
    "    else:\n",
    "        news += S[i]\n",
    "se = set(news)\n",
    "res = []\n",
    "for i in se:\n",
    "    if news.count(i) == N:\n",
    "        res.append(i)\n",
    "    else:\n",
    "        continue\n",
    "print(len(res))"
   ]
  },
  {
   "cell_type": "code",
   "execution_count": 33,
   "id": "97c73500-ca52-4ed5-9dd0-91caadf4464a",
   "metadata": {},
   "outputs": [
    {
     "ename": "IndexError",
     "evalue": "string index out of range",
     "output_type": "error",
     "traceback": [
      "\u001b[1;31m---------------------------------------------------------------------------\u001b[0m",
      "\u001b[1;31mIndexError\u001b[0m                                Traceback (most recent call last)",
      "Cell \u001b[1;32mIn[33], line 6\u001b[0m\n\u001b[0;32m      4\u001b[0m result \u001b[38;5;241m=\u001b[39m []\n\u001b[0;32m      5\u001b[0m \u001b[38;5;28;01mfor\u001b[39;00m i \u001b[38;5;129;01min\u001b[39;00m \u001b[38;5;28mrange\u001b[39m(\u001b[38;5;241m1\u001b[39m, \u001b[38;5;28mlen\u001b[39m(S)\u001b[38;5;241m+\u001b[39m\u001b[38;5;241m1\u001b[39m):\n\u001b[1;32m----> 6\u001b[0m     \u001b[38;5;28;01mif\u001b[39;00m \u001b[43mS\u001b[49m\u001b[43m[\u001b[49m\u001b[43mi\u001b[49m\u001b[43m]\u001b[49m \u001b[38;5;241m==\u001b[39m S[i \u001b[38;5;241m-\u001b[39m \u001b[38;5;241m1\u001b[39m]:\n\u001b[0;32m      7\u001b[0m         \u001b[38;5;28;01mcontinue\u001b[39;00m\n\u001b[0;32m      8\u001b[0m     \u001b[38;5;28;01melse\u001b[39;00m:\n",
      "\u001b[1;31mIndexError\u001b[0m: string index out of range"
     ]
    }
   ],
   "source": [
    "S = \"geeksforgeeks\"\n",
    "N = 2\n",
    "count = 1  \n",
    "result = []\n",
    "for i in range(1, len(S)):\n",
    "    if S[i] == S[i - 1]:\n",
    "        continue\n",
    "    else:\n",
    "        result.append(S[i - 1])\n",
    "r_s = ''.join(result)\n",
    "print(r_s)\n",
    "l = []\n",
    "for i in ''.join(result):\n",
    "    if r_s.count(i) == N:\n",
    "        l.append(i)\n",
    "    else:\n",
    "        continue\n",
    "uniq = set(l)\n",
    "print(l)"
   ]
  },
  {
   "cell_type": "code",
   "execution_count": null,
   "id": "ab273525-7a41-45e1-b343-994ad060961b",
   "metadata": {},
   "outputs": [],
   "source": []
  },
  {
   "cell_type": "code",
   "execution_count": null,
   "id": "21eaf865-ced5-4884-9ff3-2246d9e56440",
   "metadata": {},
   "outputs": [],
   "source": [
    "https://www.geeksforgeeks.org/problems/count-the-characters1821/1?page=1&category=Strings&company=Amazon&difficulty=Basic&status=unsolved&sortBy=difficulty"
   ]
  },
  {
   "cell_type": "code",
   "execution_count": null,
   "id": "7ae4844c-fd11-45ad-bce9-754eb0249247",
   "metadata": {},
   "outputs": [],
   "source": [
    "##################################################################################"
   ]
  },
  {
   "cell_type": "code",
   "execution_count": 30,
   "id": "504b7a01-f86a-4b9e-9baa-f2aaefb34bdf",
   "metadata": {},
   "outputs": [
    {
     "ename": "IndexError",
     "evalue": "string index out of range",
     "output_type": "error",
     "traceback": [
      "\u001b[1;31m---------------------------------------------------------------------------\u001b[0m",
      "\u001b[1;31mIndexError\u001b[0m                                Traceback (most recent call last)",
      "Cell \u001b[1;32mIn[30], line 5\u001b[0m\n\u001b[0;32m      3\u001b[0m sum_ \u001b[38;5;241m=\u001b[39m \u001b[38;5;241m0\u001b[39m\n\u001b[0;32m      4\u001b[0m \u001b[38;5;28;01mfor\u001b[39;00m i \u001b[38;5;129;01min\u001b[39;00m \u001b[38;5;28mrange\u001b[39m(\u001b[38;5;28mlen\u001b[39m(s1)):\n\u001b[1;32m----> 5\u001b[0m     \u001b[38;5;28;01mif\u001b[39;00m \u001b[43ms2\u001b[49m\u001b[43m[\u001b[49m\u001b[43mi\u001b[49m\u001b[43m]\u001b[49m \u001b[38;5;129;01min\u001b[39;00m s1:\n\u001b[0;32m      6\u001b[0m         s2\u001b[38;5;241m.\u001b[39mreplace(s2[i],\u001b[38;5;124m'\u001b[39m\u001b[38;5;124m'\u001b[39m)\n\u001b[0;32m      7\u001b[0m     \u001b[38;5;28;01melse\u001b[39;00m:\n",
      "\u001b[1;31mIndexError\u001b[0m: string index out of range"
     ]
    }
   ],
   "source": [
    "s1 = \"cddgk\"\n",
    "s2 = \"gcd\"\n",
    "sum_ = 0\n",
    "for i in range(len(s1)):\n",
    "    if s2[i] in s1:\n",
    "        s2.replace(s2[i],'')\n",
    "    else:\n",
    "        sum_ += 1\n",
    "print(sum_)"
   ]
  },
  {
   "cell_type": "code",
   "execution_count": 25,
   "id": "c7c93ee3-6194-48b4-b675-b2a9bf09f06a",
   "metadata": {},
   "outputs": [
    {
     "name": "stdout",
     "output_type": "stream",
     "text": [
      "stings\n"
     ]
    }
   ],
   "source": [
    "s = \"strings\"\n",
    "s= s.replace(s[2],'')\n",
    "print(s)"
   ]
  },
  {
   "cell_type": "code",
   "execution_count": null,
   "id": "fc2e03a1-371c-4014-9fdb-d4ec55db24d2",
   "metadata": {},
   "outputs": [],
   "source": [
    "https://www.geeksforgeeks.org/problems/anagram-of-string/1?page=1&category=Strings&company=Amazon&difficulty=Basic&status=unsolved&sortBy=difficulty"
   ]
  },
  {
   "cell_type": "code",
   "execution_count": null,
   "id": "63040e2a-8212-49bb-973a-c417a32a6db0",
   "metadata": {},
   "outputs": [],
   "source": [
    "##################################################################################"
   ]
  },
  {
   "cell_type": "code",
   "execution_count": 19,
   "id": "c4395457-ab48-49fb-9c8e-7fa077980dfe",
   "metadata": {},
   "outputs": [
    {
     "name": "stdout",
     "output_type": "stream",
     "text": [
      "False\n"
     ]
    }
   ],
   "source": [
    "s = \"GeeksForGeeks\"\n",
    "x = \"Fr\"\n",
    "if x in s:\n",
    "    print(s.index(x))\n",
    "else:\n",
    "    print(False)"
   ]
  },
  {
   "cell_type": "code",
   "execution_count": null,
   "id": "51af2db2-7d05-445d-9328-d70ba1f724bb",
   "metadata": {},
   "outputs": [],
   "source": []
  },
  {
   "cell_type": "code",
   "execution_count": null,
   "id": "295d339e-e73b-4c31-921e-36714729fc12",
   "metadata": {},
   "outputs": [],
   "source": []
  },
  {
   "cell_type": "code",
   "execution_count": null,
   "id": "64f85beb-88b2-4012-b326-c5d5d2483a8a",
   "metadata": {},
   "outputs": [],
   "source": [
    "https://www.geeksforgeeks.org/problems/implement-strstr/1?page=1&category=Strings&company=Amazon&difficulty=Basic&status=unsolved&sortBy=difficulty"
   ]
  },
  {
   "cell_type": "code",
   "execution_count": null,
   "id": "93a820f6-5472-4f0e-9d8f-d8f545cf575a",
   "metadata": {},
   "outputs": [],
   "source": [
    "##################################################################################"
   ]
  },
  {
   "cell_type": "code",
   "execution_count": 16,
   "id": "23e6c956-38f4-4e6d-9dbd-283b2baf57c3",
   "metadata": {},
   "outputs": [
    {
     "name": "stdout",
     "output_type": "stream",
     "text": [
      "bclpr\n"
     ]
    }
   ],
   "source": [
    "string1 = \"characters\"\n",
    "string2 = \"alphabets\"\n",
    "# Output: \"ompuer\"\n",
    "res = [i for i in string1 if i not in string2]\n",
    "res2 = [i for i in string2 if i not in string1]\n",
    "fr = sorted(set(''.join(res)+''.join(res2)))\n",
    "print(''.join(fr))"
   ]
  },
  {
   "cell_type": "code",
   "execution_count": null,
   "id": "55f6c566-2d80-423c-8e58-aee4fd40feb9",
   "metadata": {},
   "outputs": [],
   "source": []
  },
  {
   "cell_type": "code",
   "execution_count": null,
   "id": "0e0d60f9-7611-4448-b38e-7813875522d0",
   "metadata": {},
   "outputs": [],
   "source": [
    "https://www.geeksforgeeks.org/problems/uncommon-characters4932/1?page=1&category=Strings&company=Amazon&difficulty=Basic&status=unsolved&sortBy=difficulty"
   ]
  },
  {
   "cell_type": "code",
   "execution_count": null,
   "id": "e80dd442-1735-4175-8cc2-515ab897401c",
   "metadata": {},
   "outputs": [],
   "source": [
    "##################################################################################"
   ]
  },
  {
   "cell_type": "code",
   "execution_count": 68,
   "id": "710032f1-3f75-4793-ba57-e09298038f94",
   "metadata": {},
   "outputs": [
    {
     "name": "stdout",
     "output_type": "stream",
     "text": [
      "ompuer\n"
     ]
    }
   ],
   "source": [
    "string1 = \"computer\"\n",
    "string2 = \"cat\"\n",
    "# Output: \"ompuer\"\n",
    "res = [i for i in string1 if i not in string2]\n",
    "print(''.join(res))\n"
   ]
  },
  {
   "cell_type": "code",
   "execution_count": null,
   "id": "e96dea56-9d64-4eb2-af87-9f921bc6b455",
   "metadata": {},
   "outputs": [],
   "source": []
  },
  {
   "cell_type": "code",
   "execution_count": null,
   "id": "9c65c85b-e0fe-418a-aa71-bf35929b723f",
   "metadata": {},
   "outputs": [],
   "source": [
    "https://www.geeksforgeeks.org/problems/remove-character3815/1?page=1&category=Strings&company=Amazon&difficulty=Basic&status=unsolved&sortBy=accuracy"
   ]
  },
  {
   "cell_type": "code",
   "execution_count": null,
   "id": "c4f2f45d-d90a-4318-903f-2d5598e0a9c3",
   "metadata": {},
   "outputs": [],
   "source": [
    "##################################################################################"
   ]
  },
  {
   "cell_type": "code",
   "execution_count": 58,
   "id": "e8a8fa9d-e104-44e3-8a9f-c3fd8a474b21",
   "metadata": {},
   "outputs": [
    {
     "name": "stdout",
     "output_type": "stream",
     "text": [
      "474486329565339347287294428536738983636987\n"
     ]
    }
   ],
   "source": [
    "a = \"abcdefghijklmnopqrstuvwxyz\"\n",
    "\n",
    "s = \"geeksforgeeks\"\n",
    "s = \"hqghumeaylnlfdxfircvscxggbwkfnqduxwfnfozvs\"\n",
    "key = \"4335736743357\"\n",
    "res = ''\n",
    "for i in s:\n",
    "    if i in \"abc\":\n",
    "        res += \"2\"\n",
    "    elif i in \"def\":\n",
    "        res += \"3\"\n",
    "    elif i in \"ghi\":\n",
    "        res += \"4\"\n",
    "    elif i in \"jkl\":\n",
    "        res += \"5\"\n",
    "    elif i in \"mno\":\n",
    "        res += \"6\"\n",
    "    elif i in \"pqrs\":\n",
    "        res += \"7\"\n",
    "    elif i in \"tuv\":\n",
    "        res += \"8\"\n",
    "    else:\n",
    "        res += \"9\"\n",
    "print(res)\n",
    "# print(res == key)"
   ]
  },
  {
   "cell_type": "code",
   "execution_count": 56,
   "id": "97c3fefc-39f5-4bd7-9eb9-8503f5ed9e4b",
   "metadata": {},
   "outputs": [
    {
     "data": {
      "text/plain": [
       "False"
      ]
     },
     "execution_count": 56,
     "metadata": {},
     "output_type": "execute_result"
    }
   ],
   "source": [
    "\"474486329565339347287294428536738983636987\"==\"474486329565339347287294429536738993636987\""
   ]
  },
  {
   "cell_type": "code",
   "execution_count": 66,
   "id": "5158310a-1c69-478d-b114-c23c96c8bbb8",
   "metadata": {},
   "outputs": [
    {
     "name": "stdout",
     "output_type": "stream",
     "text": [
      "False 9 8\n",
      "False 9 8\n"
     ]
    }
   ],
   "source": [
    "c = \"474486329565339347287294429536738993636987\"\n",
    "y = \"474486329565339347287294428536738983636987\"\n",
    "for i in range(len(c)):\n",
    "    if c[i] == y[i]:\n",
    "        continue\n",
    "    else:\n",
    "        print(False, end = \" \")\n",
    "        print(c[i],y[i])\n",
    "        \n"
   ]
  },
  {
   "cell_type": "code",
   "execution_count": null,
   "id": "d6132269-cae2-4494-b9b5-63dcfe682702",
   "metadata": {},
   "outputs": [],
   "source": [
    "https://www.geeksforgeeks.org/problems/keypad-typing0119/1?page=1&category=Strings&company=Amazon&difficulty=Basic&status=unsolved&sortBy=accuracy"
   ]
  },
  {
   "cell_type": "code",
   "execution_count": null,
   "id": "54749b0b-51c8-4206-a015-62db4761b66c",
   "metadata": {},
   "outputs": [],
   "source": [
    "##################################################################################"
   ]
  },
  {
   "cell_type": "code",
   "execution_count": 41,
   "id": "95984b0c-8833-40e5-a957-ab893583ba8f",
   "metadata": {},
   "outputs": [
    {
     "name": "stdout",
     "output_type": "stream",
     "text": [
      "this\n",
      "is\n",
      "here\n"
     ]
    }
   ],
   "source": [
    "strin = \"this is here\"\n",
    "l = strin.split(\" \")\n",
    "type(l)\n",
    "for i in l:\n",
    "    print(i)"
   ]
  },
  {
   "cell_type": "code",
   "execution_count": 45,
   "id": "68379591-53b8-4cdd-9fe1-62e2ca3ade42",
   "metadata": {},
   "outputs": [
    {
     "name": "stdout",
     "output_type": "stream",
     "text": [
      "g\n",
      "f\n",
      "g\n"
     ]
    }
   ],
   "source": [
    "s = \"geeks for geeks\"\n",
    "l = s.split(\" \")\n",
    "type(l)\n",
    "for i in l:\n",
    "    print(i[0])"
   ]
  },
  {
   "cell_type": "code",
   "execution_count": null,
   "id": "8b8d1760-7c7a-45a2-b1c1-1d515074327e",
   "metadata": {},
   "outputs": [],
   "source": []
  },
  {
   "cell_type": "code",
   "execution_count": null,
   "id": "dd4e1bcf-8c01-4d2b-8b1a-91640309d26a",
   "metadata": {},
   "outputs": [],
   "source": []
  },
  {
   "cell_type": "code",
   "execution_count": null,
   "id": "e9007c42-6937-4662-ba5d-53c5f4b6ec41",
   "metadata": {},
   "outputs": [],
   "source": [
    "https://www.geeksforgeeks.org/problems/print-first-letter-of-every-word-in-the-string3632/1?page=1&category=Strings&company=Amazon&difficulty=Basic&status=unsolved&sortBy=accuracy"
   ]
  },
  {
   "cell_type": "code",
   "execution_count": null,
   "id": "e04605ac-4a1b-4dce-9d14-0ade6061f714",
   "metadata": {},
   "outputs": [],
   "source": [
    "##################################################################################"
   ]
  },
  {
   "cell_type": "code",
   "execution_count": 20,
   "id": "4c2fdc2c-b185-4009-8b81-ce027937e8ca",
   "metadata": {},
   "outputs": [
    {
     "name": "stdout",
     "output_type": "stream",
     "text": [
      "28\n"
     ]
    }
   ],
   "source": [
    "s = \"\"\"jprepggxrpnrvystmwcysyycqpevikeffmznimkkasvwsr\n",
    "        enzkycxfxtlsgypsfadpooefxzbcoejuvpvaboygpoeyl\n",
    "        fpbnpljvrvipyamyehwqnqrqpmxujjloovaowuxwhmsnc\n",
    "        bxcoksfzkvatxdknlyjyhfixjswnkkufnuxxzrzbmnmgq\n",
    "        ooketlyhnkoaugzqrcd\"\"\"\n",
    "len_ = set(s)\n",
    "n = 2\n",
    "l = []\n",
    "\n",
    "for i in len_:\n",
    "    if s.count(i) >= n:\n",
    "        l.append(i)\n",
    "    else:\n",
    "        continue\n",
    "r = set(l)\n",
    "print(len(r))"
   ]
  },
  {
   "cell_type": "code",
   "execution_count": null,
   "id": "96053b5e-af70-4bdf-82fa-b4838512cfcb",
   "metadata": {},
   "outputs": [],
   "source": []
  },
  {
   "cell_type": "code",
   "execution_count": 6,
   "id": "87e8ecbb-f11f-4a8f-a442-c585e7b5b3b6",
   "metadata": {},
   "outputs": [
    {
     "name": "stdout",
     "output_type": "stream",
     "text": [
      "4\n",
      "['g', '', 'ksforg', '', 'ks']\n"
     ]
    }
   ],
   "source": [
    "# Python program to count occurrences of\n",
    "# a character using library\n",
    " \n",
    "# Driver code to test above function\n",
    "str = \"geeksforgeeks\"\n",
    "c = 'e'\n",
    " \n",
    "# Count returns number of occurrences of\n",
    "# c between two given positions provided\n",
    "# as two iterators.\n",
    "print(len(str.split(c)) - 1)\n",
    "\n",
    "print(str.split(c))\n",
    "\n",
    " \n",
    "# The code is contributed by Arushi Goel."
   ]
  },
  {
   "cell_type": "code",
   "execution_count": 9,
   "id": "30686bce-4633-483b-8711-007cc52de28b",
   "metadata": {},
   "outputs": [
    {
     "data": {
      "text/plain": [
       "{'e', 'f', 'g', 'k', 'o', 'r', 's'}"
      ]
     },
     "execution_count": 9,
     "metadata": {},
     "output_type": "execute_result"
    }
   ],
   "source": [
    "s = \"geeksforgeeks\"\n",
    "set(s)"
   ]
  },
  {
   "cell_type": "code",
   "execution_count": null,
   "id": "ace666cf-49ce-4b45-8b7c-654c6bcd01ce",
   "metadata": {},
   "outputs": [],
   "source": [
    "https://www.geeksforgeeks.org/problems/count-the-characters1821/1?page=1&category=Strings&company=Amazon&difficulty=Basic&status=unsolved&sortBy=difficulty"
   ]
  },
  {
   "cell_type": "code",
   "execution_count": null,
   "id": "57f9f261-b039-45ec-b99b-f148f21f61b4",
   "metadata": {},
   "outputs": [],
   "source": [
    "##################################################################################"
   ]
  },
  {
   "cell_type": "code",
   "execution_count": null,
   "id": "adfb4a32-0528-46dc-a5ef-097fe915b09c",
   "metadata": {},
   "outputs": [],
   "source": []
  },
  {
   "cell_type": "code",
   "execution_count": 2,
   "id": "dccff3ff-116f-461c-a54c-a4cfe7385d20",
   "metadata": {},
   "outputs": [
    {
     "name": "stdout",
     "output_type": "stream",
     "text": [
      "No\n",
      "Yes\n"
     ]
    }
   ],
   "source": [
    "NO_OF_CHARS = 256\n",
    "def canFormPalindrome(st):\n",
    "\tcount = [0] * (NO_OF_CHARS)\n",
    "\tfor i in range(0, len(st)):\n",
    "\t\tcount[ord(st[i])] = count[ord(st[i])] + 1\n",
    "\todd = 0\n",
    "\tfor i in range(0, NO_OF_CHARS):\n",
    "\t\tif (count[i] & 1):\n",
    "\t\t\todd = odd + 1\n",
    "\t\tif (odd > 1):\n",
    "\t\t\treturn False\n",
    "\treturn True\n",
    "if(canFormPalindrome(\"geeksforgeeks\")):\n",
    "\tprint(\"Yes\")\n",
    "else:\n",
    "\tprint(\"No\")\n",
    "\n",
    "if(canFormPalindrome(\"geeksogeeks\")):\n",
    "\tprint(\"Yes\")\n",
    "else:\n",
    "\tprint(\"No\")\n"
   ]
  },
  {
   "cell_type": "code",
   "execution_count": null,
   "id": "853b2de4-7e06-4c69-a496-a03d3c958557",
   "metadata": {},
   "outputs": [],
   "source": []
  },
  {
   "cell_type": "code",
   "execution_count": null,
   "id": "5185d80a-f3ab-498e-99a1-99c1a928bf43",
   "metadata": {},
   "outputs": [],
   "source": []
  },
  {
   "cell_type": "code",
   "execution_count": null,
   "id": "60e54421-2c07-4eee-8cc1-08b41e3b9a28",
   "metadata": {},
   "outputs": [],
   "source": [
    "https://www.geeksforgeeks.org/problems/anagram-palindrome4720/1?page=1&category=Strings&company=Amazon&difficulty=Basic&status=unsolved&sortBy=difficulty"
   ]
  },
  {
   "cell_type": "code",
   "execution_count": null,
   "id": "2ffd38e3-8b35-4fac-9472-2c68990b2eab",
   "metadata": {},
   "outputs": [],
   "source": [
    "##################################################################################"
   ]
  },
  {
   "cell_type": "code",
   "execution_count": null,
   "id": "e140789c-8364-4d08-be04-f8c40f7e83b7",
   "metadata": {},
   "outputs": [],
   "source": []
  },
  {
   "cell_type": "code",
   "execution_count": 124,
   "id": "35228d70-42ac-42f9-83c5-fa830128f359",
   "metadata": {},
   "outputs": [
    {
     "ename": "SyntaxError",
     "evalue": "cannot delete function call (2429734289.py, line 5)",
     "output_type": "error",
     "traceback": [
      "\u001b[1;36m  Cell \u001b[1;32mIn[124], line 5\u001b[1;36m\u001b[0m\n\u001b[1;33m    del max(a)\u001b[0m\n\u001b[1;37m        ^\u001b[0m\n\u001b[1;31mSyntaxError\u001b[0m\u001b[1;31m:\u001b[0m cannot delete function call\n"
     ]
    }
   ],
   "source": [
    "N = 7\n",
    "a = [7, 8, 3, 4, 2, 9, 5]\n",
    "for i in range(len(a)):\n",
    "    if i%2==0:\n",
    "        del max(a)\n",
    "    elif i%2 != 0:\n",
    "        del min(a)"
   ]
  },
  {
   "cell_type": "code",
   "execution_count": 122,
   "id": "fff17085-45a1-4c46-bf96-c6f304bf3428",
   "metadata": {},
   "outputs": [
    {
     "name": "stdout",
     "output_type": "stream",
     "text": [
      "hee [3, 4, 5, 7]\n",
      "hee [3, 4, 5, 7]\n",
      "hee [3, 4, 5, 7]\n",
      "hee [3, 4, 5, 7]\n",
      "[9, 2, 8]\n"
     ]
    }
   ],
   "source": [
    "N = 7\n",
    "a = [7, 8, 3, 4, 2, 9, 5]\n",
    "s_a = sorted(a)\n",
    "# 5\n",
    "na = []\n",
    "for i in range(len(s_a)):\n",
    "    if i%2==0 and len(s_a) > i+1:\n",
    "        na.append(max(s_a))\n",
    "        s_a.pop()\n",
    "    elif i%2!=0 and len(s_a) > i+1:\n",
    "        na.append(min(s_a))\n",
    "        del s_a[0]\n",
    "    else:\n",
    "        print('hee',s_a)\n",
    "print(na)"
   ]
  },
  {
   "cell_type": "code",
   "execution_count": null,
   "id": "1c1fa046-2205-4d43-86ab-ed2da0af08da",
   "metadata": {},
   "outputs": [],
   "source": []
  },
  {
   "cell_type": "code",
   "execution_count": null,
   "id": "8baec761-d354-4ea1-9f29-5474cecde505",
   "metadata": {},
   "outputs": [],
   "source": []
  },
  {
   "cell_type": "code",
   "execution_count": null,
   "id": "fd77cf56-7ea9-43f4-8b62-5c91811ae1e8",
   "metadata": {},
   "outputs": [],
   "source": []
  },
  {
   "cell_type": "code",
   "execution_count": null,
   "id": "af41f2e9-0d9b-4ecb-af43-661424ecf2ad",
   "metadata": {},
   "outputs": [],
   "source": [
    "https://www.geeksforgeeks.org/problems/print-the-left-element2009/1?page=1&category=Arrays&difficulty=School&status=unsolved&sortBy=difficulty"
   ]
  },
  {
   "cell_type": "code",
   "execution_count": null,
   "id": "e9d72f3e-c8bf-4d43-8b54-a6546c1b8d6e",
   "metadata": {},
   "outputs": [],
   "source": [
    "##################################################################################"
   ]
  },
  {
   "cell_type": "code",
   "execution_count": null,
   "id": "09f72a40-dc02-4f75-b3d9-31eccc455221",
   "metadata": {},
   "outputs": [],
   "source": [
    "3 3\n",
    "3 3 3"
   ]
  },
  {
   "cell_type": "code",
   "execution_count": null,
   "id": "9cd0742f-925f-4ace-a93d-8f71c9e3dbb1",
   "metadata": {},
   "outputs": [],
   "source": []
  },
  {
   "cell_type": "code",
   "execution_count": 109,
   "id": "2dda5548-e730-418c-85fc-6e4f63567cdf",
   "metadata": {},
   "outputs": [
    {
     "name": "stdout",
     "output_type": "stream",
     "text": [
      "[3, 3]\n"
     ]
    }
   ],
   "source": [
    "n = 7\n",
    "x = 5\n",
    "r = [0, 0]\n",
    "a = [1, 2, 8, 10, 11, 12, 19]\n",
    "a = [1, 2, 8, 10, 11, 12, 19]\n",
    "a = [3,3,3]\n",
    "x = 3\n",
    "\n",
    "l_e = [i for i in range(len(a)) if a[i]>= x]\n",
    "# print(len(l_e))\n",
    "g_e = [i for i in range(len(a)) if a[i]<= x]\n",
    "# print(len(g_e))\n",
    "\n",
    "r = [len(l_e), len(g_e)]\n",
    "print(r)\n",
    "\n",
    "# for i in range(len(a)):\n",
    "#     if a[i]<= x:\n",
    "#         r[0] += 1\n",
    "#     elif \n",
    "#     else:\n",
    "#         r[1] += 1\n",
    "# print(r)        "
   ]
  },
  {
   "cell_type": "code",
   "execution_count": null,
   "id": "f17d0fa2-8728-4139-879b-d50be8add661",
   "metadata": {},
   "outputs": [],
   "source": []
  },
  {
   "cell_type": "code",
   "execution_count": null,
   "id": "8b31380f-7c8c-469c-9f97-c48d6892c61a",
   "metadata": {},
   "outputs": [],
   "source": []
  },
  {
   "cell_type": "code",
   "execution_count": null,
   "id": "9023a7af-3cdf-45eb-ba92-947208312290",
   "metadata": {},
   "outputs": [],
   "source": [
    "https://www.geeksforgeeks.org/problems/smaller-and-larger4005/1?page=1&category=Arrays&difficulty=School&status=unsolved&sortBy=difficulty"
   ]
  },
  {
   "cell_type": "code",
   "execution_count": null,
   "id": "27520bec-f4cf-4269-bc04-011171deabba",
   "metadata": {},
   "outputs": [],
   "source": [
    "##################################################################################"
   ]
  },
  {
   "cell_type": "code",
   "execution_count": 89,
   "id": "5fbd021b-97d4-45fe-bab1-3cd3f8e1dc3f",
   "metadata": {},
   "outputs": [
    {
     "name": "stdout",
     "output_type": "stream",
     "text": [
      "True 1\n",
      "True 2\n",
      "True 2\n",
      "True 2\n"
     ]
    }
   ],
   "source": [
    "n = 7\n",
    "a = [1, 2, 2, 2, 5, 7, 9]\n",
    "x = 2\n",
    "sum_ = 0\n",
    "len_ = len(a)\n",
    "for i in range(len_):\n",
    "    if a[i]<=x:\n",
    "        print(True, a[i])\n",
    "#         sum_ += 1\n",
    "#     else:\n",
    "#         continue\n",
    "# print(sum_)"
   ]
  },
  {
   "cell_type": "code",
   "execution_count": null,
   "id": "b936de98-8f8e-4afd-8c8d-14159ab22761",
   "metadata": {},
   "outputs": [],
   "source": [
    "https://www.geeksforgeeks.org/problems/count-of-smaller-elements5947/1?page=1&category=Arrays&difficulty=School&status=unsolved&sortBy=difficulty"
   ]
  },
  {
   "cell_type": "code",
   "execution_count": null,
   "id": "40e2889b-734b-4e53-b03e-6d7217804bdc",
   "metadata": {},
   "outputs": [],
   "source": [
    "##################################################################################"
   ]
  },
  {
   "cell_type": "code",
   "execution_count": 79,
   "id": "a25e9460-a74b-4713-8b88-ac92f96ed074",
   "metadata": {},
   "outputs": [
    {
     "data": {
      "text/plain": [
       "3.0"
      ]
     },
     "execution_count": 79,
     "metadata": {},
     "output_type": "execute_result"
    }
   ],
   "source": [
    "a = [1,2,3,4,5]\n",
    "sum_ = sum(a)\n",
    "avg_ = sum_ / len(a)\n"
   ]
  },
  {
   "cell_type": "code",
   "execution_count": null,
   "id": "917bbcbb-8289-468e-8620-aed50b849a56",
   "metadata": {},
   "outputs": [],
   "source": []
  },
  {
   "cell_type": "code",
   "execution_count": null,
   "id": "fed7b1ed-8e83-4734-aee2-88a9b26414c9",
   "metadata": {},
   "outputs": [],
   "source": []
  },
  {
   "cell_type": "code",
   "execution_count": null,
   "id": "a78088de-6ba2-40ea-9a97-e61fcd12578f",
   "metadata": {},
   "outputs": [],
   "source": [
    "https://www.geeksforgeeks.org/problems/java-arrays-set-11354/1?page=1&category=Arrays&difficulty=School&status=unsolved&sortBy=difficulty"
   ]
  },
  {
   "cell_type": "code",
   "execution_count": null,
   "id": "51c40c32-f8b6-4025-a25a-67dc20821832",
   "metadata": {},
   "outputs": [],
   "source": [
    "##################################################################################"
   ]
  },
  {
   "cell_type": "code",
   "execution_count": 72,
   "id": "d074b477-1536-402d-864c-01ed994c2762",
   "metadata": {},
   "outputs": [
    {
     "name": "stdout",
     "output_type": "stream",
     "text": [
      "3\n"
     ]
    }
   ],
   "source": [
    "# Input:5 2\n",
    "# 10 20 30 40 50\n",
    "# Output:30\n",
    "arr = [1,2,3,4,5]\n",
    "print(arr[2])"
   ]
  },
  {
   "cell_type": "code",
   "execution_count": null,
   "id": "3e22a1b0-e6cf-4aba-94bc-6472e6f13943",
   "metadata": {},
   "outputs": [],
   "source": []
  },
  {
   "cell_type": "code",
   "execution_count": null,
   "id": "4411ade0-7dd1-4843-a591-6d5e600862c4",
   "metadata": {},
   "outputs": [],
   "source": [
    "https://www.geeksforgeeks.org/problems/c-array-print-an-element-set-25933/1?page=1&category=Arrays&difficulty=School&status=unsolved&sortBy=difficulty"
   ]
  },
  {
   "cell_type": "code",
   "execution_count": null,
   "id": "6dfac92c-b65b-44f2-a519-86b80935d878",
   "metadata": {},
   "outputs": [],
   "source": [
    "##################################################################################"
   ]
  },
  {
   "cell_type": "code",
   "execution_count": 71,
   "id": "abd5a93b-dc6a-4846-b8e6-7b531f10213b",
   "metadata": {},
   "outputs": [
    {
     "name": "stdout",
     "output_type": "stream",
     "text": [
      "12.00\n",
      "7.00\n"
     ]
    }
   ],
   "source": [
    "n = 5\n",
    "# arr = [10, 20, 30, 40, 50]\n",
    "arr = [12,2]\n",
    "sum_ = 0\n",
    "l = []\n",
    "len_ = len(arr)\n",
    "for i in range(len_):\n",
    "    sum_ += arr[i]\n",
    "    a = sum_ / (i+1)\n",
    "    l.append(format(a,\".2f\"))\n",
    "# print(type(l[2]))\n",
    "for i in l:\n",
    "    print(i)\n",
    "    # format(number, \".2f\")"
   ]
  },
  {
   "cell_type": "code",
   "execution_count": null,
   "id": "b6fa1bb4-6c2a-4649-a995-88ee94943602",
   "metadata": {},
   "outputs": [],
   "source": []
  },
  {
   "cell_type": "code",
   "execution_count": null,
   "id": "df6ac76e-f6ef-42f9-ae5c-ac08a89ea0b8",
   "metadata": {},
   "outputs": [],
   "source": [
    "https://www.geeksforgeeks.org/problems/average4856/1?page=1&category=Arrays&difficulty=School&status=unsolved&sortBy=difficulty"
   ]
  },
  {
   "cell_type": "code",
   "execution_count": null,
   "id": "ee305a86-80ba-4ec1-aee3-476781717234",
   "metadata": {},
   "outputs": [],
   "source": [
    "##################################################################################"
   ]
  },
  {
   "cell_type": "code",
   "execution_count": 51,
   "id": "60dede33-38df-439b-a342-2f23beceaaa0",
   "metadata": {},
   "outputs": [
    {
     "ename": "SyntaxError",
     "evalue": "invalid syntax (244492166.py, line 4)",
     "output_type": "error",
     "traceback": [
      "\u001b[1;36m  Cell \u001b[1;32mIn[51], line 4\u001b[1;36m\u001b[0m\n\u001b[1;33m    cou = [i for i in r if r[i] == 0, i for i in r if r[i] == 1]\u001b[0m\n\u001b[1;37m                                    ^\u001b[0m\n\u001b[1;31mSyntaxError\u001b[0m\u001b[1;31m:\u001b[0m invalid syntax\n"
     ]
    }
   ],
   "source": [
    "x=0\n",
    "a = [1, 2, 8, 10, 11, 12, 0]\n",
    "r = [1 if x<=i else 0 for i in range(len(a))]\n",
    "cou = [i for i in r if r[i] == 0, i for i in r if r[i] == 1]\n",
    "print(cou)"
   ]
  },
  {
   "cell_type": "code",
   "execution_count": 38,
   "id": "abdfd586-84fb-49ba-9839-aa45fce88251",
   "metadata": {},
   "outputs": [
    {
     "name": "stdout",
     "output_type": "stream",
     "text": [
      "7\n",
      "1\n"
     ]
    }
   ],
   "source": [
    "n = 7\n",
    "x = 0\n",
    "a = [1, 2, 8, 10, 11, 12, 19]\n",
    "l_e = [i for i in range(n) if x<=i]\n",
    "g_e = [i for i in range(n) if x>=i]\n",
    "print(len(l_e))\n",
    "print(len(g_e))"
   ]
  },
  {
   "cell_type": "code",
   "execution_count": 42,
   "id": "216305f9-1249-478f-abff-ca713600b02b",
   "metadata": {},
   "outputs": [
    {
     "name": "stdout",
     "output_type": "stream",
     "text": [
      "7\n",
      "[1, 1, 1, 1, 1, 1, 1]\n"
     ]
    }
   ],
   "source": []
  },
  {
   "cell_type": "code",
   "execution_count": null,
   "id": "4d4d3b38-095e-44ac-adc8-7cfcefaed8c2",
   "metadata": {},
   "outputs": [],
   "source": []
  },
  {
   "cell_type": "code",
   "execution_count": null,
   "id": "f3594344-b7fb-4a97-a447-49fe2f2ce1c9",
   "metadata": {},
   "outputs": [],
   "source": [
    "https://www.geeksforgeeks.org/problems/smaller-and-larger4005/1?page=1&category=Arrays&difficulty=School&status=unsolved&sortBy=difficulty"
   ]
  },
  {
   "cell_type": "code",
   "execution_count": null,
   "id": "bd286e40-a5c9-4f3e-b270-f011f2bc514f",
   "metadata": {},
   "outputs": [],
   "source": [
    "##################################################################################"
   ]
  },
  {
   "cell_type": "code",
   "execution_count": 20,
   "id": "45e68be7-c8e4-4bfc-b5d4-dc7e7d435402",
   "metadata": {},
   "outputs": [
    {
     "name": "stdout",
     "output_type": "stream",
     "text": [
      "[1, 2, 6, 4, 5, 3, 7, 8]\n"
     ]
    }
   ],
   "source": [
    "n = 8\n",
    "k = 3\n",
    "arr = [1, 2, 3, 4, 5, 6, 7, 8]\n",
    "first, last = arr[k-1], arr[-k]\n",
    "arr[k-1], arr[-k] = last, first\n",
    "print(arr)"
   ]
  },
  {
   "cell_type": "code",
   "execution_count": 17,
   "id": "25fbff89-8a95-46fc-9ee1-190719a80184",
   "metadata": {},
   "outputs": [
    {
     "name": "stdout",
     "output_type": "stream",
     "text": [
      "[1, 2, 3, 4, 5, 6, 7, 8]\n",
      "[1, 2, 6, 4, 5, 6, 7, 8]\n",
      "[1, 2, 6, 4, 5, 3, 7, 8]\n"
     ]
    }
   ],
   "source": [
    "n = 8\n",
    "k = 3\n",
    "arr = [1, 2, 3, 4, 5, 6, 7, 8]\n",
    "first = arr[k-1]\n",
    "last = arr[-k] \n",
    "arr[k-1] = last\n",
    "arr[-k] = first\n",
    "print(arr)\n",
    "\n",
    "# Output: 1 2 6 4 5 3 7 8"
   ]
  },
  {
   "cell_type": "code",
   "execution_count": null,
   "id": "d5188cf0-8c58-42b5-a2a5-c1fa9ff1d88e",
   "metadata": {},
   "outputs": [],
   "source": []
  },
  {
   "cell_type": "code",
   "execution_count": null,
   "id": "3325f08c-8125-438e-b31a-81cc906ea627",
   "metadata": {},
   "outputs": [],
   "source": []
  },
  {
   "cell_type": "code",
   "execution_count": null,
   "id": "17dcf667-afc4-4c86-833d-0d3b8028ec13",
   "metadata": {},
   "outputs": [],
   "source": []
  },
  {
   "cell_type": "code",
   "execution_count": null,
   "id": "b466e19d-7ccb-455e-877e-99099669079b",
   "metadata": {},
   "outputs": [],
   "source": [
    "https://www.geeksforgeeks.org/problems/swap-kth-elements5500/1?page=1&category=Arrays&difficulty=School&status=unsolved&sortBy=difficulty"
   ]
  },
  {
   "cell_type": "code",
   "execution_count": null,
   "id": "185e5574-94d5-4ba8-99be-a0ab03a9e227",
   "metadata": {},
   "outputs": [],
   "source": [
    "##################################################################################"
   ]
  },
  {
   "cell_type": "code",
   "execution_count": 27,
   "id": "a92925ed-4a4e-4ac6-88d5-58bf8b92d598",
   "metadata": {},
   "outputs": [
    {
     "data": {
      "text/plain": [
       "False"
      ]
     },
     "execution_count": 27,
     "metadata": {},
     "output_type": "execute_result"
    }
   ],
   "source": [
    "[4, 2, 7] > [5, 6, 3]"
   ]
  },
  {
   "cell_type": "code",
   "execution_count": 39,
   "id": "8b1e2f7e-2093-4fc6-9092-3d7b60117bb6",
   "metadata": {},
   "outputs": [
    {
     "name": "stdout",
     "output_type": "stream",
     "text": [
      "[0, 0, 1]\n"
     ]
    }
   ],
   "source": [
    "        for i in range(len(a)):\n",
    "            if a[i] > b[i]:\n",
    "                cc[0] += 1\n",
    "            elif a[i] < b[i]:\n",
    "                cc[1] += 1\n",
    "            else:\n",
    "                continue\n",
    "        return cc[0], cc[1]"
   ]
  },
  {
   "cell_type": "code",
   "execution_count": null,
   "id": "fe9bc400-3b0b-4e41-b152-33733cf1eac8",
   "metadata": {},
   "outputs": [],
   "source": []
  },
  {
   "cell_type": "code",
   "execution_count": 42,
   "id": "934810a5-5cb4-4a67-8ca7-56c80a533e38",
   "metadata": {},
   "outputs": [
    {
     "name": "stdout",
     "output_type": "stream",
     "text": [
      "4\n"
     ]
    }
   ],
   "source": [
    "sum = 0\n",
    "for i in range(5):\n",
    "    sum += 1\n",
    "print(i)"
   ]
  },
  {
   "cell_type": "code",
   "execution_count": 33,
   "id": "cd949d1b-7824-4bd5-90ac-0a97ce9bd4d7",
   "metadata": {},
   "outputs": [
    {
     "name": "stdout",
     "output_type": "stream",
     "text": [
      "[2]\n"
     ]
    }
   ],
   "source": [
    "a = [4, 2, 7]\n",
    "b = [5, 6, 3]\n",
    "r = [i for i in range(len(a)) if a[i] > b[i]]\n",
    "print(r)\n"
   ]
  },
  {
   "cell_type": "code",
   "execution_count": 41,
   "id": "f54d8a73-61c0-4bb7-b17a-6f7513b250c1",
   "metadata": {},
   "outputs": [
    {
     "name": "stdout",
     "output_type": "stream",
     "text": [
      "1 2\n"
     ]
    }
   ],
   "source": [
    "a = [4, 2, 7]\n",
    "b = [5, 6, 3]\n",
    "# Output : 1 2\n",
    "a1 = 0\n",
    "b1 = 0\n",
    "for i in range(len(a)):\n",
    "    if a[i] > b[i]:\n",
    "      a1 += 1\n",
    "    elif a[i] < b[i]:\n",
    "        b1 += 1\n",
    "    else:\n",
    "        continue\n",
    "print(a1, b1)"
   ]
  },
  {
   "cell_type": "code",
   "execution_count": null,
   "id": "c7bbbd09-5a1f-4b18-8915-4055e95861e1",
   "metadata": {},
   "outputs": [],
   "source": []
  },
  {
   "cell_type": "code",
   "execution_count": null,
   "id": "57104706-0304-4cee-90eb-2b15b05562a9",
   "metadata": {},
   "outputs": [],
   "source": []
  },
  {
   "cell_type": "code",
   "execution_count": null,
   "id": "29563ec9-72ee-4829-a6e4-02eadccd158d",
   "metadata": {},
   "outputs": [],
   "source": [
    "https://www.geeksforgeeks.org/problems/compete-the-skills5807/1?page=1&category=Arrays&difficulty=School&status=unsolved&sortBy=difficulty"
   ]
  },
  {
   "cell_type": "code",
   "execution_count": null,
   "id": "1c1a968c-5658-4174-b4f4-245c717e6e9a",
   "metadata": {},
   "outputs": [],
   "source": [
    "##################################################################################"
   ]
  },
  {
   "cell_type": "code",
   "execution_count": null,
   "id": "eb775926-7227-474f-8072-157a052bd23e",
   "metadata": {},
   "outputs": [],
   "source": []
  },
  {
   "cell_type": "code",
   "execution_count": 22,
   "id": "7698e02c-f11f-4b27-b25a-a2fe959c032d",
   "metadata": {},
   "outputs": [
    {
     "name": "stdout",
     "output_type": "stream",
     "text": [
      "[1]\n"
     ]
    }
   ],
   "source": [
    "n = 5\n",
    "a = [15, 2, 45, 12, 7]\n",
    "b = [1]\n",
    "r = [] \n",
    "for i in range(len(b)):\n",
    "    if b[i] != i+1:\n",
    "        continue\n",
    "    else:\n",
    "        r.append(b[i])\n",
    "print(r)"
   ]
  },
  {
   "cell_type": "code",
   "execution_count": null,
   "id": "e91b38f8-6ad8-402f-8bc5-0e63f872eacc",
   "metadata": {},
   "outputs": [],
   "source": []
  },
  {
   "cell_type": "code",
   "execution_count": null,
   "id": "a4def00c-3b7c-4a36-9cf7-753271f54bb2",
   "metadata": {},
   "outputs": [],
   "source": []
  },
  {
   "cell_type": "code",
   "execution_count": null,
   "id": "e3308417-0d34-4b56-ae6b-538213f5448b",
   "metadata": {},
   "outputs": [],
   "source": []
  },
  {
   "cell_type": "code",
   "execution_count": null,
   "id": "84d59239-9497-4f7a-833b-14e85f702164",
   "metadata": {},
   "outputs": [],
   "source": [
    "https://www.geeksforgeeks.org/problems/value-equal-to-index-value1330/1?page=1&category=Arrays&difficulty=School&status=unsolved&sortBy=difficulty"
   ]
  },
  {
   "cell_type": "code",
   "execution_count": null,
   "id": "74b5f76d-6cd7-4a89-b172-9ee22410f36e",
   "metadata": {},
   "outputs": [],
   "source": [
    "##################################################################################"
   ]
  },
  {
   "cell_type": "code",
   "execution_count": 16,
   "id": "68a91307-6997-4227-a146-49ed85c49b29",
   "metadata": {},
   "outputs": [
    {
     "name": "stdout",
     "output_type": "stream",
     "text": [
      "False\n"
     ]
    }
   ],
   "source": [
    "n = 853\n",
    "n2 = n*2\n",
    "n3 = n*3\n",
    "r = str(n)+str(n2)+str(n3)\n",
    "result = sorted([i for i in r if i in ('123456789')])\n",
    "res = str(''.join(result))\n",
    "if res == '123456789':\n",
    "    print(True)\n",
    "else:\n",
    "    print(False)"
   ]
  },
  {
   "cell_type": "code",
   "execution_count": null,
   "id": "6f1c089b-5e62-4d11-a1d5-5b2e484ead9a",
   "metadata": {},
   "outputs": [],
   "source": []
  },
  {
   "cell_type": "code",
   "execution_count": null,
   "id": "b4b05b6e-d3ee-4db4-be7e-8a0e5af57a18",
   "metadata": {},
   "outputs": [],
   "source": [
    "https://www.geeksforgeeks.org/problems/fascinating-number3751/1?page=1&category=Arrays&difficulty=School&status=unsolved&sortBy=difficulty"
   ]
  },
  {
   "cell_type": "code",
   "execution_count": null,
   "id": "b1fad3fe-0104-4c91-99ff-f8e337676550",
   "metadata": {},
   "outputs": [],
   "source": [
    "##################################################################################"
   ]
  },
  {
   "cell_type": "code",
   "execution_count": 121,
   "id": "71faeb12-58ce-4fc0-97d4-3d4f820b118b",
   "metadata": {},
   "outputs": [
    {
     "name": "stdout",
     "output_type": "stream",
     "text": [
      "[-2, -1, 3, 4]\n"
     ]
    },
    {
     "data": {
      "text/plain": [
       "<function print>"
      ]
     },
     "execution_count": 121,
     "metadata": {},
     "output_type": "execute_result"
    }
   ],
   "source": [
    "a = [7, -2, 3, 4, 9, -1]\n",
    "# -2 -1 3 4\n",
    "s = sorted(a)\n",
    "r = []\n",
    "for i in range(len(s)-2):\n",
    "    r.append(s[i])\n",
    "print(r)\n",
    "print\n",
    "\n",
    "\n"
   ]
  },
  {
   "cell_type": "code",
   "execution_count": null,
   "id": "bb6c9fe4-7458-4024-9c0d-a3cf2ed47d39",
   "metadata": {},
   "outputs": [],
   "source": []
  },
  {
   "cell_type": "code",
   "execution_count": null,
   "id": "2b9a7bee-4d80-4f7f-acb8-b6c83347bbcb",
   "metadata": {},
   "outputs": [],
   "source": []
  },
  {
   "cell_type": "code",
   "execution_count": null,
   "id": "2788d0df-27cc-4241-8d8c-f7cc329be96d",
   "metadata": {},
   "outputs": [],
   "source": []
  },
  {
   "cell_type": "code",
   "execution_count": null,
   "id": "89fa45cd-93a3-4f2a-b9be-6e0f37f7272d",
   "metadata": {},
   "outputs": [],
   "source": [
    "https://www.geeksforgeeks.org/problems/at-least-two-greater-elements4625/1?page=1&category=Arrays&difficulty=School&status=unsolved&sortBy=difficulty"
   ]
  },
  {
   "cell_type": "code",
   "execution_count": null,
   "id": "a62254db-67e6-4136-b5cc-2cbc23c96cfd",
   "metadata": {},
   "outputs": [],
   "source": [
    "##################################################################################"
   ]
  },
  {
   "cell_type": "code",
   "execution_count": null,
   "id": "33adc538-6f3c-450e-9853-df2aea3ca8e1",
   "metadata": {},
   "outputs": [],
   "source": []
  },
  {
   "cell_type": "code",
   "execution_count": 102,
   "id": "c9c1dee7-3fa7-4000-868d-89e2bea0a57d",
   "metadata": {},
   "outputs": [
    {
     "name": "stdout",
     "output_type": "stream",
     "text": [
      "2 3 5 5 "
     ]
    }
   ],
   "source": [
    "arr = [2, 3, 5, 5]\n",
    "for i in arr:\n",
    "    print(i, end = \" \")\n",
    "\n"
   ]
  },
  {
   "cell_type": "code",
   "execution_count": null,
   "id": "34de5325-3512-4c39-815c-48473c8221f6",
   "metadata": {},
   "outputs": [],
   "source": []
  },
  {
   "cell_type": "code",
   "execution_count": null,
   "id": "ad97fb76-08f0-46d8-80f6-f7dc814514b6",
   "metadata": {},
   "outputs": [],
   "source": [
    "https://www.geeksforgeeks.org/problems/print-elements-of-array4910/1?page=1&category=Arrays&difficulty=School&status=unsolved&sortBy=difficulty"
   ]
  },
  {
   "cell_type": "code",
   "execution_count": null,
   "id": "b4f430fc-624a-4fb1-b260-9c733cd552ea",
   "metadata": {},
   "outputs": [],
   "source": [
    "##################################################################################"
   ]
  },
  {
   "cell_type": "code",
   "execution_count": 101,
   "id": "eb8610ac-2e33-4c8d-8bc1-efeefe6d83a9",
   "metadata": {},
   "outputs": [
    {
     "name": "stdout",
     "output_type": "stream",
     "text": [
      "[-1, -1]\n"
     ]
    }
   ],
   "source": [
    "a = [-1,-1]\n",
    "print(a)"
   ]
  },
  {
   "cell_type": "code",
   "execution_count": 100,
   "id": "c298b918-02f3-4dce-8efd-03bfb684f465",
   "metadata": {},
   "outputs": [
    {
     "name": "stdout",
     "output_type": "stream",
     "text": [
      "[4, 4]\n"
     ]
    }
   ],
   "source": [
    "arr = [ 1, 2, 3, 4, 5, ]\n",
    "index_ = []\n",
    "for i in range(len(arr)):\n",
    "    if arr[i] == 5:\n",
    "        index_.append(i)\n",
    "    else:\n",
    "        continue\n",
    "if len(index_) >= 1:\n",
    "    print( [index_[0],index_[-1]])\n",
    "else:\n",
    "    print(-1)\n",
    "        \n",
    "\n"
   ]
  },
  {
   "cell_type": "code",
   "execution_count": 94,
   "id": "ee6f8365-25b8-437d-b41c-e4abb7cf1736",
   "metadata": {},
   "outputs": [
    {
     "name": "stdout",
     "output_type": "stream",
     "text": [
      "[4, 4]\n"
     ]
    }
   ],
   "source": [
    "N = 6\n",
    "arrs = [ 1, 2, 3, 4, 5, 5 ]\n",
    "re_arr = arrs[::-1]\n",
    "# print(re_arr)\n",
    "# print(arrs.index(5))\n",
    "# Key = 5\n",
    "inde = []\n",
    "\n",
    "for i in arr:\n",
    "    inde.append(arrs.index(5))\n",
    "    inde.append(arrs.index(5))\n",
    "    break\n",
    "print(inde)\n",
    "\n",
    "\n",
    "# # Output:  4 5"
   ]
  },
  {
   "cell_type": "code",
   "execution_count": null,
   "id": "908a1b3d-7825-404a-938d-2ba2102ef81c",
   "metadata": {},
   "outputs": [],
   "source": []
  },
  {
   "cell_type": "code",
   "execution_count": null,
   "id": "57830bfd-0afa-40a1-a11e-84c1a7b56848",
   "metadata": {},
   "outputs": [],
   "source": [
    "https://www.geeksforgeeks.org/problems/find-index4752/1?page=1&category=Arrays&difficulty=School&status=unsolved&sortBy=difficulty"
   ]
  },
  {
   "cell_type": "code",
   "execution_count": null,
   "id": "49a4a000-b6b4-4279-8514-e4a9a48dcd65",
   "metadata": {},
   "outputs": [],
   "source": [
    "##################################################################################"
   ]
  },
  {
   "cell_type": "code",
   "execution_count": 83,
   "id": "da6955b3-1d21-4fa5-849e-ecbf82258bd0",
   "metadata": {},
   "outputs": [
    {
     "name": "stdout",
     "output_type": "stream",
     "text": [
      "True\n"
     ]
    }
   ],
   "source": [
    "arr1 = [20, 4, 15, 10, 14, 19, 11, 8, 5, 19, 13, 8, 18, 13, 3, 12, 8, 16, 19, 11]\n",
    "re_arr1 = arr1[::-1]\n",
    "\n",
    "arr2 = [15, 20, 5, 6, 5, 6, 13, 4, 3, 4, 13, 6, 5, 6, 5, 20, 15]\n",
    "re_arr2 = arr2[::-1]\n",
    "\n",
    "arr3 = [1,2,3,4,5,4,3,2,1]\n",
    "re_arr3 = [1,2,3,4,5,4,3,2,1][::-1]\n",
    "\n",
    "if arr2 == re_arr2:\n",
    "    print(True)\n",
    "else:\n",
    "    print(False)\n",
    "\n"
   ]
  },
  {
   "cell_type": "code",
   "execution_count": 79,
   "id": "ca08efd2-de3e-4a3f-bab5-325ef9fad0d5",
   "metadata": {},
   "outputs": [],
   "source": [
    "arr = [20, 4, 15, 10, 14, 19, 11, 8, 5, 19, 13, 8, 18, 13, 3, 12, 8, 16, 19, 11]\n",
    "re_arr1 = [15, 20, 5, 6, 5, 6, 13, 4, 3, 4, 13, 6, 5, 6, 5, 20, 15]\n",
    "arr = [1,2,3,4,5,4,3,2,1]\n",
    "\n"
   ]
  },
  {
   "cell_type": "code",
   "execution_count": null,
   "id": "d0a34834-517f-456c-80b7-acf4b37fc47e",
   "metadata": {},
   "outputs": [],
   "source": []
  },
  {
   "cell_type": "code",
   "execution_count": null,
   "id": "b1b4a8a2-041f-4848-93fe-bdd85c68de81",
   "metadata": {},
   "outputs": [],
   "source": [
    "https://www.geeksforgeeks.org/problems/perfect-arrays4645/1?page=1&category=Arrays&difficulty=School&status=unsolved&sortBy=difficulty"
   ]
  },
  {
   "cell_type": "code",
   "execution_count": null,
   "id": "bb92e027-ce85-4f25-b3b0-36ef82b75660",
   "metadata": {},
   "outputs": [],
   "source": [
    "##################################################################################"
   ]
  },
  {
   "cell_type": "code",
   "execution_count": null,
   "id": "5796db11-fa2a-44c5-86ca-91957f4f580f",
   "metadata": {},
   "outputs": [],
   "source": []
  },
  {
   "cell_type": "code",
   "execution_count": null,
   "id": "6c8704a0-f6fb-499a-ac1a-10527ba07bf0",
   "metadata": {},
   "outputs": [],
   "source": [
    "for i in range(n):\n",
    "        str1 = ''+str(arr[i])\n",
    "        if (int(str1[::-1]) != arr[i]):\n",
    "            return 0\n",
    "    return 1"
   ]
  },
  {
   "cell_type": "code",
   "execution_count": 61,
   "id": "50dcb9de-2c21-4073-9d70-ec94ccd38ca2",
   "metadata": {},
   "outputs": [
    {
     "name": "stdout",
     "output_type": "stream",
     "text": [
      "okay\n",
      "okay\n",
      "okay\n",
      "okay\n",
      "okay\n"
     ]
    }
   ],
   "source": [
    "n = 5\n",
    "arr = [111,222, 333, 444, 555]\n",
    "for i in range(5):\n",
    "    str1 = ''+str(arr[i])\n",
    "    if (int(str1[::-1]) != arr[i]):\n",
    "        print(\"no tokay\")\n",
    "print(\"okay\")\n",
    "#     str1 = ''+str(n)\n",
    "\n",
    "# \n",
    "#     print(True)\n",
    "# else:\n",
    "#     print(False)"
   ]
  },
  {
   "cell_type": "code",
   "execution_count": null,
   "id": "a45f4e85-0364-4f34-bc12-113f2eb2f8d2",
   "metadata": {},
   "outputs": [],
   "source": []
  },
  {
   "cell_type": "code",
   "execution_count": null,
   "id": "1ba6f302-3f1b-41f6-bc42-22da037306b8",
   "metadata": {},
   "outputs": [],
   "source": [
    "https://www.geeksforgeeks.org/problems/palindromic-array-1587115620/1?page=1&category=Arrays&difficulty=School&status=unsolved&sortBy=difficulty"
   ]
  },
  {
   "cell_type": "code",
   "execution_count": null,
   "id": "8a61c341-f6ad-4218-8bcf-d6a71152c5e2",
   "metadata": {},
   "outputs": [],
   "source": [
    "##################################################################################"
   ]
  },
  {
   "cell_type": "code",
   "execution_count": 6,
   "id": "450b8a11-c2bd-4dfe-adde-d412aa66da65",
   "metadata": {},
   "outputs": [
    {
     "name": "stdout",
     "output_type": "stream",
     "text": [
      "15\n"
     ]
    }
   ],
   "source": [
    "def sum_of_numbers(num):\n",
    "    return (num * (num + 1)) // 2\n",
    "\n",
    "num = 5  # You can replace this with any positive integer\n",
    "r = sum_of_numbers(num)\n",
    "print(r)"
   ]
  },
  {
   "cell_type": "code",
   "execution_count": 5,
   "id": "8b0b37ec-825d-410c-a291-c0c9b1bde7e4",
   "metadata": {},
   "outputs": [
    {
     "data": {
      "text/plain": [
       "3"
      ]
     },
     "execution_count": 5,
     "metadata": {},
     "output_type": "execute_result"
    }
   ],
   "source": [
    "r = sum([i for i in range(1, 2)])\n",
    "r"
   ]
  },
  {
   "cell_type": "code",
   "execution_count": null,
   "id": "2bec4203-fbc9-4182-b286-b0795414bda4",
   "metadata": {},
   "outputs": [],
   "source": []
  },
  {
   "cell_type": "code",
   "execution_count": null,
   "id": "d94a2988-1260-4789-8803-ec14f8ba8a93",
   "metadata": {},
   "outputs": [],
   "source": [
    "https://www.geeksforgeeks.org/problems/sum-of-series2811/1?page=1&category=Arrays&difficulty=School&status=unsolved&sortBy=difficulty"
   ]
  },
  {
   "cell_type": "code",
   "execution_count": null,
   "id": "275c955a-08d6-42d6-848a-75a71b884334",
   "metadata": {},
   "outputs": [],
   "source": [
    "##################################################################################"
   ]
  },
  {
   "cell_type": "code",
   "execution_count": null,
   "id": "ee3c476f-6619-465f-a2fe-9bd55b903682",
   "metadata": {},
   "outputs": [],
   "source": []
  },
  {
   "cell_type": "code",
   "execution_count": null,
   "id": "b3e06ffb-cb60-4380-a18b-d9a71bdff3f8",
   "metadata": {},
   "outputs": [],
   "source": []
  },
  {
   "cell_type": "code",
   "execution_count": 26,
   "id": "a0ab2769-1e4e-4a8c-8e06-c2b0aba4b492",
   "metadata": {},
   "outputs": [
    {
     "name": "stdout",
     "output_type": "stream",
     "text": [
      "Now it is sorted: [2, 4, 5, 5, 6, 32, 42, 255]\n"
     ]
    }
   ],
   "source": [
    "unsorted_list = [2,4,5,32,6,255,5,42]\n",
    "unsorted_list.sort()\n",
    "\n",
    "print(\"Now it is sorted:\", unsorted_list)\n"
   ]
  },
  {
   "cell_type": "code",
   "execution_count": 41,
   "id": "c3818536-9c0d-4575-bf3d-7d6bb1cd3c49",
   "metadata": {},
   "outputs": [
    {
     "name": "stdout",
     "output_type": "stream",
     "text": [
      "1\n",
      "3\n",
      "5\n",
      "6\n",
      "7\n",
      "8\n",
      "9\n"
     ]
    },
    {
     "ename": "IndexError",
     "evalue": "list index out of range",
     "output_type": "error",
     "traceback": [
      "\u001b[1;31m---------------------------------------------------------------------------\u001b[0m",
      "\u001b[1;31mIndexError\u001b[0m                                Traceback (most recent call last)",
      "Cell \u001b[1;32mIn[41], line 4\u001b[0m\n\u001b[0;32m      2\u001b[0m ss \u001b[38;5;241m=\u001b[39m \u001b[38;5;28msorted\u001b[39m(s)\n\u001b[0;32m      3\u001b[0m \u001b[38;5;28;01mfor\u001b[39;00m i \u001b[38;5;129;01min\u001b[39;00m \u001b[38;5;28mrange\u001b[39m(\u001b[38;5;28mlen\u001b[39m(ss)):\n\u001b[1;32m----> 4\u001b[0m     \u001b[38;5;28mprint\u001b[39m(\u001b[43mss\u001b[49m\u001b[43m[\u001b[49m\u001b[43mi\u001b[49m\u001b[43m]\u001b[49m)\n\u001b[0;32m      5\u001b[0m     \u001b[38;5;28;01mdel\u001b[39;00m ss[i]\n",
      "\u001b[1;31mIndexError\u001b[0m: list index out of range"
     ]
    }
   ],
   "source": [
    "s = [8, 1, 2, 9, 4, 3, 7, 5,5,6,9,8,7,15]\n",
    "ss = sorted(s)\n",
    "for i in range(len(ss)):\n",
    "    print(ss[i])\n",
    "    del ss[i]\n",
    " "
   ]
  },
  {
   "cell_type": "code",
   "execution_count": null,
   "id": "22597f76-04d3-432c-9c2e-a37baad69060",
   "metadata": {},
   "outputs": [],
   "source": []
  },
  {
   "cell_type": "code",
   "execution_count": null,
   "id": "dfe21e99-b347-472c-b00e-26353079067e",
   "metadata": {},
   "outputs": [],
   "source": [
    "https://www.geeksforgeeks.org/problems/print-the-left-element2009/1?page=1&category=Arrays,Strings&difficulty=School&status=unsolved&sortBy=difficulty"
   ]
  },
  {
   "cell_type": "code",
   "execution_count": null,
   "id": "7cf0ccce-3c6f-4a8b-b2f6-1fca1c6ba2ff",
   "metadata": {},
   "outputs": [],
   "source": [
    "##################################################################################"
   ]
  },
  {
   "cell_type": "code",
   "execution_count": null,
   "id": "f61f6c49-e18a-4838-a9b6-37fd4190c5f3",
   "metadata": {},
   "outputs": [],
   "source": []
  },
  {
   "cell_type": "code",
   "execution_count": null,
   "id": "52f6d1a9-aa27-4fef-a503-8bd3853769c3",
   "metadata": {},
   "outputs": [],
   "source": []
  },
  {
   "cell_type": "code",
   "execution_count": 11,
   "id": "13625681-3ac9-4079-a9ee-cc9c9d4183cd",
   "metadata": {},
   "outputs": [
    {
     "data": {
      "text/plain": [
       "37"
      ]
     },
     "execution_count": 11,
     "metadata": {},
     "output_type": "execute_result"
    }
   ],
   "source": [
    "arr = [4,5,6,9,8,5]\n",
    "result = sum(arr)\n",
    "result"
   ]
  },
  {
   "cell_type": "code",
   "execution_count": null,
   "id": "68a0faf8-c610-41b8-a970-dd583947ab69",
   "metadata": {},
   "outputs": [],
   "source": [
    "https://www.geeksforgeeks.org/problems/sum-of-array2326/1?page=1&category=Arrays,Strings&difficulty=School&status=unsolved&sortBy=difficulty"
   ]
  },
  {
   "cell_type": "code",
   "execution_count": null,
   "id": "22144454-84ff-4970-b2d8-2083591bd10e",
   "metadata": {},
   "outputs": [],
   "source": [
    "##################################################################################"
   ]
  },
  {
   "cell_type": "code",
   "execution_count": null,
   "id": "f44f5a0c-0e20-42cd-a8fc-9498cafed551",
   "metadata": {},
   "outputs": [],
   "source": []
  },
  {
   "cell_type": "code",
   "execution_count": 6,
   "id": "3f19eab2-a667-4802-8c7f-b40258b23d50",
   "metadata": {},
   "outputs": [
    {
     "name": "stdout",
     "output_type": "stream",
     "text": [
      "1 3 \n",
      "0.0010368824005126953\n"
     ]
    }
   ],
   "source": [
    "import time\n",
    "s = time.time()\n",
    "def printAl(arr,n):\n",
    "    for i in range(0, n):\n",
    "        if i%2==0:\n",
    "            print(arr[i], end = \" \")\n",
    "if __name__==\"__main__\":\n",
    "    t=1\n",
    "    for i in range(t):\n",
    "        n=4\n",
    "        arr=[1,2,3,4]\n",
    "        printAl(arr,n)\n",
    "        print()\n",
    "e = time.time()\n",
    "print(e-s)"
   ]
  },
  {
   "cell_type": "code",
   "execution_count": 10,
   "id": "a061e5f5-c65f-44c2-8e48-a1987665d090",
   "metadata": {},
   "outputs": [
    {
     "name": "stdout",
     "output_type": "stream",
     "text": [
      "1 3\n",
      "\n",
      "0.0010025501\n"
     ]
    }
   ],
   "source": [
    "s = time.time()\n",
    "def printAl(arr,n):\n",
    "    # print(arr)\n",
    "    # print(n)\n",
    "    a = []\n",
    "    for i in range(0, n, 2):\n",
    "        a.append(str(arr[i]))\n",
    "    print(' '.join(a))\n",
    "if __name__==\"__main__\":\n",
    "    t=1\n",
    "    for i in range(t):\n",
    "        n=4\n",
    "        arr=[1,2,3,4]\n",
    "        printAl(arr,n)\n",
    "        print()\n",
    "\n",
    "e = time.time()\n",
    "print(round(e-s, 10))"
   ]
  },
  {
   "cell_type": "code",
   "execution_count": 9,
   "id": "61ca78b5-96eb-4044-8074-72d7970d3e4f",
   "metadata": {},
   "outputs": [
    {
     "name": "stdout",
     "output_type": "stream",
     "text": [
      "[1, 3]\n"
     ]
    }
   ],
   "source": [
    "n = 4\n",
    "arr = [1, 2, 3, 4]\n",
    "a = []\n",
    "for i in range(0,n,2):\n",
    "    a.append(arr[i])\n",
    "print(a)"
   ]
  },
  {
   "cell_type": "code",
   "execution_count": null,
   "id": "16672e29-fce1-4d79-b2dd-56548bd1b17e",
   "metadata": {},
   "outputs": [],
   "source": [
    "https://www.geeksforgeeks.org/problems/print-alternate-elements-of-an-array/1?page=1&category=Arrays&difficulty=School&sortBy=difficulty"
   ]
  },
  {
   "cell_type": "markdown",
   "id": "608d176b-6962-467c-9501-45101a1ef6e9",
   "metadata": {},
   "source": [
    "## ARRAY################################################################################"
   ]
  },
  {
   "cell_type": "code",
   "execution_count": 28,
   "id": "96fdc373-1440-4d84-bad4-ab2652d36e50",
   "metadata": {},
   "outputs": [
    {
     "name": "stdout",
     "output_type": "stream",
     "text": [
      "Geeks.eeks..eks...ks....s\n"
     ]
    }
   ],
   "source": [
    "s = \"Geeks\"\n",
    "k = \"\"\n",
    "for i in range(len(s)):\n",
    "    for j in range(len(s)):\n",
    "        if (i>j):\n",
    "            k = k + (\".\")\n",
    "        else:\n",
    "            k = k+(s[j])\n",
    "print(k)"
   ]
  },
  {
   "cell_type": "code",
   "execution_count": null,
   "id": "9599e538-8210-4840-91cd-46abe7f702dd",
   "metadata": {},
   "outputs": [],
   "source": []
  },
  {
   "cell_type": "code",
   "execution_count": null,
   "id": "d596257e-6def-4537-a509-e1e3f12698ac",
   "metadata": {},
   "outputs": [],
   "source": [
    "S = @io30 \n",
    "Output:\n",
    " @io30\n",
    ".io30\n",
    "..o30\n",
    "...30\n",
    "....0 "
   ]
  },
  {
   "cell_type": "code",
   "execution_count": null,
   "id": "d1ce1e8b-bd32-48c5-abea-8c02eecdd025",
   "metadata": {},
   "outputs": [],
   "source": []
  },
  {
   "cell_type": "code",
   "execution_count": null,
   "id": "bcfd2d80-6b69-4c5f-aa6d-55d2739d0927",
   "metadata": {},
   "outputs": [],
   "source": [
    "https://www.geeksforgeeks.org/problems/triangle-shrinking-downwards0459/1?page=1&category=Strings&difficulty=School&status=unsolved&sortBy=difficulty"
   ]
  },
  {
   "cell_type": "code",
   "execution_count": null,
   "id": "f798e860-d994-4ae0-9e29-124441e635df",
   "metadata": {},
   "outputs": [],
   "source": [
    "#############################################\n"
   ]
  },
  {
   "cell_type": "code",
   "execution_count": 208,
   "id": "e971e2da-e5d7-495e-82a0-ec4c3d68c79b",
   "metadata": {},
   "outputs": [
    {
     "name": "stdout",
     "output_type": "stream",
     "text": [
      "['GeeK', 'Gee', 'Ge', 'G']\n"
     ]
    },
    {
     "data": {
      "text/plain": [
       "'GeeKGeeGeG'"
      ]
     },
     "execution_count": 208,
     "metadata": {},
     "output_type": "execute_result"
    }
   ],
   "source": [
    "s = \"GeeK\"\n",
    "r = []\n",
    "for i in range(len(s), 0, -1):\n",
    "    rr = ''\n",
    "    for j in range(i):\n",
    "        rr += s[j]\n",
    "    r.append(rr)\n",
    "\n",
    "print(r)\n",
    "''.join(r)"
   ]
  },
  {
   "cell_type": "code",
   "execution_count": null,
   "id": "f5cca107-2c72-4144-9ccb-42d2a7a88cb0",
   "metadata": {},
   "outputs": [],
   "source": []
  },
  {
   "cell_type": "code",
   "execution_count": null,
   "id": "29ab423d-d0ae-477d-a3ae-6c78463e0a7e",
   "metadata": {},
   "outputs": [],
   "source": []
  },
  {
   "cell_type": "code",
   "execution_count": null,
   "id": "ed4c376a-8827-4a11-b547-aa1e76dab86a",
   "metadata": {},
   "outputs": [],
   "source": [
    "https://www.geeksforgeeks.org/problems/triangle-shrinking-downwards0459/1?page=1&category=Strings&difficulty=School&status=unsolved&sortBy=difficulty"
   ]
  },
  {
   "cell_type": "code",
   "execution_count": null,
   "id": "66f7ce65-bd2d-4006-814e-9c9695599d1f",
   "metadata": {},
   "outputs": [],
   "source": [
    "#############################################\n"
   ]
  },
  {
   "cell_type": "code",
   "execution_count": 186,
   "id": "7a38ccb2-809a-4c18-8358-041a10cff1d9",
   "metadata": {},
   "outputs": [
    {
     "data": {
      "text/plain": [
       "True"
      ]
     },
     "execution_count": 186,
     "metadata": {},
     "output_type": "execute_result"
    }
   ],
   "source": [
    "\"H\".isupper()"
   ]
  },
  {
   "cell_type": "code",
   "execution_count": 193,
   "id": "cf70cd18-c678-4a18-9a3c-41a947d27177",
   "metadata": {},
   "outputs": [
    {
     "name": "stdout",
     "output_type": "stream",
     "text": [
      "zy X\n"
     ]
    }
   ],
   "source": [
    "s = \"ab C\"\n",
    "o = 'zy X'\n",
    "r = ''\n",
    "for i in s:\n",
    "    if i.islower():\n",
    "        r += chr((122-(ord(i)-97)))\n",
    "    elif i.isupper():\n",
    "        r += chr(90-(ord(i)-65))\n",
    "    else:\n",
    "        r += i\n",
    "print(r)"
   ]
  },
  {
   "cell_type": "code",
   "execution_count": null,
   "id": "2138b906-647b-4552-a158-6aabd5687aea",
   "metadata": {},
   "outputs": [],
   "source": []
  },
  {
   "cell_type": "code",
   "execution_count": null,
   "id": "2d480c43-4c4a-4fd5-8670-164ee493b724",
   "metadata": {},
   "outputs": [],
   "source": [
    "https://www.geeksforgeeks.org/problems/program-to-print-reciprocal-of-letters36233623/1?page=1&category=Strings&difficulty=School&status=unsolved&sortBy=difficulty"
   ]
  },
  {
   "cell_type": "code",
   "execution_count": null,
   "id": "6031af3c-1cc4-45be-a6f9-12ad4ec9dec8",
   "metadata": {},
   "outputs": [],
   "source": [
    "#############################################\n"
   ]
  },
  {
   "cell_type": "code",
   "execution_count": 183,
   "id": "d1b9ed8a-da6e-4d64-a803-047a8faa99be",
   "metadata": {},
   "outputs": [
    {
     "data": {
      "text/plain": [
       "'GesoGes'"
      ]
     },
     "execution_count": 183,
     "metadata": {},
     "output_type": "execute_result"
    }
   ],
   "source": [
    "s = \"GeeksforGeeks\"\n",
    "r = []\n",
    "for i in range(0,len(s),2):\n",
    "    r.append(s[i])\n",
    "''.join(r)"
   ]
  },
  {
   "cell_type": "code",
   "execution_count": null,
   "id": "ad39a8c4-8a8f-4f8b-81d9-2670c5afc38a",
   "metadata": {},
   "outputs": [],
   "source": [
    "Input: S = \"GeeksforGeeks\"\n",
    "Output: \"GesoGes\""
   ]
  },
  {
   "cell_type": "code",
   "execution_count": null,
   "id": "a9717130-c74e-4af5-9249-ebfb6f994a38",
   "metadata": {},
   "outputs": [],
   "source": [
    "https://www.geeksforgeeks.org/problems/java-delete-alternate-characters4036/1?page=1&category=Strings&difficulty=School&status=unsolved&sortBy=difficulty"
   ]
  },
  {
   "cell_type": "code",
   "execution_count": null,
   "id": "8d38df03-94ec-4588-b8c3-72929644118c",
   "metadata": {},
   "outputs": [],
   "source": [
    "#############################################\n"
   ]
  },
  {
   "cell_type": "code",
   "execution_count": null,
   "id": "f930d79b-409d-4382-9f7e-8df67a8a3f54",
   "metadata": {},
   "outputs": [],
   "source": []
  },
  {
   "cell_type": "code",
   "execution_count": 165,
   "id": "2f6d6688-3576-4d70-9060-78e383dd9909",
   "metadata": {},
   "outputs": [
    {
     "name": "stdout",
     "output_type": "stream",
     "text": [
      "skeeGrofskeeG\n"
     ]
    }
   ],
   "source": [
    "s1 = \"Geeks\"\n",
    "s2 = \"forGeeks\"\n",
    "print((s1+s2)[::-1])\n"
   ]
  },
  {
   "cell_type": "code",
   "execution_count": null,
   "id": "5366dafb-28ff-486b-80c9-b7735c30c6d2",
   "metadata": {},
   "outputs": [],
   "source": [
    "https://www.geeksforgeeks.org/problems/java-strings-set-15112/1?page=1&category=Strings&difficulty=School&status=unsolved&sortBy=difficulty"
   ]
  },
  {
   "cell_type": "code",
   "execution_count": null,
   "id": "94ef2fe7-7753-47de-9253-ca3fa4ff5839",
   "metadata": {},
   "outputs": [],
   "source": [
    "#############################################\n"
   ]
  },
  {
   "cell_type": "code",
   "execution_count": null,
   "id": "ab6212ad-a143-47ad-a21b-4697041064c0",
   "metadata": {},
   "outputs": [],
   "source": [
    "https://www.geeksforgeeks.org/problems/java-substring5058/1?page=1&category=Strings&difficulty=School&status=unsolved&sortBy=difficulty"
   ]
  },
  {
   "cell_type": "code",
   "execution_count": null,
   "id": "3b8444aa-bd94-4e33-aa4c-bb54261c4789",
   "metadata": {},
   "outputs": [],
   "source": [
    "L = 0 , R = 5\n",
    "Output: \"cdbkdu\" "
   ]
  },
  {
   "cell_type": "code",
   "execution_count": 158,
   "id": "9f97f96d-7197-41b6-9519-e105ed7fbcee",
   "metadata": {},
   "outputs": [
    {
     "name": "stdout",
     "output_type": "stream",
     "text": [
      "cdbkdu"
     ]
    }
   ],
   "source": [
    "s = \"cdbkdub\"\n",
    "l = 0\n",
    "r = 5\n",
    "for i in range(l, r+1):\n",
    "    print(s[i], end='')\n"
   ]
  },
  {
   "cell_type": "code",
   "execution_count": 161,
   "id": "4f8901c2-2fb4-43ae-a17a-f990368b2942",
   "metadata": {},
   "outputs": [
    {
     "name": "stdout",
     "output_type": "stream",
     "text": [
      "blcsd\n"
     ]
    }
   ],
   "source": [
    "s = \"sdiblcsdbud\"\n",
    "# Output: \"blcsd\"\n",
    "l = 3\n",
    "r = 7\n",
    "rs = ''\n",
    "for i in range(l, r+1):\n",
    "    rs += s[i]\n",
    "print(rs)\n"
   ]
  },
  {
   "cell_type": "code",
   "execution_count": null,
   "id": "066eb75c-51c1-4208-87f1-626038bc13f4",
   "metadata": {},
   "outputs": [],
   "source": [
    "#############################################\n"
   ]
  },
  {
   "cell_type": "code",
   "execution_count": null,
   "id": "d63422e9-3201-4b82-8366-0f22579d26e0",
   "metadata": {},
   "outputs": [],
   "source": []
  },
  {
   "cell_type": "code",
   "execution_count": 153,
   "id": "796c4899-7857-434d-940c-706ef10b38c3",
   "metadata": {},
   "outputs": [
    {
     "ename": "AttributeError",
     "evalue": "'str' object has no attribute 'reverce'",
     "output_type": "error",
     "traceback": [
      "\u001b[1;31m---------------------------------------------------------------------------\u001b[0m",
      "\u001b[1;31mAttributeError\u001b[0m                            Traceback (most recent call last)",
      "Cell \u001b[1;32mIn[153], line 2\u001b[0m\n\u001b[0;32m      1\u001b[0m S \u001b[38;5;241m=\u001b[39m \u001b[38;5;124m\"\u001b[39m\u001b[38;5;124mGeeksforGeeks\u001b[39m\u001b[38;5;124m\"\u001b[39m\n\u001b[1;32m----> 2\u001b[0m \u001b[38;5;28mprint\u001b[39m(\u001b[43mS\u001b[49m\u001b[38;5;241;43m.\u001b[39;49m\u001b[43mreverce\u001b[49m())\n",
      "\u001b[1;31mAttributeError\u001b[0m: 'str' object has no attribute 'reverce'"
     ]
    }
   ],
   "source": [
    "S = \"GeeksforGeeks\"\n",
    "print(S.reverce())"
   ]
  },
  {
   "cell_type": "code",
   "execution_count": null,
   "id": "40a159e6-f8b0-42bc-95d8-2feb9d4d81ef",
   "metadata": {},
   "outputs": [],
   "source": [
    "https://www.geeksforgeeks.org/problems/java-reverse-a-string0416/1?page=1&category=Strings&difficulty=School&status=unsolved&sortBy=difficulty"
   ]
  },
  {
   "cell_type": "code",
   "execution_count": null,
   "id": "7d701943-0cc7-4c91-ae22-3ed8a9e063e3",
   "metadata": {},
   "outputs": [],
   "source": [
    "#############################################"
   ]
  },
  {
   "cell_type": "code",
   "execution_count": null,
   "id": "9210a578-ca2f-4c2c-8be2-8f489dc5911f",
   "metadata": {},
   "outputs": [],
   "source": [
    "https://www.geeksforgeeks.org/problems/pattern-of-strings3829/1?page=1&category=Strings&difficulty=School&status=unsolved&sortBy=difficulty"
   ]
  },
  {
   "cell_type": "code",
   "execution_count": 149,
   "id": "ed614035-1f66-4db7-b1cc-5d295c97a126",
   "metadata": {},
   "outputs": [
    {
     "name": "stdout",
     "output_type": "stream",
     "text": [
      "geek\n",
      "geek\n",
      "geek\n",
      "geek\n"
     ]
    }
   ],
   "source": [
    "s = \"geek\"\n",
    "for i in range(len(s),0,-1):\n",
    "    for j in s:\n",
    "        print(j, end = \"\")\n",
    "    print()"
   ]
  },
  {
   "cell_type": "code",
   "execution_count": null,
   "id": "7fea5261-f697-483e-afba-a8e21f92b77d",
   "metadata": {},
   "outputs": [],
   "source": []
  },
  {
   "cell_type": "code",
   "execution_count": null,
   "id": "ef489ae9-068f-4edd-808c-4d825da7ee40",
   "metadata": {},
   "outputs": [],
   "source": []
  },
  {
   "cell_type": "code",
   "execution_count": null,
   "id": "1f94f460-bb51-4724-9095-21987e611a7a",
   "metadata": {},
   "outputs": [],
   "source": []
  },
  {
   "cell_type": "code",
   "execution_count": null,
   "id": "4fcc73bb-0d8f-4f35-aa63-835d1349561a",
   "metadata": {},
   "outputs": [],
   "source": [
    "####################################################################"
   ]
  },
  {
   "cell_type": "code",
   "execution_count": 135,
   "id": "987f1cc7-cd7c-4a0a-a672-b56d72cd7484",
   "metadata": {},
   "outputs": [
    {
     "name": "stdout",
     "output_type": "stream",
     "text": [
      "PracticeHard\n"
     ]
    }
   ],
   "source": [
    "S1 = \"Practice\"\n",
    "S2 = \"Hard\"\n",
    "print(S1+S2)"
   ]
  },
  {
   "cell_type": "code",
   "execution_count": null,
   "id": "0ecdef70-776f-493f-becc-c47ef63c7640",
   "metadata": {},
   "outputs": [],
   "source": []
  },
  {
   "cell_type": "code",
   "execution_count": null,
   "id": "a369157e-bc71-4b01-bf00-c7eb708ce77f",
   "metadata": {},
   "outputs": [],
   "source": []
  },
  {
   "cell_type": "code",
   "execution_count": null,
   "id": "b1d41d92-adbe-4e8e-a9c2-8f0f75301731",
   "metadata": {},
   "outputs": [],
   "source": [
    "####################################################################"
   ]
  },
  {
   "cell_type": "code",
   "execution_count": 129,
   "id": "a19fa195-cbbe-4502-b998-b7aed8ae5e7c",
   "metadata": {},
   "outputs": [
    {
     "name": "stdout",
     "output_type": "stream",
     "text": [
      "**Docoding123456789everyday##\n"
     ]
    }
   ],
   "source": [
    "s = \"**Docoding123456789everyday##\"\n",
    "st = \"\"\n",
    "for i in s:\n",
    "    st += i\n",
    "print(st)"
   ]
  },
  {
   "cell_type": "code",
   "execution_count": 133,
   "id": "2e9009b1-0dc1-4a39-ad52-48fd9aaab2ac",
   "metadata": {},
   "outputs": [
    {
     "name": "stdout",
     "output_type": "stream",
     "text": [
      "['geeksforgeeks', '010203', '!!!']\n"
     ]
    }
   ],
   "source": [
    "s = \"**Docoding123456789everyday##\"\n",
    "s=\"geeks01for02geeks03!!!\"\n",
    "a =''\n",
    "n = ''\n",
    "sp = \"\"\n",
    "for i in s:\n",
    "    if i.isalpha():\n",
    "        a += i\n",
    "    elif i.isnumeric():\n",
    "        n += i\n",
    "    else:\n",
    "        sp += i\n",
    "print([a,n,sp])"
   ]
  },
  {
   "cell_type": "code",
   "execution_count": 115,
   "id": "9d167651-d9e9-4c8b-867c-59ed11d39fbc",
   "metadata": {},
   "outputs": [],
   "source": []
  },
  {
   "cell_type": "code",
   "execution_count": null,
   "id": "813cc6a5-2165-4b9e-8c45-74fea59c373e",
   "metadata": {},
   "outputs": [],
   "source": [
    "Output:\n",
    "Docodingeveryday\n",
    "123456789\n",
    "**##"
   ]
  },
  {
   "cell_type": "code",
   "execution_count": null,
   "id": "87061655-0a78-4960-9909-7a36443db1d0",
   "metadata": {},
   "outputs": [],
   "source": []
  },
  {
   "cell_type": "code",
   "execution_count": null,
   "id": "bca4e36c-e3f9-4430-8fb0-ae0a8e7c9b62",
   "metadata": {},
   "outputs": [],
   "source": [
    "https://www.geeksforgeeks.org/problems/split-strings5211/1?page=1&category=Strings&difficulty=School&status=unsolved&sortBy=difficulty"
   ]
  },
  {
   "cell_type": "code",
   "execution_count": null,
   "id": "5bd2cac8-708a-4732-bd21-de28fd7b6335",
   "metadata": {},
   "outputs": [],
   "source": [
    "####################################################################"
   ]
  },
  {
   "cell_type": "code",
   "execution_count": 95,
   "id": "52167f44-2997-47be-9db6-644e81e54d12",
   "metadata": {},
   "outputs": [
    {
     "name": "stdout",
     "output_type": "stream",
     "text": [
      "S\n"
     ]
    }
   ],
   "source": [
    "if \"H\".isupper():\n",
    "    print(chr(90-(ord(\"H\")-65)))"
   ]
  },
  {
   "cell_type": "code",
   "execution_count": 110,
   "id": "98788126-0bd5-425f-9217-84f709ad81c7",
   "metadata": {},
   "outputs": [
    {
     "name": "stdout",
     "output_type": "stream",
     "text": [
      "Svool\n"
     ]
    }
   ],
   "source": [
    "s = \"Hello\"\n",
    "r = ''\n",
    "for i in s:\n",
    "    if i.islower():\n",
    "        r += chr((122-(ord(i)-97)))\n",
    "    else:\n",
    "        r += chr(90-(ord(i)-65))\n",
    "print(r)"
   ]
  },
  {
   "cell_type": "code",
   "execution_count": 78,
   "id": "1144e8a1-9ab8-4bd8-822a-864cde77d306",
   "metadata": {},
   "outputs": [
    {
     "data": {
      "text/plain": [
       "97"
      ]
     },
     "execution_count": 78,
     "metadata": {},
     "output_type": "execute_result"
    }
   ],
   "source": [
    "ord('a')"
   ]
  },
  {
   "cell_type": "markdown",
   "id": "32d6b022-a2de-4d07-8d29-1ba6e02d8fae",
   "metadata": {
    "scrolled": true
   },
   "source": [
    "https://www.geeksforgeeks.org/problems/front-back-transformation1659/1?page=1&category=Strings&difficulty=School&status=unsolved&sortBy=difficulty"
   ]
  },
  {
   "cell_type": "code",
   "execution_count": null,
   "id": "5900ec62-9d48-44cc-a68e-9ffc74c24b4c",
   "metadata": {},
   "outputs": [],
   "source": []
  },
  {
   "cell_type": "code",
   "execution_count": null,
   "id": "cd14f2d4-2cb1-4fee-b65f-84e066380f18",
   "metadata": {},
   "outputs": [],
   "source": []
  },
  {
   "cell_type": "code",
   "execution_count": null,
   "id": "3cdfcfc6-0c48-451b-942f-9812af46208c",
   "metadata": {},
   "outputs": [],
   "source": [
    "####################################################################"
   ]
  },
  {
   "cell_type": "code",
   "execution_count": null,
   "id": "1fc58e40-aa50-4d99-ac5d-b5225c32355f",
   "metadata": {},
   "outputs": [],
   "source": [
    "https://www.geeksforgeeks.org/problems/upper-case-conversion5419/1?page=1&category=Strings&difficulty=School&status=unsolved&sortBy=difficulty"
   ]
  },
  {
   "cell_type": "code",
   "execution_count": 26,
   "id": "821eb7d6-6bd6-470f-977b-19babadab708",
   "metadata": {},
   "outputs": [
    {
     "data": {
      "text/plain": [
       "'I Love Programming'"
      ]
     },
     "execution_count": 26,
     "metadata": {},
     "output_type": "execute_result"
    }
   ],
   "source": [
    "str = \"i love programming\"\n",
    "str.title()"
   ]
  },
  {
   "cell_type": "code",
   "execution_count": null,
   "id": "d31bb36e-b97b-4efb-95ae-4e75833d62bd",
   "metadata": {},
   "outputs": [],
   "source": []
  },
  {
   "cell_type": "code",
   "execution_count": null,
   "id": "8ab2b755-8b12-4c35-b83b-6fa7e6ab5617",
   "metadata": {},
   "outputs": [],
   "source": []
  },
  {
   "cell_type": "code",
   "execution_count": null,
   "id": "37d7da9d-9e38-4aae-9e2c-7e19754d64a9",
   "metadata": {},
   "outputs": [],
   "source": [
    "####################################################################"
   ]
  },
  {
   "cell_type": "code",
   "execution_count": null,
   "id": "7893f78a-9b43-4e5b-a94f-c9e8058d285c",
   "metadata": {},
   "outputs": [],
   "source": [
    "https://www.geeksforgeeks.org/problems/remove-spaces0128/1?page=1&category=Strings&difficulty=School&status=unsolved&sortBy=difficulty"
   ]
  },
  {
   "cell_type": "code",
   "execution_count": 25,
   "id": "2f4d86b2-c85c-4e06-8f09-4a4908bfc0db",
   "metadata": {},
   "outputs": [
    {
     "data": {
      "text/plain": [
       "'geeksforgeeks'"
      ]
     },
     "execution_count": 25,
     "metadata": {},
     "output_type": "execute_result"
    }
   ],
   "source": [
    "s = \"geeks  for geeks\"\n",
    "# Output: geeksforgeeks\n",
    "s.replace(\" \", \"\")"
   ]
  },
  {
   "cell_type": "code",
   "execution_count": null,
   "id": "1daf2d1d-1105-4ff9-9baf-38fbf46c55b1",
   "metadata": {},
   "outputs": [],
   "source": []
  },
  {
   "cell_type": "code",
   "execution_count": null,
   "id": "093fa938-2e91-434a-8db6-d58d9ae7e56e",
   "metadata": {},
   "outputs": [],
   "source": []
  },
  {
   "cell_type": "code",
   "execution_count": null,
   "id": "43ea6fce-beb9-453c-99fb-d4f26b9fc47d",
   "metadata": {},
   "outputs": [],
   "source": []
  },
  {
   "cell_type": "code",
   "execution_count": null,
   "id": "c0b8507f-b9cc-4921-8016-8a31740107f1",
   "metadata": {},
   "outputs": [],
   "source": []
  },
  {
   "cell_type": "code",
   "execution_count": null,
   "id": "695ce96d-471b-447f-bbae-e623a8049d0e",
   "metadata": {},
   "outputs": [],
   "source": []
  },
  {
   "cell_type": "code",
   "execution_count": 19,
   "id": "154bdfed-b58e-453d-9950-07d3417cc711",
   "metadata": {},
   "outputs": [],
   "source": [
    "###################################################################"
   ]
  },
  {
   "cell_type": "code",
   "execution_count": null,
   "id": "af356eab-ef58-427d-85a8-aadde0ec47e4",
   "metadata": {},
   "outputs": [],
   "source": [
    "https://www.geeksforgeeks.org/problems/lower-case-to-upper-case3410/1?page=1&category=Strings&difficulty=School&status=unsolved&sortBy=difficulty"
   ]
  },
  {
   "cell_type": "code",
   "execution_count": 21,
   "id": "4bd44ab1-0532-443f-8048-7dd75f598796",
   "metadata": {},
   "outputs": [
    {
     "name": "stdout",
     "output_type": "stream",
     "text": [
      "GEEKS\n"
     ]
    }
   ],
   "source": [
    "str = \"geeks\"\n",
    "print(str.upper())"
   ]
  },
  {
   "cell_type": "code",
   "execution_count": null,
   "id": "d0103510-eb67-47dc-bd5c-9b07672bedbb",
   "metadata": {},
   "outputs": [],
   "source": []
  },
  {
   "cell_type": "code",
   "execution_count": null,
   "id": "5cfa3ff9-be26-4975-8899-237436902a1d",
   "metadata": {},
   "outputs": [],
   "source": []
  },
  {
   "cell_type": "code",
   "execution_count": null,
   "id": "88eb9f29-9c84-4039-85db-1b111d3eb1e5",
   "metadata": {},
   "outputs": [],
   "source": []
  },
  {
   "cell_type": "code",
   "execution_count": 61,
   "id": "e8a33ee6-1c9a-487d-aecf-145114eeee99",
   "metadata": {},
   "outputs": [
    {
     "name": "stdout",
     "output_type": "stream",
     "text": [
      "0:00:00\n"
     ]
    }
   ],
   "source": []
  },
  {
   "cell_type": "code",
   "execution_count": null,
   "id": "6e4aea12-1a34-459c-a1c7-366ad26e5714",
   "metadata": {},
   "outputs": [],
   "source": [
    "###################################################################################"
   ]
  },
  {
   "cell_type": "code",
   "execution_count": null,
   "id": "4960ba5f-1059-481a-af45-5a0e5190b18b",
   "metadata": {},
   "outputs": [],
   "source": [
    "https://www.geeksforgeeks.org/problems/extract-the-integers4428/1?page=1&category=Strings&difficulty=School&status=unsolved&sortBy=difficulty"
   ]
  },
  {
   "cell_type": "code",
   "execution_count": 18,
   "id": "b4df9790-ea13-47d5-a70c-99f51b3c67cd",
   "metadata": {},
   "outputs": [
    {
     "ename": "NameError",
     "evalue": "name '__add' is not defined",
     "output_type": "error",
     "traceback": [
      "\u001b[1;31m---------------------------------------------------------------------------\u001b[0m",
      "\u001b[1;31mNameError\u001b[0m                                 Traceback (most recent call last)",
      "Cell \u001b[1;32mIn[18], line 1\u001b[0m\n\u001b[1;32m----> 1\u001b[0m help(\u001b[43m__add\u001b[49m())\n",
      "\u001b[1;31mNameError\u001b[0m: name '__add' is not defined"
     ]
    }
   ],
   "source": [
    "help(__add())"
   ]
  },
  {
   "cell_type": "code",
   "execution_count": 60,
   "id": "a9ab7b77-b65d-4fb8-8f8c-1765a099e26d",
   "metadata": {},
   "outputs": [
    {
     "name": "stdout",
     "output_type": "stream",
     "text": [
      "[2, 45]\n",
      "[2, 4, 5, 2, 5]\n"
     ]
    }
   ],
   "source": [
    "s = \"There are 2 apples for 45 persons25\"\n",
    "result = [int(x) for x in s.split() if x.isdigit()]\n",
    "print(result)\n",
    "result = [int(x) for x in s if x.isdigit()]\n",
    "print(result)"
   ]
  },
  {
   "cell_type": "code",
   "execution_count": 13,
   "id": "a52113f7-586f-4d03-8c65-1caeaf9a39d4",
   "metadata": {},
   "outputs": [
    {
     "name": "stdout",
     "output_type": "stream",
     "text": [
      "['1', '2', '3', '56']\n"
     ]
    }
   ],
   "source": [
    "import re\n",
    "s = \"There are 123 apples and 00456 ora045nges in the basket00256. 00025  askldfjj;00025asdkjf\"\n",
    "s = \"1: Prakhar Agrawal, 2: Manish Kumar Rai, 3: Rishabh Gupta56\"\n",
    "n = re.compile('[0-9]+') \n",
    "k = n.findall(s)\n",
    "print(k)\n"
   ]
  },
  {
   "cell_type": "code",
   "execution_count": null,
   "id": "c8947807-dc28-421a-8392-c0e0c3c0c04a",
   "metadata": {},
   "outputs": [],
   "source": []
  },
  {
   "cell_type": "code",
   "execution_count": 51,
   "id": "a6d7926f-5c27-4f48-b0ec-270f1f17563d",
   "metadata": {},
   "outputs": [
    {
     "name": "stdout",
     "output_type": "stream",
     "text": [
      "12356\n"
     ]
    }
   ],
   "source": [
    "\n",
    "import re\n",
    "s = \"1: Prakhar Agrawal, 2: Manish Kumar Rai, 3: Rishabh Gupta56\"\n",
    "r = re.findall(r'\\d+', s)\n",
    "print(''.join(r))"
   ]
  },
  {
   "cell_type": "code",
   "execution_count": 42,
   "id": "12eb23ec-bae1-40ef-abc5-062d1762c90a",
   "metadata": {},
   "outputs": [
    {
     "name": "stdout",
     "output_type": "stream",
     "text": [
      "no integer\n"
     ]
    }
   ],
   "source": [
    "s = \"1: Prakhar Agrawal, 2: Manish Kumar Rai, 3: Rishabh Gupta56\"\n",
    "l = s.split(\",\")\n",
    "p_l =[]\n",
    "if s.isalnum():\n",
    "    for i in l:\n",
    "        c_l = ''\n",
    "        for j in i:\n",
    "            if j.isnumeric():\n",
    "                c_l += j\n",
    "        else:\n",
    "            pass\n",
    "        p_l.append(c_l)\n",
    "    print(p_l)\n",
    "    print(' '.join(p_l))\n",
    "else:\n",
    "    print(\"no integer\")\n"
   ]
  },
  {
   "cell_type": "code",
   "execution_count": null,
   "id": "da9b864c-b4ce-4743-bffa-39c4cb3e7ac5",
   "metadata": {},
   "outputs": [],
   "source": []
  },
  {
   "cell_type": "code",
   "execution_count": null,
   "id": "e9cbe33c-0b58-48ff-accb-978828b43ca6",
   "metadata": {},
   "outputs": [],
   "source": []
  },
  {
   "cell_type": "code",
   "execution_count": null,
   "id": "c1dfba37-32ac-4773-bfaf-3f9a5c30cebc",
   "metadata": {},
   "outputs": [],
   "source": []
  },
  {
   "cell_type": "code",
   "execution_count": null,
   "id": "1575f7e8-072c-4d4e-a97c-0c2aae546bf5",
   "metadata": {},
   "outputs": [],
   "source": [
    "#################################################"
   ]
  },
  {
   "cell_type": "code",
   "execution_count": null,
   "id": "f1fc169e-efc7-452d-9c02-1eff22b80a20",
   "metadata": {},
   "outputs": [],
   "source": [
    "https://www.geeksforgeeks.org/problems/reversing-the-vowels5304/1?page=1&category=Strings&difficulty=School&status=unsolved&sortBy=difficulty"
   ]
  },
  {
   "cell_type": "code",
   "execution_count": null,
   "id": "b732cc6e-c23a-45b5-9f4a-ce603dddde74",
   "metadata": {},
   "outputs": [],
   "source": []
  },
  {
   "cell_type": "code",
   "execution_count": 71,
   "id": "8ae78e47-d807-4083-834a-09f0f2f8823c",
   "metadata": {},
   "outputs": [
    {
     "name": "stdout",
     "output_type": "stream",
     "text": [
      "emran nezir\n",
      "Total runtime of the program is 0.001004934310913086\n"
     ]
    }
   ],
   "source": [
    "begin = time.time()\n",
    "\n",
    "def reverse_vowels(str1):\n",
    "\tvowels = \"\"\n",
    "\tfor char in str1:\n",
    "\t\tif char in \"aeiou\":\n",
    "\t\t\tvowels += char\n",
    "\tresult_string = \"\"\n",
    "\tfor char in str1:\n",
    "\t\tif char in \"aeiou\":\n",
    "\t\t\tresult_string += vowels[-1]\n",
    "\t\t\tvowels = vowels[:-1]\n",
    "\t\telse:\n",
    "\t\t\tresult_string += char\n",
    "\treturn result_string\n",
    "print(reverse_vowels(\"imren nazer\"))\n",
    "end = time.time() \n",
    "print(f\"Total runtime of the program is {end - begin}\") "
   ]
  },
  {
   "cell_type": "code",
   "execution_count": null,
   "id": "a364ac4c-c3b2-46b2-a677-5d7f1eef9a9e",
   "metadata": {},
   "outputs": [],
   "source": []
  },
  {
   "cell_type": "code",
   "execution_count": null,
   "id": "b93ea96e-0ea9-46b0-a081-d5542872af5e",
   "metadata": {},
   "outputs": [],
   "source": []
  },
  {
   "cell_type": "code",
   "execution_count": null,
   "id": "6a8f13dc-e22a-4d57-85cb-bdb1286fcdad",
   "metadata": {},
   "outputs": [],
   "source": [
    "begin = time.time()\n",
    "\n",
    "def reverse_vowels(str1):\n",
    "\tvowels = \"\"\n",
    "\tfor char in str1:\n",
    "\t\tif char in \"aeiou\":\n",
    "\t\t\tvowels += char\n",
    "\t\n",
    "    result_string = \"\"\n",
    "\tfor char in str1:\n",
    "\t\tif char in \"aeiou\":\n",
    "\t\t\tresult_string += vowels[-1]\n",
    "\t\t\tvowels = vowels[:-1]\n",
    "\t\telse:\n",
    "\t\t\tresult_string += char\n",
    "\treturn result_string\n",
    "print(reverse_vowels(\"imren nazer\"))\n",
    "end = time.time() \n",
    "print(f\"Total runtime of the program is {end - begin}\") "
   ]
  },
  {
   "cell_type": "code",
   "execution_count": 72,
   "id": "83277d6b-43b8-4c8d-8b63-e2daae294087",
   "metadata": {},
   "outputs": [
    {
     "name": "stdout",
     "output_type": "stream",
     "text": [
      "prectica\n",
      "Total runtime of the program is 0.000997304916381836\n"
     ]
    }
   ],
   "source": [
    "begin = time.time() \n",
    "s = \"practice\"\n",
    "chars = list(s)\n",
    "result=[]\n",
    "ind = 0\n",
    "rev_vowel = [i for i in s if i in ('aeiou')][::-1]\n",
    "index = [i for i in range(len(s)) if chars[i] in ('aeiou')]\n",
    "for i in range(len(s)):\n",
    "    if i in index: result.append(rev_vowel[ind]); ind += 1\n",
    "    else:result.append(chars[i])\n",
    "print(''.join(result))\n",
    "end = time.time() \n",
    "print(f\"Total runtime of the program is {end - begin}\") "
   ]
  },
  {
   "cell_type": "code",
   "execution_count": 43,
   "id": "92b3f9b1-1566-4a25-b718-e4a9bb6b6b20",
   "metadata": {},
   "outputs": [
    {
     "data": {
      "text/plain": [
       "True"
      ]
     },
     "execution_count": 43,
     "metadata": {},
     "output_type": "execute_result"
    }
   ],
   "source": [
    "\"prectica\" == \"prectica\""
   ]
  },
  {
   "cell_type": "code",
   "execution_count": 30,
   "id": "626cdc88-1f5c-447a-8686-aeb6350ebd69",
   "metadata": {},
   "outputs": [
    {
     "name": "stdout",
     "output_type": "stream",
     "text": [
      "['i', 'a', 'a', 'e']\n",
      "['e', 'a', 'a', 'i']\n",
      "[0, 3, 7, 9]\n"
     ]
    }
   ],
   "source": [
    "s = \"imran nazer\"\n",
    "chars = list(s)\n",
    "vowel = [i for i in s if i in ('a','e','i','o','u')]\n",
    "rev_vowel = [i for i in s if i in ('a','e','i','o','u')][::-1]\n",
    "index = [i for i in range(len(s)) if chars[i] in ('a','e','i','o','u')]\n",
    "print(vowel)\n",
    "print(rev_vowel)\n",
    "print(index)"
   ]
  },
  {
   "cell_type": "code",
   "execution_count": 38,
   "id": "81f236d9-b720-4b45-a3d2-3512899311a7",
   "metadata": {},
   "outputs": [
    {
     "name": "stdout",
     "output_type": "stream",
     "text": [
      "e\n",
      "a\n",
      "a\n",
      "i\n",
      "emran nazir\n"
     ]
    }
   ],
   "source": [
    "result=[]\n",
    "ind = 0\n",
    "for i in range(len(s)):\n",
    "    if i in index:\n",
    "        print(rev_vowel[ind])\n",
    "        result.append(rev_vowel[ind])\n",
    "        ind += 1\n",
    "    else:\n",
    "        result.append(chars[i])\n",
    "print(''.join(result))"
   ]
  },
  {
   "cell_type": "code",
   "execution_count": 1,
   "id": "aa676aa7-2a32-4c65-bfb4-5b1f5ac4dcf9",
   "metadata": {},
   "outputs": [
    {
     "ename": "IndentationError",
     "evalue": "expected an indented block after 'if' statement on line 7 (372908202.py, line 8)",
     "output_type": "error",
     "traceback": [
      "\u001b[1;36m  Cell \u001b[1;32mIn[1], line 8\u001b[1;36m\u001b[0m\n\u001b[1;33m    vowels.append(chars[i])\u001b[0m\n\u001b[1;37m    ^\u001b[0m\n\u001b[1;31mIndentationError\u001b[0m\u001b[1;31m:\u001b[0m expected an indented block after 'if' statement on line 7\n"
     ]
    }
   ],
   "source": [
    "class Solution:\n",
    "   def reverseVowels(self, s):\n",
    "      chars = list(s)          # string to list convert\n",
    "      index = []               # create blank list for index number\n",
    "      vowels = []              # create blank list for vowels store\n",
    "      for i in range(len(chars)):\n",
    "         if chars[i] in ['a','e','i','o','u']: # check vowel is or not\n",
    "         vowels.append(chars[i])               #append vowel in vowels\n",
    "         index.append(i)            #append index also in list\n",
    "      vowels = vowels[::-1]         # reverse vowel order\n",
    "      \n",
    "       \n",
    "       final = []\n",
    "      ind = 0\n",
    "      for i in range(len(chars)):\n",
    "      if i in index:\n",
    "         final.append(vowels[ind])\n",
    "         ind += 1\n",
    "      else:\n",
    "         final.append(chars[i])\n",
    "   str1 = \"\"\n",
    "   return str1.join(final)\n",
    "ob1 = Solution()\n",
    "print(ob1.reverseVowels(\"hello\"))\n",
    "print(ob1.reverseVowels(\"programming\"))"
   ]
  },
  {
   "cell_type": "code",
   "execution_count": null,
   "id": "777d019e-c57d-413a-a5e6-9d14d261034d",
   "metadata": {},
   "outputs": [],
   "source": []
  },
  {
   "cell_type": "code",
   "execution_count": null,
   "id": "8a1df96b-c461-4986-9e48-910376c14af3",
   "metadata": {},
   "outputs": [],
   "source": []
  },
  {
   "cell_type": "code",
   "execution_count": null,
   "id": "797b5e33-8505-48a1-8992-a893f7ee3b60",
   "metadata": {},
   "outputs": [],
   "source": []
  },
  {
   "cell_type": "code",
   "execution_count": 59,
   "id": "4c51917c-b6ab-4e41-bde4-1232960efbdc",
   "metadata": {},
   "outputs": [
    {
     "ename": "TypeError",
     "evalue": "replace() argument 1 must be str, not list",
     "output_type": "error",
     "traceback": [
      "\u001b[1;31m---------------------------------------------------------------------------\u001b[0m",
      "\u001b[1;31mTypeError\u001b[0m                                 Traceback (most recent call last)",
      "Cell \u001b[1;32mIn[59], line 4\u001b[0m\n\u001b[0;32m      2\u001b[0m li \u001b[38;5;241m=\u001b[39m [\u001b[38;5;241m12\u001b[39m,\u001b[38;5;241m15\u001b[39m]\n\u001b[0;32m      3\u001b[0m li2 \u001b[38;5;241m=\u001b[39m [\u001b[38;5;241m11\u001b[39m,\u001b[38;5;241m20\u001b[39m]\n\u001b[1;32m----> 4\u001b[0m new_string \u001b[38;5;241m=\u001b[39m \u001b[43mstring\u001b[49m\u001b[38;5;241;43m.\u001b[39;49m\u001b[43mreplace\u001b[49m\u001b[43m(\u001b[49m\u001b[43mli\u001b[49m\u001b[43m,\u001b[49m\u001b[43m \u001b[49m\u001b[43mli2\u001b[49m\u001b[43m)\u001b[49m\n\u001b[0;32m      5\u001b[0m \u001b[38;5;28mprint\u001b[39m(new_string)\n",
      "\u001b[1;31mTypeError\u001b[0m: replace() argument 1 must be str, not list"
     ]
    }
   ],
   "source": [
    "string = \"Hello World\"\n",
    "li = [12,15]\n",
    "li2 = [11,20]\n",
    "new_string = string.replace(li, li2)\n",
    "print(new_string)"
   ]
  },
  {
   "cell_type": "code",
   "execution_count": null,
   "id": "38528e96-d561-40d4-956a-219d328c319a",
   "metadata": {},
   "outputs": [],
   "source": []
  },
  {
   "cell_type": "code",
   "execution_count": 53,
   "id": "e0e4b011-4115-4e25-9878-8d3577ee1230",
   "metadata": {},
   "outputs": [
    {
     "name": "stdout",
     "output_type": "stream",
     "text": [
      "['e', 'e', 'o', 'e', 'e']\n"
     ]
    }
   ],
   "source": [
    "# geeksforgeeks\n",
    "s = \"geeksforgeeks\"\n",
    "print( [x for x in s if x in ('a','e','i','o','u')][::-1])\n",
    "# print(vowel)"
   ]
  },
  {
   "cell_type": "code",
   "execution_count": 57,
   "id": "72100a6a-36d8-4141-9847-adc5917a96b5",
   "metadata": {},
   "outputs": [
    {
     "name": "stdout",
     "output_type": "stream",
     "text": [
      "['e', 'i', 'a']\n"
     ]
    }
   ],
   "source": [
    "s = \"practice\"\n",
    "reverce_vowel = [x for x in s.lower() if x in ('a','e','i','o','u')][::-1]\n",
    "print(reverce_vowel)"
   ]
  },
  {
   "cell_type": "code",
   "execution_count": null,
   "id": "4d4f99b9-e3b3-4821-ba89-cbff0acec01f",
   "metadata": {},
   "outputs": [],
   "source": [
    "fruits = [\"apple\", \"banana\", \"cherry\", \"kiwi\", \"mango\"]\n",
    "newlist = [x for x in fruits if \"a\" in x]\n",
    "print(newlist)"
   ]
  },
  {
   "cell_type": "code",
   "execution_count": 37,
   "id": "2d32cbd1-91a6-44ea-999e-224006f7fce7",
   "metadata": {},
   "outputs": [
    {
     "name": "stdout",
     "output_type": "stream",
     "text": [
      "True\n",
      "True\n",
      "True\n"
     ]
    }
   ],
   "source": [
    "s = \"practice\"\n",
    "for i in s:\n",
    "    if i in ('a','e','i','o','u'):\n",
    "        print(True)"
   ]
  },
  {
   "cell_type": "code",
   "execution_count": null,
   "id": "48851f23-b266-49f6-9532-9dab60714a03",
   "metadata": {},
   "outputs": [],
   "source": []
  },
  {
   "cell_type": "code",
   "execution_count": null,
   "id": "1d3a9910-26d7-4fab-b599-4c985210db84",
   "metadata": {},
   "outputs": [],
   "source": []
  },
  {
   "cell_type": "code",
   "execution_count": null,
   "id": "176a332f-4d12-4a85-a0f7-696339843673",
   "metadata": {},
   "outputs": [],
   "source": [
    "#################################################################"
   ]
  },
  {
   "cell_type": "code",
   "execution_count": null,
   "id": "1773bd7c-c5a6-4b1b-8db9-ea74ecbf4d39",
   "metadata": {},
   "outputs": [],
   "source": [
    "https://www.geeksforgeeks.org/problems/count-type-of-characters3635/1?page=1&category=Strings&difficulty=School&status=unsolved&sortBy=difficulty"
   ]
  },
  {
   "cell_type": "code",
   "execution_count": 24,
   "id": "72ae5cc8-fdb5-422f-af5e-5159693a69fd",
   "metadata": {},
   "outputs": [
    {
     "name": "stdout",
     "output_type": "stream",
     "text": [
      "6\n",
      "4\n",
      "1\n",
      "2\n"
     ]
    }
   ],
   "source": [
    "s = \"*GeEkS4GeEkS*\"\n",
    "\n",
    "result2 = len(list(filter(lambda x: x.isupper(), s)))\n",
    "result = len(list(filter(lambda x: x.islower(), s)))\n",
    "result3 = len(list(filter(lambda x: x.isnumeric(), s)))\n",
    "result4 = len(s)-result-result2-result3\n",
    "results = [ result2,result, result3, result4]\n",
    "\n",
    "for i in results:\n",
    "    print(i)"
   ]
  },
  {
   "cell_type": "code",
   "execution_count": null,
   "id": "1409de8f-c999-4732-ac56-a3766c1c4725",
   "metadata": {},
   "outputs": [],
   "source": []
  },
  {
   "cell_type": "code",
   "execution_count": null,
   "id": "3bd2df04-3ea0-4b61-be9c-15df65011430",
   "metadata": {},
   "outputs": [],
   "source": []
  },
  {
   "cell_type": "code",
   "execution_count": null,
   "id": "644d74b4-a0a1-4d1e-a0cb-9c332565f88f",
   "metadata": {},
   "outputs": [],
   "source": []
  },
  {
   "cell_type": "code",
   "execution_count": 1,
   "id": "2be1da80-e0d9-4a5d-afad-b2e1a29bfa0a",
   "metadata": {},
   "outputs": [],
   "source": [
    "############################################"
   ]
  },
  {
   "cell_type": "code",
   "execution_count": null,
   "id": "95267baa-ac73-49c6-8d13-142bedeef7e1",
   "metadata": {},
   "outputs": [],
   "source": [
    "https://www.geeksforgeeks.org/problems/remove-vowels-from-string1446/1?page=1&category=Strings&difficulty=School&status=unsolved&sortBy=difficulty"
   ]
  },
  {
   "cell_type": "code",
   "execution_count": 71,
   "id": "55a981c8-d975-44c1-ae86-e274e80bf3b3",
   "metadata": {},
   "outputs": [
    {
     "name": "stdout",
     "output_type": "stream",
     "text": [
      "ksjdfl ksr\n"
     ]
    }
   ],
   "source": [
    "strin = \"aksjdfl kasr\"\n",
    "result = ''.join(filter(lambda i : i not in ('a','e','i','o','u'), strin))\n",
    "print(result)"
   ]
  },
  {
   "cell_type": "code",
   "execution_count": null,
   "id": "bb99c407-314a-44bf-9014-535c145ea90c",
   "metadata": {},
   "outputs": [],
   "source": []
  },
  {
   "cell_type": "code",
   "execution_count": null,
   "id": "400b87f3-d864-4bf3-8a4e-b318cf8159cf",
   "metadata": {},
   "outputs": [],
   "source": []
  },
  {
   "cell_type": "code",
   "execution_count": null,
   "id": "b0aef332-b2d3-4fa2-91de-38a5cd181d6c",
   "metadata": {},
   "outputs": [],
   "source": []
  },
  {
   "cell_type": "code",
   "execution_count": null,
   "id": "6edba444-d2d8-4203-bf7d-039247c363fc",
   "metadata": {},
   "outputs": [],
   "source": []
  },
  {
   "cell_type": "code",
   "execution_count": null,
   "id": "d924cde7-143b-4ea6-8c22-468062b9c5d3",
   "metadata": {},
   "outputs": [],
   "source": []
  },
  {
   "cell_type": "code",
   "execution_count": null,
   "id": "258454d0-17d6-42e0-9e9b-4a9e177b1397",
   "metadata": {},
   "outputs": [],
   "source": []
  },
  {
   "cell_type": "code",
   "execution_count": null,
   "id": "b17fd112-ae68-4fe8-b116-1672568b5474",
   "metadata": {},
   "outputs": [],
   "source": []
  },
  {
   "cell_type": "code",
   "execution_count": 66,
   "id": "5e97ba3d-4e26-4ced-9b99-5338bf0167bb",
   "metadata": {},
   "outputs": [],
   "source": [
    "#########################"
   ]
  },
  {
   "cell_type": "code",
   "execution_count": null,
   "id": "c0161574-8000-4e81-8838-4ffcaf3a148a",
   "metadata": {},
   "outputs": [],
   "source": [
    "https://www.geeksforgeeks.org/problems/find-the-camel3348/1?page=1&category=Strings&difficulty=School&status=unsolved&sortBy=difficulty"
   ]
  },
  {
   "cell_type": "code",
   "execution_count": 65,
   "id": "ba7e7541-45a2-43e6-ab50-33ec0a893299",
   "metadata": {},
   "outputs": [
    {
     "name": "stdout",
     "output_type": "stream",
     "text": [
      "3\n"
     ]
    }
   ],
   "source": [
    "str1 = \"W3lc0m3HU\"\n",
    "\n",
    "result = ''.join(list(filter(lambda i: i.isupper(), str1)))\n",
    "print(len(result))"
   ]
  },
  {
   "cell_type": "code",
   "execution_count": 62,
   "id": "b1b2748f-c311-4051-ad58-8788b4f3fc9e",
   "metadata": {},
   "outputs": [],
   "source": [
    "##########################################"
   ]
  },
  {
   "cell_type": "code",
   "execution_count": null,
   "id": "bb3a33fc-cf7b-4298-8353-98e9097e5b18",
   "metadata": {},
   "outputs": [],
   "source": [
    "https://www.geeksforgeeks.org/problems/remove-characters-from-alphanumeric-string0648/1?page=1&category=Strings&difficulty=School&sortBy=difficulty"
   ]
  },
  {
   "cell_type": "code",
   "execution_count": 60,
   "id": "446e91b1-3983-488f-9ded-73d8da5f94f7",
   "metadata": {},
   "outputs": [
    {
     "name": "stdout",
     "output_type": "stream",
     "text": [
      "The given string is:\n",
      "W3lc0m3\n",
      "Removing all the characters except digits\n",
      "303\n"
     ]
    }
   ],
   "source": [
    "str1 = \"W3lc0m3\"\n",
    "\n",
    "print(\"The given string is:\")\n",
    "print(str1)\n",
    "\n",
    "print(\"Removing all the characters except digits\")\n",
    "\n",
    "result = ''.join(list(filter(lambda i: i.isdigit(), str1)))\n",
    "print(result)"
   ]
  },
  {
   "cell_type": "code",
   "execution_count": null,
   "id": "25e5aecd-3faf-410d-9d98-803b79056c07",
   "metadata": {},
   "outputs": [],
   "source": []
  },
  {
   "cell_type": "code",
   "execution_count": null,
   "id": "3ca1aa7a-3376-4ec2-a639-104b4abf2ebc",
   "metadata": {},
   "outputs": [],
   "source": []
  },
  {
   "cell_type": "code",
   "execution_count": null,
   "id": "ebbf2f50-df36-4e07-9d59-3f438f65a7de",
   "metadata": {},
   "outputs": [],
   "source": []
  },
  {
   "cell_type": "code",
   "execution_count": null,
   "id": "0b960f94-52d1-477c-b31e-4f6200d7a113",
   "metadata": {},
   "outputs": [],
   "source": []
  },
  {
   "cell_type": "code",
   "execution_count": null,
   "id": "3c39b7c9-7c62-40e2-a4d8-a17902495e30",
   "metadata": {},
   "outputs": [],
   "source": [
    "#################################################################"
   ]
  },
  {
   "cell_type": "code",
   "execution_count": null,
   "id": "9d358c70-b8f7-4cd2-bff9-2299887f0dd3",
   "metadata": {},
   "outputs": [],
   "source": [
    "https://www.geeksforgeeks.org/problems/convert-a-list-of-characters-into-a-string5142/1?page=1&category=Strings&difficulty=School&sortBy=difficulty"
   ]
  },
  {
   "cell_type": "code",
   "execution_count": 51,
   "id": "a9cc1c11-8ede-4f67-a1a0-f13a657b7d2b",
   "metadata": {},
   "outputs": [
    {
     "name": "stdout",
     "output_type": "stream",
     "text": [
      "ab\n"
     ]
    }
   ],
   "source": [
    "array = ['a', 'b']\n",
    "print(''.join(array))"
   ]
  },
  {
   "cell_type": "code",
   "execution_count": null,
   "id": "5c47861b-ef9d-40f4-a8fa-7f84420e4ccd",
   "metadata": {},
   "outputs": [],
   "source": []
  },
  {
   "cell_type": "code",
   "execution_count": null,
   "id": "9cf2c37f-b3c8-4034-bdfa-edb196011cf1",
   "metadata": {},
   "outputs": [],
   "source": []
  },
  {
   "cell_type": "markdown",
   "id": "37b8aceb-5c55-41e5-81b2-caafabf6f4e3",
   "metadata": {},
   "source": [
    "##################################################################"
   ]
  },
  {
   "cell_type": "code",
   "execution_count": null,
   "id": "2d7ea80d-5d7d-4da6-93a5-a9ebeed7b73a",
   "metadata": {},
   "outputs": [],
   "source": [
    "https://www.geeksforgeeks.org/problems/check-string1818/1?page=1&category=Strings&difficulty=School&sortBy=difficulty"
   ]
  },
  {
   "cell_type": "code",
   "execution_count": 35,
   "id": "bca437ca-073f-40e0-ac0f-55a38e895920",
   "metadata": {},
   "outputs": [],
   "source": [
    "string1 = \"gggggggg\"\n",
    "same = string1[0].lower()\n",
    "true = 0\n",
    "false = 0\n",
    "for i in string1.lower():\n",
    "    if same != i:\n",
    "        print(False)\n",
    "        break\n",
    "    else:\n",
    "        print(False)"
   ]
  },
  {
   "cell_type": "code",
   "execution_count": 32,
   "id": "5daf1a7b-71d2-4bc5-a82e-28d270ab3f8a",
   "metadata": {},
   "outputs": [
    {
     "name": "stdout",
     "output_type": "stream",
     "text": [
      "False\n",
      "True\n"
     ]
    }
   ],
   "source": [
    "string1 = \"ggggggg25g\"\n",
    "same = string1[0].lower()\n",
    "true = 0\n",
    "false = 0\n",
    "for i in string1.lower():\n",
    "    if same == i:\n",
    "        true += len(i)\n",
    "    else:\n",
    "        false += len(i)\n",
    "        print(False)\n",
    "        break\n"
   ]
  },
  {
   "cell_type": "code",
   "execution_count": 39,
   "id": "dbd4efd1-3e25-49b3-807a-820c53e9d95b",
   "metadata": {},
   "outputs": [
    {
     "name": "stdout",
     "output_type": "stream",
     "text": [
      "[True, False, False, False]\n"
     ]
    }
   ],
   "source": [
    "s1 = \"ghtk\"\n",
    "result = [ch == s1[0] for ch in s1]\n",
    "print(result)"
   ]
  },
  {
   "cell_type": "code",
   "execution_count": 44,
   "id": "234abd09-1bf1-4f63-a01a-cbce91b6131c",
   "metadata": {},
   "outputs": [
    {
     "name": "stdout",
     "output_type": "stream",
     "text": [
      "True\n"
     ]
    }
   ],
   "source": [
    "s1 = \"33333\"\n"
   ]
  },
  {
   "cell_type": "code",
   "execution_count": 47,
   "id": "40d7b172-93fa-4f61-9080-3048059d4f28",
   "metadata": {},
   "outputs": [
    {
     "data": {
      "text/plain": [
       "{'H'}"
      ]
     },
     "execution_count": 47,
     "metadata": {},
     "output_type": "execute_result"
    }
   ],
   "source": [
    "# check now one or more cherector used\n",
    "set(\"HHHHH\")"
   ]
  },
  {
   "cell_type": "code",
   "execution_count": null,
   "id": "95670c1b-c0ca-498c-afe5-7e3865229c3c",
   "metadata": {},
   "outputs": [],
   "source": []
  },
  {
   "cell_type": "code",
   "execution_count": 1,
   "id": "ea02f196-f2d4-4b3d-a196-2994f679ffa6",
   "metadata": {},
   "outputs": [],
   "source": [
    "######################################################################################################"
   ]
  },
  {
   "cell_type": "markdown",
   "id": "0535e907-f1fa-4f86-a2c6-4f85b0d0b739",
   "metadata": {},
   "source": [
    "https://www.geeksforgeeks.org/problems/check-for-binary/1?page=1&category=Strings&difficulty=School&sortBy=difficulty"
   ]
  },
  {
   "cell_type": "code",
   "execution_count": 60,
   "id": "4bb4f7a8-ac0b-44fc-afc4-a55bb47489f4",
   "metadata": {},
   "outputs": [
    {
     "name": "stdout",
     "output_type": "stream",
     "text": [
      "0\n"
     ]
    }
   ],
   "source": [
    "string = \"01111080110101100\"\n",
    "false = None\n",
    "for i in string:\n",
    "    if i not in (\"1\", \"0\"):\n",
    "        false = i\n",
    "        break\n",
    "if false==None:\n",
    "    print(int(True))\n",
    "else:\n",
    "    print(int(False))\n"
   ]
  },
  {
   "cell_type": "code",
   "execution_count": 49,
   "id": "a8bf9d70-4fdf-4dee-b4c0-0e0091e42027",
   "metadata": {},
   "outputs": [
    {
     "name": "stdout",
     "output_type": "stream",
     "text": [
      "1\n",
      "0\n"
     ]
    }
   ],
   "source": [
    "print(int(True))\n",
    "print(int(False))"
   ]
  },
  {
   "cell_type": "code",
   "execution_count": 2,
   "id": "168bf988-a4d9-4174-a2f1-5c09cea26f37",
   "metadata": {},
   "outputs": [],
   "source": [
    "############################################################################################################"
   ]
  },
  {
   "cell_type": "code",
   "execution_count": 3,
   "id": "f166948c-900d-4517-b59d-21acd6de4d94",
   "metadata": {},
   "outputs": [
    {
     "name": "stdout",
     "output_type": "stream",
     "text": [
      "GeeksforGeeks\n"
     ]
    }
   ],
   "source": [
    "names = [ \"Geek\", \"Geeks\", \"Geeksfor\",  \"GeeksforGeek\", \"GeeksforGeeks\" ]\n",
    "names_length = -1\n",
    "names_string = None\n",
    "for i in names:\n",
    "    if len(i) > names_length:\n",
    "        names_length = len(i)\n",
    "        names_string = i\n",
    "print(names_string)\n"
   ]
  },
  {
   "cell_type": "code",
   "execution_count": null,
   "id": "e8bd4810-57a1-481b-a48f-fec9902a2ea5",
   "metadata": {},
   "outputs": [],
   "source": []
  },
  {
   "cell_type": "markdown",
   "id": "4548f2b0-6300-4b10-b4df-ad4c340fe66c",
   "metadata": {},
   "source": [
    "<pre>Input:\n",
    "N = 5\n",
    "names[] = { \"Geek\", \"Geeks\", \"Geeksfor\",\n",
    "  \"GeeksforGeek\", \"GeeksforGeeks\" }\n",
    "\n",
    "Output:\n",
    "GeeksforGeeks \n",
    "link : https://www.geeksforgeeks.org/problems/display-longest-name0853/1?page=1&category=Strings&difficulty=School&sortBy=difficulty\n",
    "</pre>"
   ]
  },
  {
   "cell_type": "markdown",
   "id": "a4ff4645-d0f6-4c40-b941-5322fcd65270",
   "metadata": {},
   "source": [
    "# Geeks For Geeks"
   ]
  }
 ],
 "metadata": {
  "kernelspec": {
   "display_name": "Python 3 (ipykernel)",
   "language": "python",
   "name": "python3"
  },
  "language_info": {
   "codemirror_mode": {
    "name": "ipython",
    "version": 3
   },
   "file_extension": ".py",
   "mimetype": "text/x-python",
   "name": "python",
   "nbconvert_exporter": "python",
   "pygments_lexer": "ipython3",
   "version": "3.10.5"
  }
 },
 "nbformat": 4,
 "nbformat_minor": 5
}
