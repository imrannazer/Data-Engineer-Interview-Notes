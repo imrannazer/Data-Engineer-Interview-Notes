{
 "cells": [
  {
   "cell_type": "code",
   "execution_count": null,
   "id": "5c47861b-ef9d-40f4-a8fa-7f84420e4ccd",
   "metadata": {},
   "outputs": [],
   "source": []
  },
  {
   "cell_type": "code",
   "execution_count": null,
   "id": "9cf2c37f-b3c8-4034-bdfa-edb196011cf1",
   "metadata": {},
   "outputs": [],
   "source": []
  },
  {
   "cell_type": "code",
   "execution_count": null,
   "id": "2d7ea80d-5d7d-4da6-93a5-a9ebeed7b73a",
   "metadata": {},
   "outputs": [],
   "source": []
  },
  {
   "cell_type": "code",
   "execution_count": null,
   "id": "5daf1a7b-71d2-4bc5-a82e-28d270ab3f8a",
   "metadata": {},
   "outputs": [],
   "source": []
  },
  {
   "cell_type": "code",
   "execution_count": null,
   "id": "dbd4efd1-3e25-49b3-807a-820c53e9d95b",
   "metadata": {},
   "outputs": [],
   "source": []
  },
  {
   "cell_type": "code",
   "execution_count": null,
   "id": "234abd09-1bf1-4f63-a01a-cbce91b6131c",
   "metadata": {},
   "outputs": [],
   "source": []
  },
  {
   "cell_type": "code",
   "execution_count": 1,
   "id": "ea02f196-f2d4-4b3d-a196-2994f679ffa6",
   "metadata": {},
   "outputs": [],
   "source": [
    "######################################################################################################"
   ]
  },
  {
   "cell_type": "markdown",
   "id": "0535e907-f1fa-4f86-a2c6-4f85b0d0b739",
   "metadata": {},
   "source": [
    "https://www.geeksforgeeks.org/problems/check-for-binary/1?page=1&category=Strings&difficulty=School&sortBy=difficulty"
   ]
  },
  {
   "cell_type": "code",
   "execution_count": 60,
   "id": "4bb4f7a8-ac0b-44fc-afc4-a55bb47489f4",
   "metadata": {},
   "outputs": [
    {
     "name": "stdout",
     "output_type": "stream",
     "text": [
      "0\n"
     ]
    }
   ],
   "source": [
    "string = \"01111080110101100\"\n",
    "false = None\n",
    "for i in string:\n",
    "    if i not in (\"1\", \"0\"):\n",
    "        false = i\n",
    "        break\n",
    "if false==None:\n",
    "    print(int(True))\n",
    "else:\n",
    "    print(int(False))\n"
   ]
  },
  {
   "cell_type": "code",
   "execution_count": 49,
   "id": "a8bf9d70-4fdf-4dee-b4c0-0e0091e42027",
   "metadata": {},
   "outputs": [
    {
     "name": "stdout",
     "output_type": "stream",
     "text": [
      "1\n",
      "0\n"
     ]
    }
   ],
   "source": [
    "print(int(True))\n",
    "print(int(False))"
   ]
  },
  {
   "cell_type": "code",
   "execution_count": 2,
   "id": "168bf988-a4d9-4174-a2f1-5c09cea26f37",
   "metadata": {},
   "outputs": [],
   "source": [
    "############################################################################################################"
   ]
  },
  {
   "cell_type": "code",
   "execution_count": 3,
   "id": "f166948c-900d-4517-b59d-21acd6de4d94",
   "metadata": {},
   "outputs": [
    {
     "name": "stdout",
     "output_type": "stream",
     "text": [
      "GeeksforGeeks\n"
     ]
    }
   ],
   "source": [
    "names = [ \"Geek\", \"Geeks\", \"Geeksfor\",  \"GeeksforGeek\", \"GeeksforGeeks\" ]\n",
    "names_length = -1\n",
    "names_string = None\n",
    "for i in names:\n",
    "    if len(i) > names_length:\n",
    "        names_length = len(i)\n",
    "        names_string = i\n",
    "print(names_string)\n"
   ]
  },
  {
   "cell_type": "code",
   "execution_count": null,
   "id": "e8bd4810-57a1-481b-a48f-fec9902a2ea5",
   "metadata": {},
   "outputs": [],
   "source": []
  },
  {
   "cell_type": "markdown",
   "id": "4548f2b0-6300-4b10-b4df-ad4c340fe66c",
   "metadata": {},
   "source": [
    "<pre>Input:\n",
    "N = 5\n",
    "names[] = { \"Geek\", \"Geeks\", \"Geeksfor\",\n",
    "  \"GeeksforGeek\", \"GeeksforGeeks\" }\n",
    "\n",
    "Output:\n",
    "GeeksforGeeks \n",
    "link : https://www.geeksforgeeks.org/problems/display-longest-name0853/1?page=1&category=Strings&difficulty=School&sortBy=difficulty\n",
    "</pre>"
   ]
  },
  {
   "cell_type": "markdown",
   "id": "a4ff4645-d0f6-4c40-b941-5322fcd65270",
   "metadata": {},
   "source": [
    "# Geeks For Geeks"
   ]
  }
 ],
 "metadata": {
  "kernelspec": {
   "display_name": "Python 3 (ipykernel)",
   "language": "python",
   "name": "python3"
  },
  "language_info": {
   "codemirror_mode": {
    "name": "ipython",
    "version": 3
   },
   "file_extension": ".py",
   "mimetype": "text/x-python",
   "name": "python",
   "nbconvert_exporter": "python",
   "pygments_lexer": "ipython3",
   "version": "3.10.5"
  }
 },
 "nbformat": 4,
 "nbformat_minor": 5
}
