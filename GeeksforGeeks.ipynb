{
 "cells": [
  {
   "cell_type": "code",
   "execution_count": null,
   "id": "de0df666-4ed9-4829-bd01-1778012f9414",
   "metadata": {},
   "outputs": [],
   "source": []
  },
  {
   "cell_type": "code",
   "execution_count": null,
   "id": "4bb4f7a8-ac0b-44fc-afc4-a55bb47489f4",
   "metadata": {},
   "outputs": [],
   "source": []
  },
  {
   "cell_type": "code",
   "execution_count": null,
   "id": "a8bf9d70-4fdf-4dee-b4c0-0e0091e42027",
   "metadata": {},
   "outputs": [],
   "source": []
  },
  {
   "cell_type": "code",
   "execution_count": null,
   "id": "41278133-fe17-4527-835d-4041b5f01c7c",
   "metadata": {},
   "outputs": [],
   "source": [
    "print()"
   ]
  },
  {
   "cell_type": "code",
   "execution_count": null,
   "id": "dcddddf3-0e60-47fb-b9da-0a7b64ba1301",
   "metadata": {},
   "outputs": [],
   "source": [
    "print(\"hello\")"
   ]
  },
  {
   "cell_type": "code",
   "execution_count": null,
   "id": "f166948c-900d-4517-b59d-21acd6de4d94",
   "metadata": {},
   "outputs": [],
   "source": [
    "names = [ \"Geek\", \"Geeks\", \"Geeksfor\",  \"GeeksforGeek\", \"GeeksforGeeks\" ]\n",
    "length = []\n",
    "\n",
    "for i in names:\n",
    "    length.append(int(len(i)))\n",
    "dicti = dict(zip(names, length))\n",
    "max_value = max(dicti.values())\n",
    "print(max_value)\n",
    "for i in len(dicti.values()):\n",
    "    print(i)"
   ]
  },
  {
   "cell_type": "code",
   "execution_count": null,
   "id": "e8bd4810-57a1-481b-a48f-fec9902a2ea5",
   "metadata": {},
   "outputs": [],
   "source": []
  },
  {
   "cell_type": "markdown",
   "id": "4548f2b0-6300-4b10-b4df-ad4c340fe66c",
   "metadata": {},
   "source": [
    "<pre>Input:\n",
    "N = 5\n",
    "names[] = { \"Geek\", \"Geeks\", \"Geeksfor\",\n",
    "  \"GeeksforGeek\", \"GeeksforGeeks\" }\n",
    "\n",
    "Output:\n",
    "GeeksforGeeks \n",
    "link : https://www.geeksforgeeks.org/problems/display-longest-name0853/1?page=1&category=Strings&difficulty=School&sortBy=difficulty\n",
    "</pre>"
   ]
  },
  {
   "cell_type": "markdown",
   "id": "a4ff4645-d0f6-4c40-b941-5322fcd65270",
   "metadata": {},
   "source": [
    "# Geeks For Geeks"
   ]
  }
 ],
 "metadata": {
  "kernelspec": {
   "display_name": "Python 3 (ipykernel)",
   "language": "python",
   "name": "python3"
  },
  "language_info": {
   "codemirror_mode": {
    "name": "ipython",
    "version": 3
   },
   "file_extension": ".py",
   "mimetype": "text/x-python",
   "name": "python",
   "nbconvert_exporter": "python",
   "pygments_lexer": "ipython3",
   "version": "3.10.5"
  }
 },
 "nbformat": 4,
 "nbformat_minor": 5
}
