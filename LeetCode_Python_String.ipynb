{
 "cells": [
  {
   "cell_type": "markdown",
   "id": "e63a9293",
   "metadata": {},
   "source": [
    "13. Integer to roman"
   ]
  },
  {
   "cell_type": "code",
   "execution_count": 64,
   "id": "aa6128e7-9785-42b3-82a6-0626ee205088",
   "metadata": {},
   "outputs": [
    {
     "name": "stdout",
     "output_type": "stream",
     "text": [
      "CCXLV\n"
     ]
    }
   ],
   "source": [
    "num = [1000, 900, 500, 400, 100, 90, 50, 40, 10, 9, 5, 4, 1]\n",
    "sym = ['M', 'CM', 'D', 'CD', 'C', 'XC', 'L', 'XL', 'X', 'IX', 'V', 'IV', 'I']\n",
    "number = 245\n",
    "roman = ''\n",
    "i=0\n",
    "while number > 0:\n",
    "    div = number // num[i]\n",
    "    number = number%num[i] \n",
    "    while div:\n",
    "        roman = roman + sym[i]\n",
    "        div = div-1\n",
    "    i +=1\n",
    "print(roman)"
   ]
  },
  {
   "cell_type": "markdown",
   "id": "46afc593",
   "metadata": {},
   "source": [
    "13. Roman to Integer"
   ]
  },
  {
   "cell_type": "code",
   "execution_count": 62,
   "id": "053aa1cf",
   "metadata": {},
   "outputs": [
    {
     "name": "stdout",
     "output_type": "stream",
     "text": [
      "1150\n"
     ]
    }
   ],
   "source": [
    "romansDict = {\"I\":1,\"V\":5, \"X\":10, \"L\":50, \"C\":100, \"D\":500, \"M\":1000, \"G\":5000, \"H\":10000}\n",
    "number = 0\n",
    "s = 'Clm'\n",
    "s = s.upper()\n",
    "s = s.replace(\"IV\", \"IIII\")\n",
    "s = s.replace(\"IX\", \"VIIII\")\n",
    "s = s.replace(\"XL\", \"XXXX\")\n",
    "s = s.replace(\"XC\", \"LXXXX\")\n",
    "s = s.replace(\"CD\", \"CCCC\")\n",
    "s = s.replace(\"CM\", \"DCCCC\")\n",
    "for char in s:\n",
    "    number += romansDict[char]\n",
    "print(number)"
   ]
  },
  {
   "cell_type": "markdown",
   "id": "4316b987",
   "metadata": {},
   "source": []
  },
  {
   "cell_type": "code",
   "execution_count": null,
   "id": "84aa9807",
   "metadata": {},
   "outputs": [],
   "source": []
  },
  {
   "cell_type": "code",
   "execution_count": null,
   "id": "cb38236b-73ad-4214-ba71-eea28063f51f",
   "metadata": {},
   "outputs": [],
   "source": []
  }
 ],
 "metadata": {
  "kernelspec": {
   "display_name": "Python 3 (ipykernel)",
   "language": "python",
   "name": "python3"
  },
  "language_info": {
   "codemirror_mode": {
    "name": "ipython",
    "version": 3
   },
   "file_extension": ".py",
   "mimetype": "text/x-python",
   "name": "python",
   "nbconvert_exporter": "python",
   "pygments_lexer": "ipython3",
   "version": "3.10.5"
  }
 },
 "nbformat": 4,
 "nbformat_minor": 5
}
