{
 "cells": [
  {
   "cell_type": "markdown",
   "id": "d90a5fe8-8706-4b5a-945f-dfbc206473a4",
   "metadata": {},
   "source": [
    "## Date and Time"
   ]
  },
  {
   "cell_type": "markdown",
   "id": "69351c3b-50b5-4f12-bbb3-fb5eac3e5d41",
   "metadata": {},
   "source": [
    "` to_timestamp(timestampString:Column,format:String)` : Used to type cast into data and time format (MM-dd-yyyy HH:mm:ss.SSS). You should adjust time format according to data/column.                 \n",
    "`df.select(to_timestamp(\"data_time_col_name\"))`"
   ]
  },
  {
   "cell_type": "markdown",
   "id": "f3e4f96c-3a64-4ee5-a9e9-38863f75d5b5",
   "metadata": {},
   "source": []
  },
  {
   "cell_type": "markdown",
   "id": "99999baa-1c5a-4d2b-a9fe-7e028d9ebbd5",
   "metadata": {},
   "source": [
    "`expr()`: It is a SQL function to execute SQL-like expressions and to use an existing DataFrame column value as an ***expression argument** to Pyspark built-in functions."
   ]
  },
  {
   "cell_type": "markdown",
   "id": "b7076999-3f96-43de-952d-48b072ca090a",
   "metadata": {},
   "source": [
    "`when().otherwise()`"
   ]
  },
  {
   "cell_type": "markdown",
   "id": "0a41aa87-3643-4778-af11-714f92a94613",
   "metadata": {},
   "source": []
  },
  {
   "cell_type": "markdown",
   "id": "07e9b194-a174-4254-8c9b-6435d6a7e609",
   "metadata": {},
   "source": [
    "`df.explain()` : Show DAG plan(how to run your code)"
   ]
  },
  {
   "cell_type": "markdown",
   "id": "bbf26833-e502-42cc-8da7-fd2f0e7e322d",
   "metadata": {},
   "source": [
    "`coalesce().lit()`"
   ]
  },
  {
   "cell_type": "markdown",
   "id": "0f1fffef-280a-402c-b752-777c2c019595",
   "metadata": {},
   "source": [
    "`df.sample(withReplacement, fraction, seed=None)`: It is a mechanism to get random sample records from the dataset, this is helpful when you have a larger dataset and wanted to analyze/test a subset of the data for example 10% of the original file."
   ]
  },
  {
   "cell_type": "markdown",
   "id": "e6ee1889-0f9a-4462-b5eb-be9a0f4598ee",
   "metadata": {},
   "source": [
    "`df.na.fill()`"
   ]
  },
  {
   "cell_type": "markdown",
   "id": "c0673fb4-8137-4189-8dec-80ec806b78ad",
   "metadata": {},
   "source": [
    "`df.fillna()`"
   ]
  },
  {
   "cell_type": "markdown",
   "id": "4d9413ac-103b-412c-97ae-f13ce987f092",
   "metadata": {},
   "source": [
    "`monotonically_increasing_id()`"
   ]
  },
  {
   "cell_type": "markdown",
   "id": "6599ed2a-cb2a-4472-843b-76d399edf971",
   "metadata": {},
   "source": [
    "`df.orderBy()`"
   ]
  },
  {
   "cell_type": "markdown",
   "id": "3a886749-549c-43f4-978f-6309b6f25312",
   "metadata": {},
   "source": [
    "`df.select().distinct().agg()`"
   ]
  },
  {
   "cell_type": "markdown",
   "id": "e932eec6-b5ad-4454-99e1-697ebcec1b9e",
   "metadata": {},
   "source": [
    "`df.select(,when().otherwise())`"
   ]
  },
  {
   "cell_type": "markdown",
   "id": "a5e7e94f-6a6c-40a4-81fe-96e1b46e5875",
   "metadata": {},
   "source": [
    "`df.withColumn(string, when(,otherwise).alias())`"
   ]
  },
  {
   "cell_type": "markdown",
   "id": "6713f3d1-d3a3-4698-9275-bf95b2eed27b",
   "metadata": {},
   "source": [
    "`desc_null_first()`"
   ]
  },
  {
   "cell_type": "markdown",
   "id": "c1d1b0af-7bff-4bb5-a513-3fd2a5e507b7",
   "metadata": {},
   "source": [
    "`to_timestamp()` : data and time casting"
   ]
  },
  {
   "cell_type": "markdown",
   "id": "867d6835-7914-4614-a090-293072189f2f",
   "metadata": {},
   "source": [
    "`date_sub()` : substract date"
   ]
  },
  {
   "cell_type": "markdown",
   "id": "fad01e16-5cb8-4548-bb62-eaef0d3bcf13",
   "metadata": {},
   "source": [
    "`cast()`"
   ]
  },
  {
   "cell_type": "markdown",
   "id": "b17a8932-af14-453e-9ef0-89f65d31d65c",
   "metadata": {},
   "source": [
    "`lit(None)`"
   ]
  },
  {
   "cell_type": "markdown",
   "id": "ba948680-3e19-4a59-97e3-6605505808bb",
   "metadata": {},
   "source": [
    "`df.schema()`"
   ]
  },
  {
   "cell_type": "markdown",
   "id": "bb35f770-84c8-4dc8-996d-3fa42387a909",
   "metadata": {},
   "source": [
    "`df.selectExpr()`"
   ]
  },
  {
   "cell_type": "markdown",
   "id": "b919ef1f-754f-415c-802c-2588d4a39695",
   "metadata": {},
   "source": []
  },
  {
   "cell_type": "markdown",
   "id": "12c5e488-3d36-4462-afdf-a0840224221a",
   "metadata": {},
   "source": []
  },
  {
   "cell_type": "markdown",
   "id": "743574cc-8e7a-4eeb-8f8c-0c421d91a5dd",
   "metadata": {},
   "source": []
  },
  {
   "cell_type": "markdown",
   "id": "303da484-6613-4a7e-86d1-a394442f0ac4",
   "metadata": {},
   "source": []
  },
  {
   "cell_type": "markdown",
   "id": "fc24756f-b714-4a1f-bc9f-19610dfbe4e4",
   "metadata": {},
   "source": []
  },
  {
   "cell_type": "markdown",
   "id": "87692349-ee8c-429d-8d90-27b806d38e1d",
   "metadata": {},
   "source": []
  },
  {
   "cell_type": "markdown",
   "id": "d7baf55d-8409-4c53-ae1d-3244217bd84c",
   "metadata": {},
   "source": []
  },
  {
   "cell_type": "markdown",
   "id": "5b76bbd5-1496-4844-b4aa-fabf18d9ef8c",
   "metadata": {},
   "source": []
  },
  {
   "cell_type": "markdown",
   "id": "2205c706-8205-4f82-8651-baa8ccf100aa",
   "metadata": {},
   "source": []
  },
  {
   "cell_type": "markdown",
   "id": "9e947073-3dbb-4cf5-aa33-666bca727d29",
   "metadata": {},
   "source": []
  }
 ],
 "metadata": {
  "kernelspec": {
   "display_name": "Python 3 (ipykernel)",
   "language": "python",
   "name": "python3"
  },
  "language_info": {
   "codemirror_mode": {
    "name": "ipython",
    "version": 3
   },
   "file_extension": ".py",
   "mimetype": "text/x-python",
   "name": "python",
   "nbconvert_exporter": "python",
   "pygments_lexer": "ipython3",
   "version": "3.10.5"
  }
 },
 "nbformat": 4,
 "nbformat_minor": 5
}
