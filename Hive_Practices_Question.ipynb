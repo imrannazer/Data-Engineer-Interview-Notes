{
 "cells": [
  {
   "cell_type": "markdown",
   "id": "76364911-81dc-43db-83c1-c4f5198d6c71",
   "metadata": {},
   "source": [
    "**1. What is the Hive**\r",
    "** **\n",
    "**A**. Hive is a data warehousing and sql-like query language system built on Hadoop for managing and querying large-scale structured and semi-structured data store in distributed storage"
   ]
  },
  {
   "cell_type": "markdown",
   "id": "3e347d62-ba06-41af-854d-654a825a5841",
   "metadata": {},
   "source": [
    "**2. What is the Hive default warehouse directory location**\n",
    "** **\n",
    "**A.** "
   ]
  },
  {
   "cell_type": "markdown",
   "id": "80d2b9e5-d6b0-47f5-899f-3b4a71a858d8",
   "metadata": {},
   "source": [
    "**3. What is the Hive schema type read/write**\n",
    "** **\n",
    "**A.** "
   ]
  },
  {
   "cell_type": "markdown",
   "id": "71e21133-3e2b-4588-a7e4-9cf4b935edca",
   "metadata": {},
   "source": [
    "**4. Where store Hive data**\n",
    "** **\n",
    "**A.** "
   ]
  },
  {
   "cell_type": "markdown",
   "id": "25a1f093-68e6-46ab-9434-5d8418a89ef7",
   "metadata": {},
   "source": [
    "**5. where store Hive metadata**\n",
    "** **\n",
    "**A.** "
   ]
  },
  {
   "cell_type": "markdown",
   "id": "8f184121-0d84-44be-ace8-b2e41141cc64",
   "metadata": {},
   "source": [
    "**6. Where data process in Hive**\n",
    "** **\n",
    "**A.** "
   ]
  },
  {
   "cell_type": "markdown",
   "id": "216bd651-fcc5-4891-8357-92d0a3855473",
   "metadata": {},
   "source": [
    "**7. What is the hive storage format column or raw**\n",
    "** **\n",
    "**A.** "
   ]
  },
  {
   "cell_type": "markdown",
   "id": "ee095972-840f-47c1-90a3-20c6c462a8db",
   "metadata": {},
   "source": [
    "**8. What is  Hive scalability on Hadoop cluster**\n",
    "** **\n",
    "**A.** "
   ]
  },
  {
   "cell_type": "markdown",
   "id": "45d251cd-9165-46ff-a134-bd7b931331a5",
   "metadata": {},
   "source": [
    "**9. Explain database operations like create, drop, etc.**\n",
    "** **\n",
    "**A.** "
   ]
  },
  {
   "cell_type": "markdown",
   "id": "5406fd19-4e39-4dca-8885-c034c44f2f14",
   "metadata": {},
   "source": [
    "**10. how to create table in Hive**\n",
    "** **\n",
    "**A.** "
   ]
  },
  {
   "cell_type": "markdown",
   "id": "d40db5ac-bc84-4bb6-9b21-78f248adbeff",
   "metadata": {},
   "source": [
    "**11. What is the difference between describe formatted and describe extended**\n",
    "** **\n",
    "**A.** "
   ]
  },
  {
   "cell_type": "markdown",
   "id": "34846e5d-dd64-4343-92c8-503189db4241",
   "metadata": {},
   "source": [
    "**12. Load data on Hive table from HDFS**\n",
    "** **\n",
    "**A.** "
   ]
  },
  {
   "cell_type": "markdown",
   "id": "e10be98c-fb4e-4211-86db-c97685fe9550",
   "metadata": {},
   "source": [
    "**13. Load data on hive table from local system**\n",
    "** **\n",
    "**A.** "
   ]
  },
  {
   "cell_type": "markdown",
   "id": "13644d6a-67f4-458b-8e27-337a7842962d",
   "metadata": {},
   "source": [
    "**14. Find the difference between \"load data local in path\" and \"load data inpath\"**\n",
    "** **\n",
    "**A.** "
   ]
  },
  {
   "cell_type": "markdown",
   "id": "4c7d46a0-4c5b-48bd-918b-c0eabb862f04",
   "metadata": {},
   "source": [
    "**15. What is the difference between external table and internal table in Hive**\n",
    "** **\n",
    "**A.** "
   ]
  },
  {
   "cell_type": "markdown",
   "id": "8d774aea-dd51-4a5e-b02c-369e4082a8f2",
   "metadata": {},
   "source": [
    "**16. How to create external table and internal table in Hive**\n",
    "** **\n",
    "**A.** "
   ]
  },
  {
   "cell_type": "markdown",
   "id": "d56ad1a9-1aa6-474a-8d1c-b69e33c4a6f1",
   "metadata": {},
   "source": [
    "**17. How to convert external table to internal table and internal table to external table**\n",
    "** **\n",
    "**A.** "
   ]
  },
  {
   "cell_type": "markdown",
   "id": "dd0167ac-c3fa-4ae2-aa9b-58fb468ea0cd",
   "metadata": {},
   "source": [
    "**18. How to copy from existing table to new table schema only**\n",
    "** **\n",
    "**A.** "
   ]
  },
  {
   "cell_type": "markdown",
   "id": "71f3a886-abce-4a22-9103-04c093588485",
   "metadata": {},
   "source": [
    "**19. how to copy existing table data in new table in Hive**\n",
    "** **\n",
    "**A.** "
   ]
  },
  {
   "cell_type": "markdown",
   "id": "a0e47e5c-f3b1-4f25-9b22-89e38c01edec",
   "metadata": {},
   "source": [
    "**20. What is the temporary table and how to create it**\n",
    "** **\n",
    "**A.** "
   ]
  },
  {
   "cell_type": "markdown",
   "id": "dc576105-7e4d-46aa-8ee1-6e134148d6f6",
   "metadata": {},
   "source": [
    "**21. How to export hive table data to local system**\n",
    "** **\n",
    "**A.** "
   ]
  },
  {
   "cell_type": "markdown",
   "id": "06161172-5283-4e4d-b3a4-1d34a7858d61",
   "metadata": {},
   "source": [
    "**22. What is the Array, Map and Struck in Hive table**\n",
    "** **\n",
    "**A.** "
   ]
  },
  {
   "cell_type": "markdown",
   "id": "e7caba7e-9248-49fc-91a9-f7058ad3e422",
   "metadata": {},
   "source": [
    "**23. How many types of handling null value in Hive table and how do it**\n",
    "** **\n",
    "**A.** "
   ]
  },
  {
   "cell_type": "markdown",
   "id": "9b4366cc-1db0-4272-81b3-dda90ff85566",
   "metadata": {},
   "source": [
    "**24. List of string function in Hive**\n",
    "** **\n",
    "**A.** "
   ]
  },
  {
   "cell_type": "markdown",
   "id": "2ef04992-1a30-4c6d-a62f-e57ca22e306e",
   "metadata": {},
   "source": [
    "**25. What is the difference between partitioning and bucketing in Hive**\n",
    "** **\n",
    "**A.** "
   ]
  },
  {
   "cell_type": "markdown",
   "id": "85281f6f-9403-410f-b109-d3ea0acea336",
   "metadata": {},
   "source": [
    "**26. what is the difference between static partitioning and dynamic partitioning**\n",
    "** **\n",
    "**A.** "
   ]
  },
  {
   "cell_type": "markdown",
   "id": "91519848-aa83-4474-96c6-c58377085029",
   "metadata": {},
   "source": [
    "**27. Which keyword use to create partitioning table in Hive**\n",
    "** **\n",
    "**A.** "
   ]
  },
  {
   "cell_type": "markdown",
   "id": "4e0fccc3-20a2-4526-95e9-2306af113ea0",
   "metadata": {},
   "source": [
    "**28. which keywords use to create bucketing table in Hive**\n",
    "** **\n",
    "**A.** "
   ]
  },
  {
   "cell_type": "markdown",
   "id": "b164362b-693e-4e56-a039-5348696c2e74",
   "metadata": {},
   "source": [
    "**29. How to create static and dynamic partitioning in Hive**\n",
    "** **\n",
    "**A.** "
   ]
  },
  {
   "cell_type": "markdown",
   "id": "c6208879-1cc8-4220-9f29-82753591654c",
   "metadata": {},
   "source": [
    "**30. How to load data in dynamic and static partitioning**\n",
    "** **\n",
    "**A.** "
   ]
  },
  {
   "cell_type": "markdown",
   "id": "54ee81f1-9c07-475c-a871-e35869ab282b",
   "metadata": {},
   "source": [
    "**31. how to create bucketing table in Hive**\n",
    "** **\n",
    "**A.** "
   ]
  },
  {
   "cell_type": "markdown",
   "id": "778e4931-3d0e-443b-b203-4468fca93a3b",
   "metadata": {},
   "source": [
    "**32. How to create multi column partitioning in Hive**\n",
    "** **\n",
    "**A.** "
   ]
  },
  {
   "cell_type": "markdown",
   "id": "cc67fec5-c3e7-45b7-ab0a-7996c286ba69",
   "metadata": {},
   "source": [
    "**33. How to show partition column in Hive table**\n",
    "** **\n",
    "**A.** "
   ]
  },
  {
   "cell_type": "markdown",
   "id": "e19763d9-159c-483c-ab7c-8b2650778aeb",
   "metadata": {},
   "source": [
    "**34. What is the #hash function and how it worked in Hive bucketing**\n",
    "** **\n",
    "**A.** "
   ]
  },
  {
   "cell_type": "markdown",
   "id": "4ee7de55-0283-4510-a391-d8e74f8d9123",
   "metadata": {},
   "source": [
    "**35. What is the Hive design level optimization and storage level optimization**\n",
    "** **\n",
    "**A.** "
   ]
  },
  {
   "cell_type": "markdown",
   "id": "e6a142cd-1be8-470d-aeb4-a4c70375fce5",
   "metadata": {},
   "source": [
    "**36. what is the serialization and deserialization in Hive**\n",
    "** **\n",
    "**A.** "
   ]
  },
  {
   "cell_type": "markdown",
   "id": "30b7e208-c12d-4c07-b243-ce1f8f264485",
   "metadata": {},
   "source": [
    "**37. how many types of join in Hive**\n",
    "** **\n",
    "**A.** "
   ]
  },
  {
   "cell_type": "markdown",
   "id": "8579b70c-b3dc-4e17-a283-35308354a799",
   "metadata": {},
   "source": [
    "**38. What is the difference between common join, map-side join, bucket-map join, short-merge-bucket join and skew join**\n",
    "** **\n",
    "**A.** "
   ]
  },
  {
   "cell_type": "markdown",
   "id": "a7df8973-1852-41b6-89e0-99a559a81f93",
   "metadata": {},
   "source": [
    "**39. What is the cost based optimization**\n",
    "** **\n",
    "**A.** "
   ]
  },
  {
   "cell_type": "markdown",
   "id": "426e0868-7663-4de6-a304-4f1404f2031d",
   "metadata": {},
   "source": [
    "**40. How to use aggregation function in Hive**\n",
    "** **\n",
    "**A.** "
   ]
  },
  {
   "cell_type": "markdown",
   "id": "d1d78199-319f-406b-90c4-961642485a48",
   "metadata": {},
   "source": [
    "**41. How to use window function in hype**\n",
    "** **\n",
    "**A.** "
   ]
  },
  {
   "cell_type": "markdown",
   "id": "fa6d3e39-39c0-4251-80c6-fe27a5bd7cf1",
   "metadata": {},
   "source": [
    "**42. How to save Hive query in file and run after some time when you required this code**\n",
    "** **\n",
    "**A.** "
   ]
  },
  {
   "cell_type": "markdown",
   "id": "b44565de-520b-484b-a8c9-562b9bdeb0d4",
   "metadata": {},
   "source": [
    "**43. How to use HDFS command in Hive**\n",
    "** **\n",
    "**A.** "
   ]
  },
  {
   "cell_type": "markdown",
   "id": "835e098d-b0ed-4b18-8fa5-aa48126eebbc",
   "metadata": {},
   "source": [
    "**44. How to create view in Hive table**\n",
    "** **\n",
    "**A.** "
   ]
  },
  {
   "cell_type": "markdown",
   "id": "72cc0fab-8137-4ef2-b28b-9253f4f19516",
   "metadata": {},
   "source": [
    "****\n",
    "** **\n",
    "**A.** "
   ]
  },
  {
   "cell_type": "markdown",
   "id": "3944d03f-ffcd-4eb0-975e-045a1512f066",
   "metadata": {},
   "source": [
    "****\n",
    "** **\n",
    "**A.** "
   ]
  },
  {
   "cell_type": "markdown",
   "id": "f59f558a-7ce0-42fd-8089-7a46b2f46e1d",
   "metadata": {},
   "source": [
    "****\n",
    "** **\n",
    "**A.** "
   ]
  },
  {
   "cell_type": "markdown",
   "id": "b0620517-5a0c-4e85-ab4a-cac2b6660714",
   "metadata": {},
   "source": [
    "****\n",
    "** **\n",
    "**A.** "
   ]
  },
  {
   "cell_type": "markdown",
   "id": "1ad05fdc-88ba-4261-a57c-7b912b6ba646",
   "metadata": {},
   "source": [
    "****\n",
    "** **\n",
    "**A.** "
   ]
  }
 ],
 "metadata": {
  "kernelspec": {
   "display_name": "Python 3 (ipykernel)",
   "language": "python",
   "name": "python3"
  },
  "language_info": {
   "codemirror_mode": {
    "name": "ipython",
    "version": 3
   },
   "file_extension": ".py",
   "mimetype": "text/x-python",
   "name": "python",
   "nbconvert_exporter": "python",
   "pygments_lexer": "ipython3",
   "version": "3.10.5"
  }
 },
 "nbformat": 4,
 "nbformat_minor": 5
}
