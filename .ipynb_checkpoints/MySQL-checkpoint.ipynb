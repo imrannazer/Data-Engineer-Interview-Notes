{
 "cells": [
  {
   "cell_type": "markdown",
   "id": "f65268c7-9c79-433d-85ca-42d51adb1573",
   "metadata": {},
   "source": [
    "**Q. What is the difference between union and union all**\n",
    "***\n",
    "**A. **"
   ]
  },
  {
   "cell_type": "markdown",
   "id": "f9918c89-4bc8-4147-9502-7efec76c6526",
   "metadata": {},
   "source": []
  },
  {
   "cell_type": "markdown",
   "id": "ee02c8af-f5b0-42e2-968e-361a98161b98",
   "metadata": {},
   "source": []
  },
  {
   "cell_type": "markdown",
   "id": "5fc1d9ee-39dd-4015-81ce-ecdc8de9b38f",
   "metadata": {},
   "source": []
  },
  {
   "cell_type": "markdown",
   "id": "185e93c9-53c9-4514-8f50-c547c362cc5b",
   "metadata": {},
   "source": []
  },
  {
   "cell_type": "markdown",
   "id": "bf3ecf39-e820-4181-85fe-0a81ffe9ec5f",
   "metadata": {},
   "source": []
  },
  {
   "cell_type": "markdown",
   "id": "d6b1d31e-9462-4e16-8157-63d3f1a5611b",
   "metadata": {},
   "source": []
  },
  {
   "cell_type": "markdown",
   "id": "9c070746-343f-4732-914a-227a87253c4c",
   "metadata": {},
   "source": []
  },
  {
   "cell_type": "markdown",
   "id": "6e2ea654-1779-4cac-a875-dfb51cc0b8ad",
   "metadata": {},
   "source": []
  },
  {
   "cell_type": "markdown",
   "id": "4d2102ef-1fa1-4fc4-929d-6781612cb1f9",
   "metadata": {},
   "source": []
  },
  {
   "cell_type": "markdown",
   "id": "68ca7e84-f1d3-4deb-b2a3-c9bdd854893c",
   "metadata": {},
   "source": []
  },
  {
   "cell_type": "markdown",
   "id": "02e54471-cb9d-4324-8cf2-094689f759e0",
   "metadata": {},
   "source": []
  },
  {
   "cell_type": "markdown",
   "id": "81cc7b44-c5ea-4b9e-8949-f157e20b67e1",
   "metadata": {},
   "source": []
  },
  {
   "cell_type": "markdown",
   "id": "e10854ec-7175-47ec-9a4f-7e5d700e690c",
   "metadata": {},
   "source": []
  },
  {
   "cell_type": "markdown",
   "id": "33d952d7-897f-4c3e-b96c-4c6fa950e7f7",
   "metadata": {},
   "source": []
  },
  {
   "cell_type": "markdown",
   "id": "4dd5b822-63ef-41da-ae25-dbd51af41979",
   "metadata": {},
   "source": []
  },
  {
   "cell_type": "markdown",
   "id": "387176a7-8ab5-4e05-97e6-5d8bac38aefc",
   "metadata": {},
   "source": []
  },
  {
   "cell_type": "markdown",
   "id": "4e1e18fd-e82b-4101-809a-e111ffdd54e7",
   "metadata": {},
   "source": []
  },
  {
   "cell_type": "markdown",
   "id": "87633588-3295-484e-a1c7-866110ba33c7",
   "metadata": {},
   "source": []
  },
  {
   "cell_type": "markdown",
   "id": "8f1ecb69-3296-4bdf-8473-cce30790fb94",
   "metadata": {},
   "source": []
  },
  {
   "cell_type": "markdown",
   "id": "37338737-048a-40bd-8f64-dd98a5901fcd",
   "metadata": {},
   "source": []
  },
  {
   "cell_type": "markdown",
   "id": "b19bc57c-8788-41f8-a992-0caadc53b7ed",
   "metadata": {},
   "source": []
  },
  {
   "cell_type": "markdown",
   "id": "f21ef9a1-3756-46b4-bd06-825cc3837ccb",
   "metadata": {},
   "source": []
  },
  {
   "cell_type": "markdown",
   "id": "6bd4a6c3-90f5-4bc7-8976-ffc8e86ed89c",
   "metadata": {},
   "source": []
  },
  {
   "cell_type": "markdown",
   "id": "d708cd87-113a-4e46-808d-c432c7cf4cc0",
   "metadata": {},
   "source": []
  },
  {
   "cell_type": "markdown",
   "id": "309b13be-3174-47a3-a47a-56ddffcd5278",
   "metadata": {},
   "source": []
  },
  {
   "cell_type": "markdown",
   "id": "bb2f3f1c-0e68-4b76-8694-ec6f25dfbdb2",
   "metadata": {},
   "source": []
  },
  {
   "cell_type": "markdown",
   "id": "7685b285-adc3-431f-982d-f4abcc1114a6",
   "metadata": {},
   "source": []
  },
  {
   "cell_type": "markdown",
   "id": "e35fdb7f-013f-4063-b74e-61bbfc955b95",
   "metadata": {},
   "source": []
  },
  {
   "cell_type": "markdown",
   "id": "4d7440ba-4719-4987-bf74-210ff155d812",
   "metadata": {},
   "source": []
  },
  {
   "cell_type": "markdown",
   "id": "77e449dd-b872-4f1d-9b9a-fc0863afb741",
   "metadata": {},
   "source": []
  },
  {
   "cell_type": "markdown",
   "id": "7e2fac9d-16d6-4e5c-84e0-f140bacaedb4",
   "metadata": {},
   "source": []
  },
  {
   "cell_type": "markdown",
   "id": "b2022b08-f913-4924-ade2-9b65a90cd666",
   "metadata": {},
   "source": []
  },
  {
   "cell_type": "markdown",
   "id": "bb00f3e7-adfd-45e8-a03b-3e629f8dd6c9",
   "metadata": {},
   "source": []
  },
  {
   "cell_type": "markdown",
   "id": "1ed65b7a-2219-4b35-a376-9ef85d36f53a",
   "metadata": {},
   "source": []
  },
  {
   "cell_type": "markdown",
   "id": "b1177954-7eac-4c30-9021-adfe958fd034",
   "metadata": {},
   "source": []
  },
  {
   "cell_type": "markdown",
   "id": "499fc02a-1c49-4c91-aac7-1b6307a751e7",
   "metadata": {},
   "source": []
  },
  {
   "cell_type": "markdown",
   "id": "2afd146e-506c-4204-a325-7f414d4f4dcc",
   "metadata": {},
   "source": []
  },
  {
   "cell_type": "markdown",
   "id": "09f97a87-3c72-4cf9-8def-20ee8b3339cc",
   "metadata": {},
   "source": []
  },
  {
   "cell_type": "markdown",
   "id": "a3a4226a-b1ad-46c2-9528-9e566a7a5dc4",
   "metadata": {},
   "source": []
  },
  {
   "cell_type": "markdown",
   "id": "dd99f07c-16cf-44c9-a597-07165179aef8",
   "metadata": {},
   "source": []
  },
  {
   "cell_type": "markdown",
   "id": "698745ef-d5d9-4f52-a95b-2dc7eca85c57",
   "metadata": {},
   "source": []
  },
  {
   "cell_type": "markdown",
   "id": "c865bfbd-0b52-402e-9414-526deac910ff",
   "metadata": {},
   "source": []
  },
  {
   "cell_type": "markdown",
   "id": "ef5e63f9-e947-401e-ab9e-60f04b92c2bb",
   "metadata": {},
   "source": []
  },
  {
   "cell_type": "markdown",
   "id": "5393ae33-b85d-4d3b-9c19-91326b662325",
   "metadata": {},
   "source": []
  },
  {
   "cell_type": "markdown",
   "id": "2225c9ec-396c-4dab-8b38-176717447d16",
   "metadata": {},
   "source": []
  },
  {
   "cell_type": "markdown",
   "id": "d9bbe2c5-4e5d-47bf-a48c-5e11550cf28c",
   "metadata": {},
   "source": []
  },
  {
   "cell_type": "markdown",
   "id": "0a682775-af44-44a4-bbf2-682f0e483d16",
   "metadata": {},
   "source": []
  },
  {
   "cell_type": "markdown",
   "id": "9db56c47-e5d4-4aa3-ab0e-d41f26661891",
   "metadata": {},
   "source": []
  },
  {
   "cell_type": "markdown",
   "id": "3fcf454e-a6ab-4a30-8339-03cf2fc4fd28",
   "metadata": {},
   "source": []
  },
  {
   "cell_type": "markdown",
   "id": "2cf8d920-ddd0-446f-b982-cc02cd417c86",
   "metadata": {},
   "source": []
  },
  {
   "cell_type": "markdown",
   "id": "02a89d89-919d-48dd-8205-0b8783ca9ee2",
   "metadata": {},
   "source": []
  },
  {
   "cell_type": "markdown",
   "id": "5052a8b7-29f4-4347-a39b-7bae0dd31dd0",
   "metadata": {},
   "source": []
  },
  {
   "cell_type": "markdown",
   "id": "ef475929-8afc-4c89-9ee1-11bf7787ee54",
   "metadata": {},
   "source": []
  },
  {
   "cell_type": "markdown",
   "id": "0514b59c-35eb-4384-a9e7-e430a5d02f28",
   "metadata": {},
   "source": []
  },
  {
   "cell_type": "markdown",
   "id": "f25f42a0-1f5e-4e32-a057-99212b3f0d4a",
   "metadata": {},
   "source": []
  },
  {
   "cell_type": "markdown",
   "id": "b4ef2820-eacb-4e36-8949-2c3e18afadc8",
   "metadata": {},
   "source": []
  },
  {
   "cell_type": "markdown",
   "id": "c8aebc0d-3412-493b-b1c7-68d246d1b7c2",
   "metadata": {},
   "source": []
  },
  {
   "cell_type": "markdown",
   "id": "de33e898-3d5b-40ae-ad52-bd195446b295",
   "metadata": {},
   "source": []
  }
 ],
 "metadata": {
  "kernelspec": {
   "display_name": "Python 3 (ipykernel)",
   "language": "python",
   "name": "python3"
  },
  "language_info": {
   "codemirror_mode": {
    "name": "ipython",
    "version": 3
   },
   "file_extension": ".py",
   "mimetype": "text/x-python",
   "name": "python",
   "nbconvert_exporter": "python",
   "pygments_lexer": "ipython3",
   "version": "3.10.5"
  }
 },
 "nbformat": 4,
 "nbformat_minor": 5
}
