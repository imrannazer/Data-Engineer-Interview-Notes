{
 "cells": [
  {
   "cell_type": "code",
   "execution_count": null,
   "id": "78589e4e-c167-436a-9a52-7047f4fde11e",
   "metadata": {},
   "outputs": [],
   "source": []
  },
  {
   "cell_type": "code",
   "execution_count": null,
   "id": "5442c79e-d94a-49c0-8048-300c525e4b65",
   "metadata": {},
   "outputs": [],
   "source": [
    "# Specify the path to the input file and output file\n",
    "input_file_path = 'path/to/your/input/file.txt'\n",
    "output_file_path = 'path/to/your/output/output.txt'\n",
    "\n",
    "# Read data from the input file line by line and remove blank lines\n",
    "with open(input_file_path, 'r') as input_file:\n",
    "    lines = [line.strip() for line in input_file if line.strip()]\n",
    "\n",
    "# Write non-blank lines to the output file\n",
    "with open(output_file_path, 'w') as output_file:\n",
    "    output_file.write('\\n'.join(lines))\n",
    "\n",
    "print(\"Non-blank lines successfully written to '{}'.\".format(output_file_path))\n"
   ]
  },
  {
   "cell_type": "code",
   "execution_count": null,
   "id": "0296684b-54c7-4285-b1e1-1fa8a718d47f",
   "metadata": {},
   "outputs": [],
   "source": []
  },
  {
   "cell_type": "code",
   "execution_count": 21,
   "id": "da664fb3-3e51-4553-8598-e888a53bfb42",
   "metadata": {},
   "outputs": [
    {
     "name": "stdout",
     "output_type": "stream",
     "text": [
      "only\n",
      "one\n",
      "\n",
      "line\n"
     ]
    }
   ],
   "source": [
    "# Read data from the input file line by line\n",
    "with open(input_file_path, 'r') as input_file:\n",
    "    for line in input_file:\n",
    "        if len(line) != str(0):\n",
    "            print(f\"{line.strip()}\")  # Print or process each line as required\n",
    "            \n",
    "        else:\n",
    "            print(\"blank\")"
   ]
  },
  {
   "cell_type": "code",
   "execution_count": 20,
   "id": "557eecf9-0e0b-41b2-a0f8-7309d533966b",
   "metadata": {},
   "outputs": [
    {
     "name": "stdout",
     "output_type": "stream",
     "text": [
      "**only**\n",
      "****\n",
      "**A.** \n",
      "**one**\n",
      "****\n",
      "**A.** \n",
      "****\n",
      "****\n",
      "**A.** \n",
      "**line**\n",
      "****\n",
      "**A.** \n"
     ]
    }
   ],
   "source": [
    "# Specify the path to the input file\n",
    "input_file_path = 'data.txt'\n",
    "\n",
    "# Read data from the input file line by line\n",
    "with open(input_file_path, 'r') as input_file:\n",
    "    for line in input_file:\n",
    "        if len(line) != str(0):\n",
    "            print(f\"**{line.strip()}**\")  # Print or process each line as required\n",
    "            print(\"****\")\n",
    "            print(\"**A.** \")\n",
    "            \n",
    "        else:\n",
    "            print(\"blank\")"
   ]
  },
  {
   "cell_type": "code",
   "execution_count": null,
   "id": "76ea03c2-29f6-4eb4-8d26-05c5a20612e4",
   "metadata": {},
   "outputs": [],
   "source": []
  },
  {
   "cell_type": "code",
   "execution_count": 5,
   "id": "d0e20b7a-4340-4d90-a03f-3f4382e318a1",
   "metadata": {},
   "outputs": [
    {
     "name": "stdout",
     "output_type": "stream",
     "text": [
      "o\n",
      "n\n",
      "l\n",
      "y\n",
      "\n",
      "\n",
      "o\n",
      "n\n",
      "e\n",
      " \n",
      "\n",
      "\n",
      "l\n",
      "i\n",
      "n\n",
      "e\n"
     ]
    }
   ],
   "source": [
    "input_file_path = 'data.txt'\n",
    "# output_file_path = 'path/to/your/output/output.txt'\n",
    "\n",
    "with open(input_file_path, 'r') as input_file:\n",
    "    data = input_file.read()\n",
    "    for i in data:\n",
    "        print(i)\n",
    "    # print(len(data))\n",
    "\n",
    "# with open(output_file_path, 'w') as output_file:\n",
    "#     output_file.write(data)\n",
    "\n",
    "# print(\"Data successfully read from '{}' and written to '{}'.\".format(input_file_path, output_file_path))\n"
   ]
  },
  {
   "cell_type": "code",
   "execution_count": null,
   "id": "095d0772-6d06-412e-8089-78b41ae6692f",
   "metadata": {},
   "outputs": [],
   "source": []
  },
  {
   "cell_type": "code",
   "execution_count": null,
   "id": "d7b1ace3-c5c1-41a7-b923-3981c7557ce2",
   "metadata": {},
   "outputs": [],
   "source": []
  },
  {
   "cell_type": "code",
   "execution_count": null,
   "id": "2f7a284b-8cb4-43ef-8f7d-84b2050b118c",
   "metadata": {},
   "outputs": [],
   "source": []
  }
 ],
 "metadata": {
  "kernelspec": {
   "display_name": "Python 3 (ipykernel)",
   "language": "python",
   "name": "python3"
  },
  "language_info": {
   "codemirror_mode": {
    "name": "ipython",
    "version": 3
   },
   "file_extension": ".py",
   "mimetype": "text/x-python",
   "name": "python",
   "nbconvert_exporter": "python",
   "pygments_lexer": "ipython3",
   "version": "3.10.5"
  }
 },
 "nbformat": 4,
 "nbformat_minor": 5
}
