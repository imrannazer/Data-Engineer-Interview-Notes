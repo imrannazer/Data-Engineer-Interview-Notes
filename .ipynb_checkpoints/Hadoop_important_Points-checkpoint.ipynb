{
 "cells": [
  {
   "cell_type": "markdown",
   "id": "27579a07-6454-422d-9082-2a1ec03f4682",
   "metadata": {},
   "source": [
    "## Hadoop important Points"
   ]
  },
  {
   "cell_type": "markdown",
   "id": "45c93fa9-4d94-4b32-9fe8-f489584d026e",
   "metadata": {},
   "source": [
    "- Hadoop Components\n",
    "   - Hadoop 1.x\n",
    "      - HDFS\n",
    "      - MR\n",
    "   - Hadoop 2.x | 3.x\n",
    "      - HDFS\n",
    "      - MR\n",
    "      - YARN\n",
    "- Hadoop stores(file system) data in blocks, it is called HDFS\n",
    "- Hadoop processes data in Distributed Processing by using Mapper and Reducer\n",
    "- Open-source Framework, that is free and source are available for everyone\n",
    "- Hadoop works with a cluster of commodity hardware, commodity hardware is cheap hardware \n",
    "- Hadoop works on Master slave architecture cluster\n",
    "- Background program is called demon\n",
    "- Responsibilities of Hadoop Demons\n",
    "  - Name-Node\n",
    "     - Dealing with clients\n",
    "     - Storing metadata in RAM\n",
    "     - Dealing with data node failures\n",
    "  - Secondary Name Node\n",
    "    - Hourly Backup of metadata from Name-Node\n",
    "    - Metadata Backup\n",
    "    - Checkpointing (merge fsimage to editslog)\n",
    "  - Data-Node\n",
    "     - Storing actual data\n",
    "     - Following orders from name-node\n",
    "\n",
    "\n",
    "- limination and salusation in Cluster\n",
    "  - Single point of failure (name-node and job-tracker)\n",
    "    - General node solved this problem, Jeneral Node fetch fsimage instantly when name-node creates it, it is called **High-availability**\n",
    "  - Verticle scaling at RAM of master\n",
    "    - Federation (separation) solves this problem (separate name-node for every domain)"
   ]
  },
  {
   "cell_type": "markdown",
   "id": "39c983d8-6d2c-4b70-bc8d-1924f206a3b0",
   "metadata": {},
   "source": [
    "- Block size is fixed 128MB, but storage is consumed according to file size nor block size"
   ]
  }
 ],
 "metadata": {
  "kernelspec": {
   "display_name": "Python 3 (ipykernel)",
   "language": "python",
   "name": "python3"
  },
  "language_info": {
   "codemirror_mode": {
    "name": "ipython",
    "version": 3
   },
   "file_extension": ".py",
   "mimetype": "text/x-python",
   "name": "python",
   "nbconvert_exporter": "python",
   "pygments_lexer": "ipython3",
   "version": "3.10.5"
  }
 },
 "nbformat": 4,
 "nbformat_minor": 5
}
