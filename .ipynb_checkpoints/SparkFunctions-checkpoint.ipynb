{
 "cells": [
  {
   "cell_type": "markdown",
   "id": "71e75331-c4bc-405e-b5c0-02b917dc1dd6",
   "metadata": {
    "jp-MarkdownHeadingCollapsed": true
   },
   "source": [
    "## Schema Structure"
   ]
  },
  {
   "cell_type": "markdown",
   "id": "d90a5fe8-8706-4b5a-945f-dfbc206473a4",
   "metadata": {},
   "source": [
    "## Date and Time"
   ]
  },
  {
   "cell_type": "markdown",
   "id": "69351c3b-50b5-4f12-bbb3-fb5eac3e5d41",
   "metadata": {},
   "source": [
    "**1.** ` to_timestamp(timestampString:Column,format:String)` : Used to type cast into data and time format (MM-dd-yyyy HH:mm:ss.SSS). You should adjust time format according to data/column.                 \n",
    "**2.** `df.select(to_timestamp(\"data_time_col_name\"))`             \n",
    "**3.** ` df.withColumn('end_time', from_unixtime(unix_timestamp(expr(\"CONCAT(date,' ',time)\"), '%Y-%M-%d %H:%m:%S.%f')))  `: Convert and concat date and time columns."
   ]
  },
  {
   "cell_type": "markdown",
   "id": "c1d1b0af-7bff-4bb5-a513-3fd2a5e507b7",
   "metadata": {},
   "source": [
    "`to_timestamp()` : data and time casting"
   ]
  },
  {
   "cell_type": "markdown",
   "id": "2d661031-61e6-446a-b2d6-8e4c6b4ed883",
   "metadata": {},
   "source": [
    "## How to handle null value"
   ]
  },
  {
   "cell_type": "markdown",
   "id": "e6ee1889-0f9a-4462-b5eb-be9a0f4598ee",
   "metadata": {},
   "source": [
    "`df.na.fill()`"
   ]
  },
  {
   "cell_type": "markdown",
   "id": "c0673fb4-8137-4189-8dec-80ec806b78ad",
   "metadata": {},
   "source": [
    "`df.fillna()`"
   ]
  },
  {
   "cell_type": "markdown",
   "id": "6713f3d1-d3a3-4698-9275-bf95b2eed27b",
   "metadata": {},
   "source": [
    "`desc_null_first()`"
   ]
  },
  {
   "cell_type": "markdown",
   "id": "f0d6506e-0d23-43dc-8be2-66f12db159ad",
   "metadata": {},
   "source": [
    "` df.fillna(0, subset=['col1', 'col2']).show(): Order dataframe from multiple column  `"
   ]
  },
  {
   "cell_type": "markdown",
   "id": "561d975d-9008-4e91-a8ba-a55e6295d375",
   "metadata": {},
   "source": [
    "## Join and combain tables"
   ]
  },
  {
   "cell_type": "markdown",
   "id": "a7a498dd-095d-4e37-bda9-cc53fedde500",
   "metadata": {},
   "source": [
    "` df.join(df2, col(\"id\")==col(\"emp_id\"), \"inner\")  `: Get three parameter, dataframe column and type of join"
   ]
  },
  {
   "cell_type": "markdown",
   "id": "c1e0c65b-f755-497b-ada5-394d5ce35ce8",
   "metadata": {},
   "source": []
  },
  {
   "cell_type": "markdown",
   "id": "18bcb9ad-8963-4d5e-b273-67089a09fccc",
   "metadata": {},
   "source": []
  },
  {
   "cell_type": "markdown",
   "id": "540827c8-eb4a-4645-a41b-2147aa71ed82",
   "metadata": {},
   "source": [
    "## Duplicate Records"
   ]
  },
  {
   "cell_type": "markdown",
   "id": "3a886749-549c-43f4-978f-6309b6f25312",
   "metadata": {},
   "source": [
    "`df.select().distinct() `: The distinct operation in PySpark returns distinct rows based on all columns in the DataFrame, not just a single column.                          "
   ]
  },
  {
   "cell_type": "markdown",
   "id": "dfe6dac7-37ae-4ed2-95ee-625c32079c6c",
   "metadata": {},
   "source": [
    "` df.dropDuplicates([\"department\",\"salary\"])  `: If you specifically want to get distinct values for a single column and still see the entire row, you can use the dropDuplicates "
   ]
  },
  {
   "cell_type": "markdown",
   "id": "743574cc-8e7a-4eeb-8f8c-0c421d91a5dd",
   "metadata": {},
   "source": [
    "` df.dropDuplicates( )  `: Drop duplicate rows                       \n",
    "` df.dropDuplicates(“age”)  `: Drop duplicate rows from age column                                \n",
    "` df.dropDuplicates([“age”, “name”, “city”])  `:  Drop duplicate record form multiple column"
   ]
  },
  {
   "cell_type": "markdown",
   "id": "163ef8d4-dfd2-4d77-bb8c-9ba0a0f80a72",
   "metadata": {},
   "source": [
    "## Advance DataType"
   ]
  },
  {
   "cell_type": "markdown",
   "id": "a4f92b5a-ab2e-4d63-be16-461ebbd1db84",
   "metadata": {},
   "source": [
    "` struct( )  `"
   ]
  },
  {
   "cell_type": "markdown",
   "id": "e4bf54d9-1dad-4a52-bdf1-77aa38149a8f",
   "metadata": {},
   "source": [
    "` array() `"
   ]
  },
  {
   "cell_type": "markdown",
   "id": "71a15acb-3391-44ef-ae93-470cb9147e9d",
   "metadata": {},
   "source": [
    "## Conditional Statement"
   ]
  },
  {
   "cell_type": "markdown",
   "id": "b7076999-3f96-43de-952d-48b072ca090a",
   "metadata": {},
   "source": [
    "`when(when, then).otherwise(col) `: when has two parameter when and then "
   ]
  },
  {
   "cell_type": "markdown",
   "id": "99999baa-1c5a-4d2b-a9fe-7e028d9ebbd5",
   "metadata": {},
   "source": [
    "`expr()`: It is a SQL function to execute SQL-like expressions and to use an existing DataFrame column value as an ***expression argument** to Pyspark built-in functions."
   ]
  },
  {
   "cell_type": "markdown",
   "id": "0a41aa87-3643-4778-af11-714f92a94613",
   "metadata": {},
   "source": [
    "` df.union(df1) `: combain two dataframe vartically."
   ]
  },
  {
   "cell_type": "markdown",
   "id": "07e9b194-a174-4254-8c9b-6435d6a7e609",
   "metadata": {},
   "source": [
    "`df.explain()` : Show DAG plan(how to run your code)"
   ]
  },
  {
   "cell_type": "markdown",
   "id": "bbf26833-e502-42cc-8da7-fd2f0e7e322d",
   "metadata": {},
   "source": [
    "`coalesce().lit()`                    \n",
    "visit : https://spark.apache.org/docs/3.1.1/api/python/reference/api/pyspark.sql.functions.coalesce.html\n"
   ]
  },
  {
   "cell_type": "markdown",
   "id": "0f1fffef-280a-402c-b752-777c2c019595",
   "metadata": {},
   "source": [
    "`df.sample(withReplacement, fraction, seed=None)`: It is a mechanism to get random sample records from the dataset, this is helpful when you have a larger dataset and wanted to analyze/test a subset of the data for example 10% of the original file.**fraction** range b/w 0 to 1"
   ]
  },
  {
   "cell_type": "markdown",
   "id": "4d9413ac-103b-412c-97ae-f13ce987f092",
   "metadata": {},
   "source": [
    "`monotonically_increasing_id()`"
   ]
  },
  {
   "cell_type": "markdown",
   "id": "6599ed2a-cb2a-4472-843b-76d399edf971",
   "metadata": {},
   "source": [
    "`df.orderBy(col(\"col1\").desc() | asc())`: order singel column assiding or dessing order."
   ]
  },
  {
   "cell_type": "markdown",
   "id": "e932eec6-b5ad-4454-99e1-697ebcec1b9e",
   "metadata": {},
   "source": [
    "` df.select(col(\"col1\"),when().otherwise()) `: condition"
   ]
  },
  {
   "cell_type": "markdown",
   "id": "a5e7e94f-6a6c-40a4-81fe-96e1b46e5875",
   "metadata": {},
   "source": [
    "`df.withColumn(string, when(,otherwise).alias())`"
   ]
  },
  {
   "cell_type": "markdown",
   "id": "867d6835-7914-4614-a090-293072189f2f",
   "metadata": {},
   "source": [
    "`date_sub()` : substract date"
   ]
  },
  {
   "cell_type": "markdown",
   "id": "fad01e16-5cb8-4548-bb62-eaef0d3bcf13",
   "metadata": {},
   "source": [
    "` col(\"col1\").cast() `: Type casting dataframe column"
   ]
  },
  {
   "cell_type": "markdown",
   "id": "b17a8932-af14-453e-9ef0-89f65d31d65c",
   "metadata": {},
   "source": [
    "`lit(None)`"
   ]
  },
  {
   "cell_type": "markdown",
   "id": "ba948680-3e19-4a59-97e3-6605505808bb",
   "metadata": {},
   "source": [
    "` df.schema() ` "
   ]
  },
  {
   "cell_type": "markdown",
   "id": "bb35f770-84c8-4dc8-996d-3fa42387a909",
   "metadata": {},
   "source": [
    "`df.selectExpr()`"
   ]
  },
  {
   "cell_type": "markdown",
   "id": "b919ef1f-754f-415c-802c-2588d4a39695",
   "metadata": {},
   "source": [
    "` df.withColumn(\"new_col\",struct(col(\"col1\"),col(\"col2\"),...)) `: Combaine columns to struct data type \r\n"
   ]
  },
  {
   "cell_type": "markdown",
   "id": "12c5e488-3d36-4462-afdf-a0840224221a",
   "metadata": {},
   "source": [
    "` df.withColumn(\"new_col\",array(col(\"col1\"),col(\"col2\"),..)) ` : Combaine columns to array data type "
   ]
  },
  {
   "cell_type": "markdown",
   "id": "303da484-6613-4a7e-86d1-a394442f0ac4",
   "metadata": {},
   "source": [
    "` df.limit(5) `: Show limited column, here only 5"
   ]
  },
  {
   "cell_type": "markdown",
   "id": "fc24756f-b714-4a1f-bc9f-19610dfbe4e4",
   "metadata": {},
   "source": [
    "` df.randomSplit ([x,y])`: Divide dataframe randomly in given ratio, where (x+y=1)"
   ]
  },
  {
   "cell_type": "markdown",
   "id": "87692349-ee8c-429d-8d90-27b806d38e1d",
   "metadata": {},
   "source": [
    "## filter"
   ]
  },
  {
   "cell_type": "markdown",
   "id": "70c46bf6-452d-4190-99da-39377eabc447",
   "metadata": {},
   "source": [
    "` substr() `: create sub string form string column\n",
    "- ` df.withColumn(\"last_character\", col(\"City\").substr(-1, 1)).show() `: get last character from string column\n",
    "- ` df.withColumn(\"last_character\", col(\"City\").substr(1, 1)).show() `: get last character from string column"
   ]
  },
  {
   "cell_type": "markdown",
   "id": "d7baf55d-8409-4c53-ae1d-3244217bd84c",
   "metadata": {},
   "source": [
    "` getItem(0) `: get string from string column by using index number\n",
    "- ` df.withColumn(\"new_City\", split(col(\"City\"), \"\").getItem(0)).show() `"
   ]
  },
  {
   "cell_type": "markdown",
   "id": "5b76bbd5-1496-4844-b4aa-fabf18d9ef8c",
   "metadata": {},
   "source": [
    "` endsWith(str) `: filter an string column which ends with \"str\"\n",
    "- ` df.select(col(\"City\")).filter(col(\"City\").endswith(\"m\")).show() `"
   ]
  },
  {
   "cell_type": "markdown",
   "id": "2205c706-8205-4f82-8651-baa8ccf100aa",
   "metadata": {},
   "source": [
    "` endswith(str) `: filter an string column which ends with \"str\"\n",
    "- ` df.select(col(\"City\")).filter(col(\"City\").endswith(\"m\")).show() `"
   ]
  },
  {
   "cell_type": "markdown",
   "id": "9e947073-3dbb-4cf5-aa33-666bca727d29",
   "metadata": {},
   "source": [
    "` endswith(str) `: filter an string column which ends with \"str\"\n",
    "- ` df.select(col(\"City\")).filter(col(\"City\").startswith(\"m\")).show() `"
   ]
  }
 ],
 "metadata": {
  "kernelspec": {
   "display_name": "Python 3 (ipykernel)",
   "language": "python",
   "name": "python3"
  },
  "language_info": {
   "codemirror_mode": {
    "name": "ipython",
    "version": 3
   },
   "file_extension": ".py",
   "mimetype": "text/x-python",
   "name": "python",
   "nbconvert_exporter": "python",
   "pygments_lexer": "ipython3",
   "version": "3.10.5"
  }
 },
 "nbformat": 4,
 "nbformat_minor": 5
}
