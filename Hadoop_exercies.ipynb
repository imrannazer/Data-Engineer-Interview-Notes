{
 "cells": [
  {
   "cell_type": "markdown",
   "id": "793de70c-e7e8-466a-bc8c-6a399f7924a6",
   "metadata": {
    "editable": true,
    "slideshow": {
     "slide_type": ""
    },
    "tags": []
   },
   "source": [
    "**Q. What is Hadoop**\n",
    "** **\n",
    "**A**. Hadoop is a **distributed** framework with distributed storage and processing mechanisms. It uses HDFS for distributed storage and MapReduce for distributed processing. Hadoop is highly durable and easily scalable\n",
    "\n"
   ]
  },
  {
   "attachments": {},
   "cell_type": "markdown",
   "id": "50817da2-1c38-43c7-a7cd-8fad7dd62119",
   "metadata": {},
   "source": [
    "**Q. What is the 5Vs in big data**\n",
    "****\n",
    "**A.** \n",
    "\n",
    "\n",
    "<div>\n",
    "<div>\n",
    "    <img src=\"https://i.ibb.co/WWSxtn4/5-Vs-of-big-data.jpg\" alt=\"5-Vs-of-big-data\" width=\"500\" height=\"300\" border=\"0\" align=\"right\">    \n",
    "</div>\n",
    "\n",
    "<div>\n",
    "    <ul>\r\n",
    "  <li><strong>Volume:</strong> size of data</li>\r\n",
    "  <li><strong>Velocity:</strong> speed of data generation</l\n",
    "  \n",
    "  <li><strong>Variety:</strong> types of data (structured, semi-structured, or unstructured)</li>\r\n",
    "  <li><strong>Veracity:</strong> inconsistency</li>\r\n",
    "  <li><strong>Value:</strong> data has a huge amount of value</li>\r\n",
    "</ul>\r\n",
    "\n",
    "</div>\n",
    "</div>\n"
   ]
  },
  {
   "cell_type": "markdown",
   "id": "6ba4dfe0-a338-4abe-8fd9-2ffe6f2ac0d9",
   "metadata": {},
   "source": [
    "**Q. How to Hadoop solve big data problem**\n",
    "\n",
    "****\n",
    "**A.**\n",
    "\n",
    "- Volume: HDFS\n"
   ]
  },
  {
   "cell_type": "markdown",
   "id": "fe82ee5b-1f2c-4122-92e1-fbfde4ad08fa",
   "metadata": {},
   "source": [
    "**Q. How long data evolution**\n",
    "****\n",
    "**A.** \n",
    "- 1960 text file\n",
    "- 1970 DBMS\n",
    "- 1980 RDBMS and warehouse\n",
    "- 1995 DFS (distributed file system)\n",
    "- 2003 GFS (google file system)\n",
    "- 2004 MapReduce\n",
    "- 2005 MapReduce on DFS\n",
    "- 2006 Hadoop launch (DFS and MapReduce)\n",
    "- 2007 MapReduce is processing but very complex java code\n",
    "- 2008 hive Founded by Facebook\n",
    "- 2009 Sqoop bring data to the Hadoop\n",
    "- 2010 Claudera solve Hadoop installation And maintenance problem\n",
    "- 2011 Houghton works free for installation and pay for maintenance\n",
    "- 2012 Spark replace MapReduce\n",
    "- 2017 cloudera acquired hoten works\n",
    "- 2022 azure and AWS\n"
   ]
  },
  {
   "cell_type": "markdown",
   "id": "3f17db0c-4047-4fb6-a95e-e84eae66d62d",
   "metadata": {},
   "source": [
    "**Q. What are the components of Hadoop**             \r",
    "** **\n",
    "**A**. There are three main components in Hadoop:\n",
    "-  HDFS for data storage\n",
    "- Map-Reduce for data processing\n",
    "- YARN Resource allocation and the allocation on cluster\r\n"
   ]
  },
  {
   "cell_type": "markdown",
   "id": "a428335d-77ed-401c-bd95-8296da9d80f3",
   "metadata": {},
   "source": [
    "**Q. What is the Hadoop cluster type**\n",
    "** **\n",
    "**A.** Master slave architecture type"
   ]
  },
  {
   "cell_type": "markdown",
   "id": "3b41ce91-678b-4246-8445-7aa1ecec608c",
   "metadata": {},
   "source": [
    "**Q. what is the default block size in Hadoop**\n",
    "** **\n",
    "**A.**  64MB in Hadoop 1.0 and 128MB in Hadoop 2.0 "
   ]
  },
  {
   "cell_type": "markdown",
   "id": "83ef9b3e-3804-423b-bfa9-a4141fe59c86",
   "metadata": {},
   "source": [
    "**Q. How to handle fault tolerance in Hadoop**\n",
    "** **\n",
    "**A.** Hadoop has a replication factor of three(by default and configurable) in which each block gets replicated in case of any node failure (faults) can be handled"
   ]
  },
  {
   "cell_type": "markdown",
   "id": "b46b5595-6ea8-46ec-bce8-5e1ba4d37834",
   "metadata": {},
   "source": [
    "**Q. What is the safe mode in Hadoop**\n",
    "** **\n",
    "**A.** HDFS safe mode in Hadoop is also called a **maintenance mode**. It is a read-only mode that restrict any modification to the file system.\n",
    "- When Namenode gets restarted. To create a FS_image (to serve client) namenode goes to **safe mode** and do checkpointing (merge edit log and fs_image). (namenode is unserviceable that time).\n",
    "- **Caluster initialization** : when an HDFS cluster starts, the name node enters safe-mode to ensure that all data-nodes are up, and running and all blocks are reported\n",
    "- **Manually safe mode** : if required you can use safe mode manually there are some commands     \n",
    "    `> hdfs dfsadmin -safemode enter`          \n",
    "    `> hdfs dfsadmin -safemode get`            \n",
    "    `> hdfs dfsadmin -safemode leave`"
   ]
  },
  {
   "cell_type": "markdown",
   "id": "69b69ec5-ae54-4dc4-8383-4f4dfa92a7c1",
   "metadata": {},
   "source": [
    "**Q. how long heart-beat interval**\n",
    "** **\n",
    "**A.** Heartbeat is a signal from a datanode to namenode in Hadoop \n",
    "- 3s alive\n",
    "- 10s stale\n",
    "- 10 minutes dead"
   ]
  },
  {
   "cell_type": "markdown",
   "id": "98ca7604-e7c5-40f7-b31f-0ab1a69c1953",
   "metadata": {},
   "source": [
    "**Important point related to heartbeat**\n",
    "- Heartbeat single carries data node storage information liveness confirmation and Block reports.\n",
    "- Namenode does not store data on stale data node (heartbeat Signal 10 seconds)"
   ]
  },
  {
   "cell_type": "markdown",
   "id": "d0f11a28-8f11-4cd0-bf4b-6c210248205b",
   "metadata": {},
   "source": [
    "**Q. Explain HDFS architecture**\n",
    "****\n",
    "**A.** \n",
    "\n",
    "<div>\n",
    "    <img src=\"https://i.ibb.co/HYm9YnZ/hdfs-architecture.jpg\" alt=\"hdfs-architecture\" width=\"500\" height=\"600\" align=\"right\" border=\"0\">\n",
    "    <ul>\n",
    "  <li><strong>NameNode</strong>: NameNode stores metadata about files, directories, and block locations. The namespace (namenode) tracks file blocks, but neighbors put actual data content.</li>\n",
    "  <li><strong>DataNode</strong>: DataNodes are worker nodes where the actual data blocks of the file are stored. They communicate regularly with the NameNode, reporting the blocks they hold and their health status.</li>\n",
    "</ul>\n",
    "<h4>Important points in HDFS</h4>\n",
    "<ul>\n",
    "  <li>HDFS can store blocks on different data nodes and also different racks.</li>\n",
    "  <li>Data nodes can communicate with each other for various purposes such as data application, block management, and health monitoring.</li>\n",
    "  <li>When a client obtains permission from the namenode, it can communicate directly with data nodes to perform read and write operations.</li>\n",
    "  <li>Metadata is initially stored on the namenode's hard disk during operation; this metadata is loaded into the namenode's RAM for faster access and efficient management.</li>\n",
    "  <li>When putting a small file on HDFS, it will occupy a full block-space.</li>\n",
    "</ul>\n",
    "\n",
    "\n",
    "\n",
    "</div>\n",
    "\n"
   ]
  },
  {
   "cell_type": "markdown",
   "id": "bc82fcb5-4ffe-483e-b121-bacf314c8410",
   "metadata": {},
   "source": [
    "**Q. What is the zookeeper**\n",
    "****\n",
    "**A.** It is a distributed coordination service that helps manage and synchronize distributed system"
   ]
  },
  {
   "cell_type": "markdown",
   "id": "f7110f6b-9069-4171-adc6-28b2ece730ae",
   "metadata": {},
   "source": [
    "**Q. What is the checkpointing**\n",
    "****\n",
    "**A.** \n",
    "<div>\n",
    "    <div align=\"right\">\n",
    "        <img src=\"https://i.ibb.co/brVrSDD/027.png\" alt=\"027\" width=\"300\" height=\"600\" align=\"right\" border=\"0\">\n",
    "        </div>\n",
    "    <div align=\"left\">\n",
    "    <p style=\"color:black; padding-top:25px;\"> Merging new editlog to old FS_image and creating a new FS_image, this process is called <strong>checkpointing</strong>.</p>\n",
    "</div>\n",
    "</div>\n"
   ]
  },
  {
   "cell_type": "markdown",
   "id": "92bf39f0-fefd-4b95-9b16-99497323e625",
   "metadata": {},
   "source": [
    "**Q. What is the FS_image (file system image) in Hadoop**\n",
    "** **\n",
    "**A.** A FS_image is a snap-short of metadata representing the file system's start at a specific point in time by default it is 1 hour"
   ]
  },
  {
   "cell_type": "markdown",
   "id": "f7acb9aa-36ff-4fed-af3e-8be6f9676928",
   "metadata": {},
   "source": [
    "**Q. What is the edit log in Hadoop?**\n",
    "** **\n",
    "**A.** editlogs are transaction logs that record real-time changes to the metadata of the file system."
   ]
  },
  {
   "cell_type": "markdown",
   "id": "0d90c963-4018-4ab4-9278-d431b9a326c5",
   "metadata": {},
   "source": [
    "**Note** : The FSimage is a bunch of editlogs files therefore a FSimage file size will be greater than editlog file size"
   ]
  },
  {
   "cell_type": "markdown",
   "id": "d95716d8-c571-475a-91d6-658f803fd5f7",
   "metadata": {},
   "source": [
    "**Q. what is the under-replication and over-replication in Hadoop**\n",
    "** **\n",
    "**A.** As default replication factor is 3 if any of the nodes goes down the blocks in the node has only two replication less than 3 in other nodes which we call under-replication, and an aging alive dade node, and his block is called over-replication."
   ]
  },
  {
   "attachments": {},
   "cell_type": "markdown",
   "id": "6fb8427e-9cfa-414c-a556-6ebae31d85af",
   "metadata": {},
   "source": [
    "**Q. What is the split-brain scenario in Hadoop**\n",
    "** **\n",
    "**A.** If dead namenode becomes active and start writing the edit logs to the jurnal node and also when the recent active namenode do the same\n",
    "<img src=\"https://i.ibb.co/jv9pmZQ/028.png\" alt=\"028\" border=\"0\" align=\"right\">"
   ]
  },
  {
   "attachments": {},
   "cell_type": "markdown",
   "id": "6f7d8b39-46b9-42d6-b564-264d9e3290c1",
   "metadata": {},
   "source": [
    "**Q. What is the speculative execution in Hadoop**\n",
    "** **\n",
    "**A.** In Hadoop during speculative execution a certain number of duplicate tasks are launched on a different slave node, and multiple copies of the same map or reduce task can be executed using **speculative execution**.\n",
    "<img src=\"https://i.ibb.co/mTs4G3g/29.png\" alt=\"29\" align=\"right\" border=\"0\">"
   ]
  },
  {
   "cell_type": "markdown",
   "id": "a81b6c7e-c515-4421-8688-1872de86fc77",
   "metadata": {},
   "source": [
    "**Q. What is the high availability in Hadoop**\n",
    "** **\n",
    "\n",
    "<div>\n",
    "    <div>\n",
    "    <strong>A.</strong>\n",
    "    <img src=\"https://i.ibb.co/LYYMfzH/image.png\" alt=\"image\" width=\"400\" height=\"400\" border=\"0\" align=\"right\">    \n",
    "</div>\n",
    "<div>\n",
    "    \n",
    "\n",
    "<p>The high availability feature in Hadoop ensures the availability of the Hadoop cluster without any downtime even in unfavorable conditions like Namenode failure, Datanode failure, machine crash, etc. It means if the machine crashes, data will be accessible from another path.</p>\n",
    "\n",
    "<ul>\n",
    "  <li>High availability must be configured; it is not a default feature.</li>\n",
    "  <li>Zookeeper will decide the active and standby Namenode.</li>\n",
    "  <li>High availability uses communication between the active and standby Namenodes.</li>\n",
    "  <li>Active Namenode uses the in_use.log file.</li>\n",
    "</ul>\n",
    "    \n",
    "</div>\n",
    "</div>\n",
    "\r\n",
    "</ul>\r\n"
   ]
  },
  {
   "cell_type": "markdown",
   "id": "d23a88ae-91ca-4c9b-9c16-4a109f24e4ce",
   "metadata": {},
   "source": [
    "**Q. what is the federation in Hadoop**\n",
    "** **\n",
    "\n",
    "<div>\n",
    "<div>\n",
    "    <img src=\"https://i.ibb.co/1JRxYhy/image.png\" alt=\"image\" width=\"400\" height=\"400\" border=\"0\" align=\"right\">\n",
    "</div>\n",
    "<div>\n",
    "    <p><strong>A.</strong> <strong>Vertical scaling problem at RAM of namenode</strong></p>\r\n",
    "\r\n",
    "<ul>\r\n",
    "  <li>HDFS federation improves the existing HDFS architecture through a clear separation of namespace (namenode) and storage, enabling a generic block storage layer. It enables support for multiple namespaces (namenodes) in the cluster to improve accessibility and isolation.</li>\r\n",
    "  <li>In other words, Federation in Hadoop is an architecture that allows a single Hadoop cluster to scale by using multiple independent namenodes.</li>\r\n",
    "</ul>\r\n",
    "\n",
    "</div>\n",
    "</div>"
   ]
  },
  {
   "cell_type": "markdown",
   "id": "f81b19b2-8fe9-4e40-94a8-b6dfc4abe757",
   "metadata": {},
   "source": [
    "**Important points in federation**\n",
    "- Federation means it is separation\n",
    "- Data notes share metadata with the name node and Hadoop HDFS helps distribute it to different namenode to protect against name node failure\n",
    "- You cannot access namenode metadata directly but must use the Associated Namenode for access"
   ]
  },
  {
   "cell_type": "markdown",
   "id": "f4db31ab-8943-4e29-9736-b0a3f080f42c",
   "metadata": {},
   "source": [
    "**Q. what is the reck awareness in Hadoop**\n",
    "****\n",
    "<div> \n",
    "    <div>\n",
    "        <p>\n",
    "            <strong>A.</strong> \n",
    "            Rack awareness in Hadoop is a concept to choose a nearby data node (closest to the client which has raised the read/write request), thereby reducing the network traffic. Hadoop supports the configuration of rack awareness to ensure the placement of one replica of the data block on a different rack.</p>\n",
    "    </div>\n",
    "    <div>\n",
    "        <img src=\"https://i.ibb.co/j6YVr50/image.png\" alt=\"image\" width=\"500\" heignt=\"500\" border=\"0\" aligh=\"left\" >\n",
    "    </div>\n",
    "</div>"
   ]
  },
  {
   "cell_type": "markdown",
   "id": "b7bbe0a4-0862-4fbf-8999-29f8edddcc05",
   "metadata": {},
   "source": [
    "**Note** \n",
    "\n",
    "- **Intra-Rack communication** : Involves notes within the same rack, and it is typically faster and most efficient\n",
    "- **Inter-Rack communication** : Involves notes in different tracks and may have higher network latency and resource requirement due to the physical separation of the rex within the data center |\r\n"
   ]
  },
  {
   "cell_type": "markdown",
   "id": "db22ecd3-9232-4fb4-80dc-9368db2a2836",
   "metadata": {},
   "source": [
    "**Q. What is the YARN**\n",
    "** **\n",
    "**A.** YARN is a resource management layer in Hadoop responsible for managing and allocating resource to various applications master running on the cluster"
   ]
  },
  {
   "attachments": {},
   "cell_type": "markdown",
   "id": "649b1b55-0182-4dde-8fc5-4346abc3b39d",
   "metadata": {},
   "source": [
    "**Q. Explain the YARN architecture**\n",
    "** **\n",
    "**A.** circuit reallocate resource for distributed data processing\n",
    "\n",
    "<img src=\"https://i.ibb.co/jyQWjSB/01.png\" alt=\"01\" border=\"0\">"
   ]
  },
  {
   "cell_type": "markdown",
   "id": "f78f38d1-ecda-4ca6-8a5f-68a91136bbef",
   "metadata": {},
   "source": [
    "**Hints**\n",
    "- RM : Resource manager\n",
    "- DN : Data node\n",
    "- NN : Name node\n",
    "- IR : Intermediate result\n",
    "- FR : Final result\n",
    "- B : Block\n",
    "- R : Resources"
   ]
  },
  {
   "cell_type": "markdown",
   "id": "fc0b3d19-09af-4f7a-8865-6fdf015a7940",
   "metadata": {},
   "source": [
    "**Q. What is the responsibility of resource manager**\n",
    "** **\n",
    "**A.** It manages the resource within the cluster, It has two components within it called **application manager** and **scheduler** .\n",
    "- **application manager**: It maintenance registry of running application and monitor their execution, application manager check client authentication.\n",
    "- **scheduler**: Responsible for allocating cluster resource among application\n",
    "  \n",
    "Application managers responsibility is to accept job submissions negotiating the first container for executing the application a specific application master and provide the service for restarting the application master container on failure "
   ]
  },
  {
   "cell_type": "markdown",
   "id": "512d9f3a-591e-4485-9899-bf873ace6f8e",
   "metadata": {},
   "source": [
    "**Q. What is the data locality**\n",
    "** **\n",
    "**A.**  transfer code from application master to all node manager it is called data locality"
   ]
  },
  {
   "cell_type": "markdown",
   "id": "87fbe0ae-2ab4-471f-abc3-53c9e7a732b0",
   "metadata": {},
   "source": [
    "**Important points**\n",
    "- Resorts manager failure handled by another resource manager if it is created before application starting\n",
    "- In case of application master failure, resource manager handles this problem and again create a new application masters\n",
    "- In the case of node manager failure application will run another namenode and application master again allocate this task another namenode\n",
    "- Must be no **application master** and **application manager** are different\n",
    "- Application master runs on datanode\n",
    "- Application manager runs on namenode"
   ]
  },
  {
   "cell_type": "markdown",
   "id": "0574731b-55d0-43aa-9f38-07fc9bdee577",
   "metadata": {},
   "source": [
    "**Q. What is the scaling on cluster**\n",
    "** **\n",
    "**A.** Scaling in a cluster refers to the process of adjusting resources either by adding more machines or enhancing existing machine"
   ]
  },
  {
   "cell_type": "markdown",
   "id": "b067130d-4501-40ff-a44f-d13272f3e42a",
   "metadata": {},
   "source": [
    "**Q. How many types of scaling**\n",
    "** **\n",
    "**A.** There is two types of scaling one is horizontal scaling and another is vertical scaling, We use original scaling on cluster\n",
    "- **Horizontal scaling** adding more machine to distribute the node\n",
    "- **Vertical scaling** upgrading or adding resources to a single machine"
   ]
  },
  {
   "cell_type": "markdown",
   "id": "b0d36bba-d40c-466c-9780-6a7df2be25ac",
   "metadata": {},
   "source": [
    "**Q. YARN Vs HDFS**\n",
    "** **\n",
    "**A.**\n",
    "- HDFS : Distributed data storage\n",
    "- YARN : Distributed data processing\n",
    "  \n",
    "<img src=\"https://i.ibb.co/Xks1CJN/002.png\" alt=\"002\" border=\"0\">"
   ]
  },
  {
   "cell_type": "markdown",
   "id": "12ae94b8-9bfe-4e1c-a166-2649fb8ce578",
   "metadata": {},
   "source": [
    "**Q. What is the master slave architecture**\n",
    "** **\n",
    "**A.** This architecture is a design pattern in which a central entity(master) controls and coordinates the action of multiple subordinate entities(slave) to perform a specific task or manage resource"
   ]
  },
  {
   "cell_type": "markdown",
   "id": "fe3d2d61-c5d3-42c7-9f6d-73633854442b",
   "metadata": {},
   "source": [
    "## Important Points"
   ]
  },
  {
   "cell_type": "markdown",
   "id": "adf2ec3d-3466-409c-a067-306611ab4a6c",
   "metadata": {},
   "source": [
    "- Hadoop **Name-Node** web UI port no. is **< hostname >:9870 Hadoop 3.x**\n",
    "- Hadoop **Name-Node** web UI port no. is **< hostname >:50070 Hadoop 2.x**"
   ]
  }
 ],
 "metadata": {
  "kernelspec": {
   "display_name": "Python 3 (ipykernel)",
   "language": "python",
   "name": "python3"
  },
  "language_info": {
   "codemirror_mode": {
    "name": "ipython",
    "version": 3
   },
   "file_extension": ".py",
   "mimetype": "text/x-python",
   "name": "python",
   "nbconvert_exporter": "python",
   "pygments_lexer": "ipython3",
   "version": "3.10.5"
  }
 },
 "nbformat": 4,
 "nbformat_minor": 5
}
