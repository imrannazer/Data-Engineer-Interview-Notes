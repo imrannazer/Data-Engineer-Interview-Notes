{
 "cells": [
  {
   "cell_type": "markdown",
   "id": "793de70c-e7e8-466a-bc8c-6a399f7924a6",
   "metadata": {},
   "source": [
    "**1. What is Hadoop**\n",
    "** **\r",
    "**A**. Hadoop is a** distribute**d framework with distributed storage and processing mechanisms. It uses HDFS for distributed storage and MapReduce for distributed processing. Hadoop is highly durable and easily scalable\r\n"
   ]
  },
  {
   "cell_type": "markdown",
   "id": "3f17db0c-4047-4fb6-a95e-e84eae66d62d",
   "metadata": {},
   "source": [
    "**2. What are the components of Hadoop**             \r",
    "** **\n",
    "**A**. There are three components in Hadoop:\r\n",
    "     - HDFS for data storage\r\n",
    "     - Map-Reduce for data processing\r\n",
    "     - YARN\r\n"
   ]
  },
  {
   "cell_type": "markdown",
   "id": "696c693d-746f-4f04-aa08-9a8ca41f5b19",
   "metadata": {},
   "source": [
    "**3. what is the components of Hadoop**\n",
    "** **\n",
    "**A.** Three type of  components in Hadoop HDFS for data storage Map-Reduce for data processing and YARN  "
   ]
  },
  {
   "cell_type": "markdown",
   "id": "7018bf4e-8fb2-4990-9f65-e6899260c847",
   "metadata": {},
   "source": [
    "**4. What is the YARN**\n",
    "** **\n",
    "**A.** Yarn standard for Yet Another Restores Negotiator it is cluster resource manager"
   ]
  },
  {
   "cell_type": "markdown",
   "id": "a428335d-77ed-401c-bd95-8296da9d80f3",
   "metadata": {},
   "source": [
    "**5. What is the Hadoop cluster type**\n",
    "** **\n",
    "**A.** Master slave architecture type"
   ]
  },
  {
   "cell_type": "markdown",
   "id": "3b41ce91-678b-4246-8445-7aa1ecec608c",
   "metadata": {},
   "source": [
    "**6. what is the default block size in Hadoop**\n",
    "** **\n",
    "**A.**  128MB in Hadoop 2.0 and 64MB in Hadoop 1.0"
   ]
  },
  {
   "cell_type": "markdown",
   "id": "83ef9b3e-3804-423b-bfa9-a4141fe59c86",
   "metadata": {},
   "source": [
    "**7. How to handle fault tolerance in Hadoop**\n",
    "** **\n",
    "**A.** Hadoop has a replication factor of three in which each block gets replicated in case of any node failure (faults) can be handled"
   ]
  },
  {
   "cell_type": "markdown",
   "id": "b46b5595-6ea8-46ec-bce8-5e1ba4d37834",
   "metadata": {},
   "source": [
    "**8. What is the safe mode in Hadoop**\n",
    "** **\n",
    "**A.** When Namenode gets restarted. To create a FS image (to serve client) namenode goes to **safe mode** and do checkpointing (merge edit log and fs image) and leave safe mode. (namenode is unserviceable that time).\n",
    "- HDFS safe mode in Hadoop is also a maintenance mode. It is a read-only mode that restrict any modification to the file system.\n",
    "  - **Caster initialization** : when an HDFS cluster starts, the name node enters safe-mode to ensure that all data-nodes are up, and running and all blocks are reported\n",
    "  - **Manually safe mode** : if required you can use safe mode manually there are some commands     \n",
    "    `> hdfs dfsadmin -safemode enter`          \n",
    "    `> hdfs dfsadmin -safemode get`            \n",
    "    `> hdfs dfsadmin -safemode leave`"
   ]
  },
  {
   "cell_type": "markdown",
   "id": "69b69ec5-ae54-4dc4-8383-4f4dfa92a7c1",
   "metadata": {},
   "source": [
    "**9. how long heart-beat interval**\n",
    "** **\n",
    "**A.** Heartbeat is a signal from a datanode to namenode in Hadoop \n",
    "- 3s alive\n",
    "- 10s stale\n",
    "- 10 minutes dead"
   ]
  },
  {
   "cell_type": "markdown",
   "id": "92bf39f0-fefd-4b95-9b16-99497323e625",
   "metadata": {},
   "source": [
    "**10. What is the FS image (file system image) in Hadoop**\n",
    "** **\n",
    "**A.** A FS_image is a snap-short of metadata representing the file system's start at a specific point in time by default it is 1 hour"
   ]
  },
  {
   "cell_type": "markdown",
   "id": "f7acb9aa-36ff-4fed-af3e-8be6f9676928",
   "metadata": {},
   "source": [
    "**11. What is the edit lag in Hadoop**\n",
    "** **\n",
    "**A.** editlogs are transaction logs that record real-time changes to the metadata of the file system."
   ]
  },
  {
   "cell_type": "markdown",
   "id": "0d90c963-4018-4ab4-9278-d431b9a326c5",
   "metadata": {},
   "source": [
    "**Note** : The FSimage is a bunch of editlogs files therefore a FSimage file size will be greater than editlog file size"
   ]
  },
  {
   "cell_type": "markdown",
   "id": "d95716d8-c571-475a-91d6-658f803fd5f7",
   "metadata": {},
   "source": [
    "**12. what is the under-replication and over-replication in Hadoop**\n",
    "** **\n",
    "**A.** As default replication factor is 3 if any of the nodes goes down the blocks in the node has only two replication less than 3 in other nodes which we call undergut location"
   ]
  },
  {
   "cell_type": "markdown",
   "id": "6fb8427e-9cfa-414c-a556-6ebae31d85af",
   "metadata": {},
   "source": [
    "**13. What is the split brain scenario in Hadoop**\n",
    "** **\n",
    "**A.** If dead namenode becomes active and start writing the edit logs to the jurnal node and also when the recent active namenode do the same"
   ]
  },
  {
   "cell_type": "markdown",
   "id": "6f7d8b39-46b9-42d6-b564-264d9e3290c1",
   "metadata": {},
   "source": [
    "**14. What is the speculative execution in Hadoop**\n",
    "** **\n",
    "**A.** In Hadoop during speculative execution a certain number of duplicate tasks are launched on a different slave node, and multiple copies of the same map or reduce task can be executed using **speculative execution**."
   ]
  },
  {
   "cell_type": "markdown",
   "id": "c976c749-7a15-422c-9f9a-be856096452c",
   "metadata": {},
   "source": [
    "**15. What is the high availability in Hadoop**\n",
    "** **\n",
    "**A.** The high availability feature in Hadoop ensure the availability of the Hadoop cluster without any downtime even in unfavorable condition like namenode failure, datanode failure, machine crash, etc. It means if the machine crashes data will be accessible from another path"
   ]
  },
  {
   "cell_type": "markdown",
   "id": "6805a6f6-718e-40c6-a4a7-52b5d51ffb95",
   "metadata": {},
   "source": [
    "**16. what is the federation in Hadoop**\n",
    "** **\n",
    "**A.** HDFS federation improves the existing HDFS architecture through a clear separation of namespace and storage, enabling generic blog storage layer. It enables support for multiple namespace in the cluster to improve accessibility and isolation."
   ]
  },
  {
   "cell_type": "markdown",
   "id": "c609dc40-9ff4-4d3a-a9ee-ea86d6c43fd0",
   "metadata": {},
   "source": [
    "**17. what is the wreck awareness in Hadoop**\n",
    "** **\n",
    "**A.** Rack awareness in Hadoop is a concept to choice a nearby data node (closest to the client which has raised the read/write request), thereby reducing the network traffic. Hadoop supports the configuration of rack awareness to ensure the placement of one replica of the data block on a different rack."
   ]
  },
  {
   "cell_type": "markdown",
   "id": "db22ecd3-9232-4fb4-80dc-9368db2a2836",
   "metadata": {},
   "source": [
    "**18. What is the YARN**\n",
    "** **\n",
    "**A.** YARN is a resource management layer in Hadoop responsible for managing and allocating resource to various applications master running on the cluster"
   ]
  },
  {
   "cell_type": "markdown",
   "id": "649b1b55-0182-4dde-8fc5-4346abc3b39d",
   "metadata": {},
   "source": [
    "**19. Explain the YARN architecture**\n",
    "** **\n",
    "**A.** "
   ]
  },
  {
   "cell_type": "markdown",
   "id": "fc0b3d19-09af-4f7a-8865-6fdf015a7940",
   "metadata": {},
   "source": [
    "**. **\n",
    "** **\n",
    "**A.**  "
   ]
  },
  {
   "cell_type": "markdown",
   "id": "512d9f3a-591e-4485-9899-bf873ace6f8e",
   "metadata": {},
   "source": [
    "**. **\n",
    "** **\n",
    "**A.**  "
   ]
  },
  {
   "cell_type": "markdown",
   "id": "0574731b-55d0-43aa-9f38-07fc9bdee577",
   "metadata": {},
   "source": [
    "**. **\n",
    "** **\n",
    "**A.**  "
   ]
  },
  {
   "cell_type": "markdown",
   "id": "b067130d-4501-40ff-a44f-d13272f3e42a",
   "metadata": {},
   "source": [
    "**. **\n",
    "** **\n",
    "**A.**  "
   ]
  },
  {
   "cell_type": "markdown",
   "id": "b0d36bba-d40c-466c-9780-6a7df2be25ac",
   "metadata": {},
   "source": [
    "**. **\n",
    "** **\n",
    "**A.**  "
   ]
  },
  {
   "cell_type": "markdown",
   "id": "12ae94b8-9bfe-4e1c-a166-2649fb8ce578",
   "metadata": {},
   "source": [
    "**. **\n",
    "** **\n",
    "**A.**  "
   ]
  },
  {
   "cell_type": "markdown",
   "id": "c7558495-b6ec-4aa9-9376-af41a497b5a2",
   "metadata": {},
   "source": [
    "**. **\n",
    "** **\n",
    "**A.**  "
   ]
  },
  {
   "cell_type": "markdown",
   "id": "894ddeb6-0f81-4927-a3aa-3636f3e51ff6",
   "metadata": {},
   "source": [
    "**. **\n",
    "** **\n",
    "**A.**  "
   ]
  },
  {
   "cell_type": "markdown",
   "id": "8ac3db48-1106-45f8-a2f1-9f166aba8d22",
   "metadata": {},
   "source": [
    "**. **\n",
    "** **\n",
    "**A.**  "
   ]
  },
  {
   "cell_type": "markdown",
   "id": "433deb94-d7a8-453c-86e3-2eff60def1a4",
   "metadata": {},
   "source": [
    "**. **\n",
    "** **\n",
    "**A.**  "
   ]
  },
  {
   "cell_type": "markdown",
   "id": "7cf0ff98-d221-4029-8367-6ebc4de8bd25",
   "metadata": {},
   "source": [
    "**. **\n",
    "** **\n",
    "**A.**  "
   ]
  },
  {
   "cell_type": "markdown",
   "id": "d9173e77-3d36-4e74-b040-104f8eb9696f",
   "metadata": {},
   "source": [
    "**. **\n",
    "** **\n",
    "**A.**  "
   ]
  },
  {
   "cell_type": "markdown",
   "id": "0b3e4ffe-0ecb-4222-b6a5-96f104446982",
   "metadata": {},
   "source": [
    "**. **\n",
    "** **\n",
    "**A.**  "
   ]
  },
  {
   "cell_type": "markdown",
   "id": "0e42c84e-01e6-4d91-8cdf-04db70782683",
   "metadata": {},
   "source": [
    "**. **\n",
    "** **\n",
    "**A.**  "
   ]
  },
  {
   "cell_type": "markdown",
   "id": "60ddd529-0430-4ead-b8cf-b22e8684c827",
   "metadata": {},
   "source": [
    "**. **\n",
    "** **\n",
    "**A.**  "
   ]
  }
 ],
 "metadata": {
  "kernelspec": {
   "display_name": "Python 3 (ipykernel)",
   "language": "python",
   "name": "python3"
  },
  "language_info": {
   "codemirror_mode": {
    "name": "ipython",
    "version": 3
   },
   "file_extension": ".py",
   "mimetype": "text/x-python",
   "name": "python",
   "nbconvert_exporter": "python",
   "pygments_lexer": "ipython3",
   "version": "3.10.5"
  }
 },
 "nbformat": 4,
 "nbformat_minor": 5
}
